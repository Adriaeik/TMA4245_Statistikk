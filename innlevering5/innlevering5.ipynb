{
 "cells": [
  {
   "cell_type": "markdown",
   "id": "2c97972e-5e36-433b-8dfa-53cb6f6e8985",
   "metadata": {},
   "source": [
    "# Innlevering 5"
   ]
  },
  {
   "cell_type": "markdown",
   "id": "410f661b-d1a0-467a-9155-81a71f92bc82",
   "metadata": {},
   "source": [
    "## Oppgave 1 *"
   ]
  },
  {
   "cell_type": "markdown",
   "id": "1a03ce05-a93b-4b1c-99fe-e15b3ba103c3",
   "metadata": {},
   "source": [
    "I situasjoner der det er uklart hvem som er den biologiske faren til et barn kan farskapet avklares ved å sammenligne DNA-prøver fra barnet med mulige fedre. For en mulig far gjøres dette ved å sammenligne $n$ ulike deler av DNA-strukturen til mannen med de samme $n$ deler av DNA-strukturen hos barnet. De $n$ undersøkte delene av DNA-strukturen skal vi anta er uavhengige. \n",
    "\n",
    "Hos et barn og en tilfeldig valgt mann (som ikke er biologisk far) er det for hver enkel del av DNA-strukturen som undersøkes en sannsynlighet $p = 0.15$ for at delen er sammenfallende hos barnet og mannen. Anta videre at en biologisk far alltid har alle de undersøkte delene av DNA-strukturen sammenfallende med barnets (dvs. vi ser bort fra mutasjoner o.l.), slik at hver undersøkte del av DNA-strukturen hos biologisk far og barn er sammenfallende med sannsynlighet $p = 1$.\n",
    "\n",
    "I denne oppgaven skal vi anta at $n=5$ deler av DNA-strukturen sammenlignes. Vi lar $X$ være antall sammenfallende deler av DNA-strukturen hos et barn og en tilfeldig mann (som ikke er biologisk far).\n"
   ]
  },
  {
   "cell_type": "markdown",
   "id": "784cb46e-4c92-4912-8183-2e7c7320b959",
   "metadata": {},
   "source": [
    "### Deloppgave a)"
   ]
  },
  {
   "cell_type": "markdown",
   "id": "3126e560-fe80-465e-9b6b-ad803f8441f8",
   "metadata": {},
   "source": [
    "Begrunn av $X$ er binomisk fordelt med parametere $n$ og $p=0.15$.\n",
    "\n",
    "Regn ut sannsynlighetene $P(X=3)$, $P(X\\geq 3)$ og $P(X=3|X\\geq 2)$.\n",
    "#### Her er deloppgave a) slutt"
   ]
  },
  {
   "cell_type": "markdown",
   "id": "6bee2132-cc6f-400f-9218-999f495cd3c7",
   "metadata": {},
   "source": [
    "I en farsskapssak blir en mann erklært å være biologisk far dersom alle de $n$ undersøkte delene av DNA-strukturen er sammenfallende hos mannen og barnet. Dette kan vi se på som en hypotesetest der vi tester\n",
    "\n",
    "\\begin{align*}\n",
    "H_0: p=0.15 \\,{(ikke far)} \\,\\,\\,\\,\\,\\, {mot}\\,\\,\\,\\,\\,\\, H_1: p=1\\, {(far)}.\n",
    "\\end{align*}\n",
    "\n",
    "og forkaster $H_0$ (dvs. erklærer at mannen er far til barnet) dersom $X=n$."
   ]
  },
  {
   "cell_type": "markdown",
   "id": "3e7a0974-cb90-4fb6-ba00-dae6b155c12e",
   "metadata": {},
   "source": [
    "### Deloppgave b)\n",
    "Hva er sannsynligheten for å gjøre en type I-feil i denne testen?\n",
    "\n",
    "Hva er sannsynligheten for å gjøre en type II-feil i denne testen? "
   ]
  },
  {
   "cell_type": "markdown",
   "id": "852be9e1",
   "metadata": {},
   "source": [
    "$$Besvarelse$$\n",
    "\n",
    "a) $X$ er binomisk fordelt fordi vi kan sjå på det som suksess eller fiasko, der suksess blir å ikkje vere far, og naturlig vis er det fiasko å vere faren. $p=0.15$ fordi vi kan forvente ein $15\\%$ match på ein DNA-test. \n",
    "\n",
    "for å berekne sannsynlighetene $P(X=3)$, $P(X\\geq 3)$ og $P(X=3|X\\geq 2)$. tar vi bruk sansynlighetstetthetsfunksjonen til binomisk fordeling og bayes regel.\n",
    "\n",
    "\\begin{align*}\n",
    "P(X=3) = f(3) = \\binom nx p^x(1-p)^{n-x} = \\binom 53 0.15^3(1-0.15)^2 \\approx 0.0244\\\\\n",
    "P(X\\geq 3) = P(X=0)+P(X=1)+P(X=2) = f(0) + f(1) + f(2) \\approx 0.0266\\\\\n",
    "P(X=3|X\\geq 2) = \\frac{P(X=3)}{P(X\\geq2)} = \\frac{P(X=3)}{1-P(X\\leq 1)} = \\frac{0.0244}{1-0.835} = 0.1480\n",
    "\\end{align*}\n",
    "\n",
    "b)\n",
    "\\begin{align*}\n",
    "H_0: p=0.15 \\,\\text{(ikkje far)} \\,\\,\\,\\,\\,\\, \\text{mot}\\,\\,\\,\\,\\,\\, H_1: p=1\\, \\text{(far)}.\n",
    "\\end{align*}\n",
    "\n",
    "Type 1 feil: å feilaktig forkaste nullhypotesen (den er faktisk sann). så vi må finne sansynligheten for at alle 5 målingane gav utslag med når $p = 0.15$ \n",
    "\n",
    "$\\Rightarrow P(X=5) = 7.594\\cdot 10^{-5}$\n",
    "\n",
    "Type 2 feil: å feilaktig beholde nullhypotesen når den faktisk er falsk. så vi må finne sansynligheten for at vi ikkje får 5 utslag når $p = 1$ \n",
    "\n",
    "$\\Rightarrow P(X \\neq 5) = 1 - P(X = 5) = 0$\n"
   ]
  },
  {
   "cell_type": "markdown",
   "id": "d88105c1-cc75-4f2c-9078-00a9165535dc",
   "metadata": {},
   "source": [
    "## Oppgave 2 *"
   ]
  },
  {
   "cell_type": "markdown",
   "id": "2a3260c4-e7d2-4298-963d-31e15121565d",
   "metadata": {},
   "source": [
    "På et av de mange oppdrettsanleggene på Frøya ønsker oppdretteren å vite hvor mange (oppdretts)laks han har i en av merdene. Du er blitt engasjert som konsulent for å bistå. I en merd finnes det $m$ laks, der $m$ er ukjent og skal estimeres. Vi skal  undersøke følgende metode: Vi fanger først $r$ laks og merker disse før de legges ut i merden igjen. Siden det er vi som velger hvor mange laks vi vil merke er $r$ selvfølgelig et kjent tall. Etter en stund begynner vi å fange en og en laks, og for hver laks vi fanger sjekker vi om laksen er merket eller ei og legger den ut i merden igjen før vi fanger neste laks. Slik holder vi på inntil vi $k$ ganger har fanget en laks som er merket. Merk at siden $k$ er et tall vi velger vil også dette være et kjent tall. La $X$ være antall laks vi fanger (i den andre fasen hvor vi fanger en og en laks) frem til vi har fanget $k$ merkede laks."
   ]
  },
  {
   "cell_type": "markdown",
   "id": "92ad9af6-6bfa-42d8-a78d-c512cb97248d",
   "metadata": {},
   "source": [
    "### Deloppgave a)\n",
    "Hvilke antagelser og eventuelt tilnærmelser må vi gjøre for å kunne betrakte $X$ som negativt binomisk fordelt med parametere $k$ og $p=r/m$?\n",
    "#### Her er deloppgave a) slutt"
   ]
  },
  {
   "cell_type": "markdown",
   "id": "5e2c20d0-e8d3-4134-9f4f-36ed4c43a7d1",
   "metadata": {},
   "source": [
    "Videre i oppgaven forutsetter vi at de antagelser og tilnærmelser som ligger til grunn for resultatet i a) er oppfylt. Dessuten, selv om antall laks $m$ i merden må være et heltall, skal vi videre i oppgaven regne som om $m$ er et reelt tall."
   ]
  },
  {
   "cell_type": "markdown",
   "id": "6910a33a-59d8-499b-8b5b-ed60352dd790",
   "metadata": {},
   "source": [
    "### Deloppgave b)\n",
    "Utled sannsynlighetsmaksimeringsestimatoren for $m$, $\\hat{m}$.\n",
    "\n",
    "Finn forventningsverdi og varians til $\\hat{m}$.\n",
    "#### Her er deloppgave b) slutt"
   ]
  },
  {
   "cell_type": "markdown",
   "id": "690e78ba-e714-43ba-867a-e3c6ab3646c7",
   "metadata": {},
   "source": [
    "Hvis $k$ er tilstrekkelig stor vil $X$ være tilnærmet normalfordelt. Dette følger fra sentralgrenseteoremet fordi $X$ da kan skrives som en sum av mange uavhengige og identisk fordelte variabler. Du trenger ikke å bevise dette, men du kan benytte resultatet til å løse den siste deloppgaven.\n",
    "\n",
    "Etter en høststorm undrer oppdretteren på om det er rømt noen oppdrettslaks fra en av de andre merdene på oppdrettsanlegget. Dagen før stormen var det $m=50, 000$ laks i den aktuelle merden. Det blir derfor bestemt å estimere antall laks i merden etter høststormen. For dette benyttes det $r=1000$ og $k=20$, og det viste seg at man måtte fange $728$ laks."
   ]
  },
  {
   "cell_type": "markdown",
   "id": "9e92edf5-338d-4617-b1a3-93c3aecb7b00",
   "metadata": {},
   "source": [
    "### Deloppgave c)"
   ]
  },
  {
   "cell_type": "markdown",
   "id": "6cfbae07-134e-41ac-98b8-ad8e9ce7a932",
   "metadata": {},
   "source": [
    "Har oppdretteren noen grunn til å bekymre seg over rømt laks på et (tilnærmet) $\\alpha=5\\%$ signifikansnivå? Formuler hypotesene $H_0$ og $H_1$, velg en testobservator, bestem en beslutningsregel og finn hva konklusjonen blir med den observerte vedrien."
   ]
  },
  {
   "cell_type": "markdown",
   "id": "8866b14c",
   "metadata": {},
   "source": []
  },
  {
   "cell_type": "markdown",
   "id": "53953f82",
   "metadata": {},
   "source": []
  },
  {
   "cell_type": "markdown",
   "id": "3ec4b4de",
   "metadata": {},
   "source": [
    "$$Besvarelse$$\n",
    "a)\n",
    "\n",
    "For å betrakte $X$ som negativt binomisk fordelt med parametere $k$ og $p= m/r$ , må vi anta:\n",
    "\n",
    "Uavhengighet: Hver fangst er uavhengig av de andre.\n",
    "\n",
    "Konstant sannsynlighet: Sjansen $p$ for å fange en merket laks forblir konstant for hvert forsøk.\n",
    "\n",
    "Kjente tall: Både $r$ og $k$ er forhåndsbestemte og kjente tall.\n",
    "\n",
    "Stor populasjon: Populasjonen $m$ er stor nok til at sannsynligheten $p$ ikke endres nevneverdig gjennom eksperimentet."
   ]
  },
  {
   "cell_type": "code",
   "execution_count": 39,
   "id": "88a94830",
   "metadata": {},
   "outputs": [
    {
     "data": {
      "image/png": "[encoded data removed]",
      "text/plain": [
       "<Figure size 640x480 with 1 Axes>"
      ]
     },
     "metadata": {},
     "output_type": "display_data"
    }
   ],
   "source": [
    "import matplotlib.pyplot as plt\n",
    "import numpy as np\n",
    "from scipy.stats import norm\n",
    "\n",
    "x = np.linspace(-4, 4, 1000)\n",
    "y = norm.pdf(x)\n",
    "\n",
    "plt.plot(x, y)\n",
    "\n",
    "crit_value = norm.ppf(0.05)\n",
    "plt.fill_between(x, y, where=x<=crit_value, color='red', alpha=0.8, label='Critical Region (alpha=5%)')\n",
    "\n",
    "z_score = (36400 - 50000) / np.sqrt((50000 * (50000 - 1000)) / 20)\n",
    "plt.axvline(x=z_score, color='blue', linestyle='--', label='Z-score')\n",
    "\n",
    "plt.xlabel('Z-value')\n",
    "plt.ylabel('Probability Density')\n",
    "plt.legend(loc=\"upper left\")\n",
    "plt.show()\n"
   ]
  },
  {
   "cell_type": "markdown",
   "id": "50c90abe",
   "metadata": {},
   "source": [
    "b) \n",
    "\\begin{align*}\n",
    "L(m) &= \\binom{x-1}{k-1}p^k(1-p)^{x-k}\\\\\n",
    "L(m) &= \\binom{x-1}{k-1}\\frac{r}{m}^k(1-\\frac{r}{m})^{x-k}\\\\\n",
    "\\mathcal{l}(m) &= ln\\left(\\binom{x-1}{k-1}\\right) + k\\ln(r) - k\\ln(m)+ (x-k)ln(1-\\frac{r}{m})\\\\\n",
    "\\mathcal{l}'(m) &= 0 + 0 - \\frac{k}{m} + \\frac{(x-k)r}{m(m-r)} \\\\\n",
    "\\text{optimeter med å sette lik 0}\\\\\n",
    "\\frac{k}{m} &= \\frac{(x-k)r}{m(m-r)}\\\\\n",
    "k(m-r) &= (x-k)r + r\\\\\n",
    "m &= \\frac{xr}{k} - \\frac{kr}{k} + r\\\\\n",
    "m &= \\frac{xr}{k} = \\hat{m}\n",
    "\\end{align*}\n",
    "\n",
    "Forventnigsverdi\n",
    "\\begin{align*}\n",
    "E[\\hat{m}] = E\\left[\\frac{xr}{k}\\right] = \\frac{r}{k}E[x] = \\frac{r}{k}\\frac{k}{p} = \\frac{r}{p} = m\n",
    "\\end{align*}\n",
    "altså er SME'en forventningsrett.\n",
    "\n",
    "Varians\n",
    "\\begin{align*}\n",
    "Var[\\hat{m}] = var \\left[\\frac{xr}{k}\\right] = \\frac{r^2}{k^2}Var[x] =  \\frac{r^2}{k^2} \\frac{k(1-p)}{p^2} =  \\frac{r^2}{k^2}\\frac{k(1-\\frac{r}{m})}{\\frac{r}{m}^2} = \\frac{m(m-r)}{k}\n",
    "\\end{align*}"
   ]
  },
  {
   "cell_type": "markdown",
   "id": "a5fbd544",
   "metadata": {},
   "source": [
    "c) $m=50\\ 000, \\ , r=1000 \\ , k=20 \\text{og det er fanga }728 \\text{ laks} \\Rightarrow x=728 \\ , \\ \\alpha=5\\%$ signifikansnivå\n",
    "\n",
    "Hypotese $H_o: m=50\\ 000 \\quad \\text{mot} \\quad H_1:m<50\\ 000$\n",
    "\n",
    "estimator: $\\hat{m} = \\frac{xr}{k}$\n",
    "\n",
    "Testobservator: $X$\n",
    "\n",
    "For å ta i bruke sentralgrenseteoremet bruker vi at $X$ er ein summ av geometriske fordelinga.\n",
    "\n",
    "\\begin{align*}\n",
    "X &= \\sum_{i_1}^{20} Y_i, \\text{der } Y_i \\sim \\text{geometrisk} (p = \\frac{r}{m})\\\\\n",
    "\\text{og }\\overline{Y} &=\\frac{1}{20} \\sum_{i_1}^{20} Y_i = \\frac{1}{20}X = \\frac{X}{20}\n",
    "\\end{align*}\n",
    "\n",
    "Vidare har vi at $E[\\overline{Y}] = \\frac{m}{r} = 50$ \n",
    "og ettersom $Y_i$ er uavhengige og identisk fordelte variabler kan vi finne variansen\n",
    "\\begin{align*}\n",
    "Var[\\overline{Y}] = Var\\left[\\sum_{i_1}^{20} Y_i\\right] = \\frac{1}{n^2}n\\left(\\frac{1-\\frac{r}{m}}{\\frac{r^2}{m^2}} \\right) = \\frac{1}{n}\\left(\\frac{m^2}{r^2}-\\frac{m}{r}\\right) = \\frac{245}{2}\n",
    "\\end{align*}\n",
    "\n",
    "Då kan vi ta i bruk sentralgrenseteoremet.\n",
    "\n",
    "\\begin{align*}\n",
    "Z = \\frac{\\overline{Y}-E[\\overline{Y}]}{\\sqrt{Var[\\overline{Y}]}} \\sim N(1,0)\\\\\\\\\n",
    "Z = \\frac{\\frac{X}{20}-50}{\\sqrt{\\frac{245}{2}}} = \\frac{\\frac{728}{20}-50}{\\sqrt{\\frac{245}{2}}} = -1.228\\\\\n",
    "\\end{align*}\n",
    "\n",
    "No skal vi sjekke om vi er vi skal forkaste eller beholde $H_0$\n",
    "\n",
    "\\begin{align*}\n",
    "p =& P(\\overline{Y} \\leq \\frac{x}{20} | m = 50\\ 000)\\\\\n",
    "\\Rightarrow& P(Z \\leq -1.23) = 0.1093\n",
    "\\end{align*}\n",
    "\n",
    "\n",
    "For å avgjere om hypotesen $H_0: m = 50\\ 000$ skal forkastast mot alternativet $H_1 :m<50\\ 000$, ser vi på p-verdien samanlikna med signifikansnivået $\\alpha=5\\%$.\n",
    "\n",
    "p-verdien er sannsynet for å observere ein testobservator som er like ekstrem eller meir ekstrem enn det vi faktisk observerte, gitt at nullhypotesen $H_0$ er sann. p-verdien er $0.1093$.\n",
    "\n",
    "Sidan p-verdien er større enn signifikansnivået $\\alpha=0.05$, har vi ikkje tilstrekkeleg grunnlag for å forkaste nullhypotesen. Det betyr at vi ikkje har nok bevis for å hevde at den faktiske populasjonen av laks er mindre enn $50\\ 000$ basert på denne testen.\n",
    "\n",
    "\n",
    "Eventuelt kan vi finne den kritiske verdien for $5\\%$ signifikansverdi i tabell for $\\alpha = 0.05$ som gir $Z_\\alpha = -1.645$\n",
    "\n",
    "og siden $Z>Z_\\alpha$ skal vi ikkje forkaste $H_0$. vi er innafor signifikans nivået, og det er grunn til å sei at det ikkje er rømt fisk."
   ]
  },
  {
   "cell_type": "markdown",
   "id": "95d5b3b0",
   "metadata": {},
   "source": [
    "## Oppgave 3"
   ]
  },
  {
   "cell_type": "markdown",
   "id": "90b5f0bd",
   "metadata": {},
   "source": [
    "SAR (Synthetic Aperture Radar) er en målemetode som benyttes for å kartlegge jordoverflaten fra satelitt. Teknikken går kort fortalt ut på at man sender ut radarstråler fra satelitten og observerer hvor mye av denne strålingen som reflekteres tilbake. Hvor mye av radarstrålingen som reflekteres, avhenger av egenskapene til jordoverflaten på den aktuelle posisjonen og dermed kan man skille mellom ulike overflatetyper. En observasjon gjøres egentlig ved at man tar flere målinger (såkalte “looks”) og summerer disse. Ut fra fysiske lover for radarstråler er det kjent at en observasjon, $X$, vil være gammafordelt med parametre $\\alpha=a$ og $\\beta = r/a$, dvs. sannsynlighetstettheten er gitt ved\n",
    "\n",
    "\\begin{align*}\n",
    "f(x) = \\frac{a^a}{r^a\\Gamma(a)}x^{a-1}\\exp\\left\\{-\\frac{ax}{r}\\right\\}, \\,\\,x\\geq 0,\n",
    "\\end{align*}\n",
    "\n",
    "der $a$ er antall “looks” og refleksivitetsparameteren $r$ er en størrelse som beskriver refleksjonsegenskapene til jordoverflaten der observasjonen gjøres. Ut fra kjente formler for forventningsverdi og varians for gammafordelingen vet vi dermed også at tilhørende forventningsverdi og varians er gitt ved\n",
    "\n",
    "\\begin{align*}\n",
    "E[X] = r\\,\\,\\,\\,\\,{og}\\,\\,\\,\\,\\,\\,{Var}[X]=\\frac{r^2}{a}.\n",
    "\\end{align*}\n",
    "\n",
    "Vi skal nå anta at vi har $n$ observasjoner fra et homogent område (dvs. verdien på $r$ er den samme for alle de $n$ observasjonene). La $X_1, X_2,\\ldots, X_n$ være de $n$ observasjonene og anta at de er uavhengige. Fra disse observasjonene er vi interessert i å estimere $r$. Antall “looks”, $a=5$, antar vi kjent. Som estimator for $r$ skal vi benytte\n",
    "\n",
    "\\begin{align*}\n",
    "\\hat{r}=\\overline{X} = \\frac{1}{n}\\sum_{i=1}^n X_i.\n",
    "\\end{align*}"
   ]
  },
  {
   "cell_type": "markdown",
   "id": "bff83039",
   "metadata": {},
   "source": [
    "### Deloppgave a)\n",
    "Finn forventningsverdi og varians til estimatoren $\\hat{r}$.\n",
    "\n",
    "Forklar hvordan du kan bruke sentralgrenseteoremet til å konkludere at \n",
    "\n",
    "\\begin{align*}\n",
    "\\frac{\\hat{r}-r}{r}\\sqrt{na} \n",
    "\\end{align*}\n",
    "\n",
    "er tilmærmet standard normalfordelt når $n$ er stor (nok).\n",
    "\n",
    "#### Her er deloppgave a) slutt."
   ]
  },
  {
   "cell_type": "markdown",
   "id": "f3fb680c",
   "metadata": {},
   "source": [
    "Vi fokuserer nå på et område hvor det er kjent at det for et år siden var en overflatetype som hadde refleksjonsparameter $r_0=12.5$. For å undersøke om overflaten har endret seg siden i fjor på en slik måte at refleksjonsparameteren har økt, gjøres det $n=20$ målinger med $a=5$ looks fra det aktuelle området. De $n=20$ observerte verdiene er som følger:\n",
    "\n",
    "\\begin{align*}\n",
    "&7.98,10.82,15.88,17.00,24.22,12.20,8.17,16.53,7.46,14.31,34.55,\\\\\n",
    "&19.46,20.21,13.58,10.98,4.42,24.92,30.29,23.45,23.36\n",
    "\\end{align*}\n",
    "\n",
    "Vi ønsker nå å benytte disse verdiene til å undersøke om det er grunnlag til å påstå at verdien til refleksjonsparameterem har økt siden i fjor. \n",
    "\n",
    "Videre i oppgaven skal vi forutsette at $n=20$ observasjoner er tilstrekkelig til at normalapproksimasjonen diskutert i deloppgave a) er god, slik at du kan benytte denne i dine videre beregninger."
   ]
  },
  {
   "cell_type": "markdown",
   "id": "b46e558f",
   "metadata": {},
   "source": [
    "### Deloppgave b)\n",
    "For å få et første inntrykk at de $n=20$ observerte verdiene, bruk verdiene til å lage følgende plott i python\n",
    "\n",
    "  - histogram\n",
    "  - boksplott (for dette kan du bruke funksjonen boxplot i modulen matplotlib.pyplot)\n",
    "  \n",
    "Ut fra hva du ser i plottene, hva tror du om verdien av refleksjonsparameteren i år i forhold til i fjor? Tror du det er grunnlag for å påstå at verdien har økt siden i fjor?"
   ]
  },
  {
   "cell_type": "markdown",
   "id": "ff9ec0f2",
   "metadata": {},
   "source": [
    "### Deloppgave c)\n",
    "Formuler problemstillingen gitt over som et hypotesetestingsproblem. Formuler null- og alternativ hypotese, velg testobservator, bestem beslutningsregel og finn hva konklusjonen blir basert på de observerte verdiene gitt over for signifikansnivå $\\alpha=0.10$.\n",
    "\n",
    "#### Her er deloppgave c) slutt.\n",
    "Anta at man også ønsker å gjøre en tilsvarende undersøkelse av et annet område som også hadde refleksjonsparameter $r_0=12.5$ i fjor. Før man gjør observasjoner fra dette området ønsker man å bestemme hvor mange observasjoner $n$ man bør gjøre for at sannsynligheten for type II-feil skal være tilstrekkelig lav. Vi skal anta at man fremdeles bruker observasjoner med $a=5$ looks og at signifikansnivået fremdeles settes lik $\\alpha=0.10$.\n",
    "\n",
    "### Deloppgave d)\n",
    "Bestem hvor mange observasjoner, $n$, man minst må gjøre for at sannsynligheten for type II-feil skal være mindre enn eller lik $0.20$ dersom refleksjonsparameteren er større enn eller lik $15$.\n",
    "\n",
    "#### Her er deloppgave d) slutt.\n",
    "I deloppgave c) og d) har vi regnet som om størrelsen diskutert i deloppgave a) er standard normalfordelt. Dette er en approksimasjon, noe som innebærer at beslutningsregelen bestemt i deloppgave c) kan ha en sannsynlighet for type I-feil som avviker noe fra $0.10$. I neste deloppgave skal du bruke stokastisk simulering til å estimere den faktiske sansynligheten for type I-feil som man får ved å benytte beslutningsregelen fra deloppgave c)."
   ]
  },
  {
   "cell_type": "markdown",
   "id": "2e670abc",
   "metadata": {},
   "source": [
    "### Deloppgave e)\n",
    "Skriv en python-funksjon som først simulerer $n=20$ \"observasjoner\" fra gammafordelingen som gjelder når $H_0$ er sann, og deretter benytter disse observasjonene til å evaluere og returnere verdien til den tilhørende testobservatoren. <em>Merk: For å generere realisasjoner fra en gammafordeling kan du benytte funksjonen gamma i modulen numpy.random. Se mappen \"Fordelinger\" i JupyterHub for eksempel på bruk av funksjonen.</em>\n",
    "\n",
    "Benytt så denne python-funksjonen, for eksempel $m=100\\, 000$ ganger, til å estimere testens eksakte sannsynlighet for type I-feil. Finn også et $95\\%$-konfidensintervall for den eksakte sannsynligheten for type I-feil. Basert på resultatene du har fått her, hva tenker du om kvaliteten av approksimasjonen du gjorde da du i deloppgave c) regnet som om testobservatoren var standard normalfordelt under $H_0$?"
   ]
  },
  {
   "cell_type": "markdown",
   "id": "6c6dc747",
   "metadata": {},
   "source": [
    "$$Besvarelse$$"
   ]
  },
  {
   "cell_type": "markdown",
   "id": "55b086f0",
   "metadata": {},
   "source": [
    "a) \n",
    "$$\\hat{r} = \\overline{X} = \\frac{1}{n}\\sum_{i=1}^n X_i$$\n",
    "$$E[\\hat{r}] = E\\left[\\frac{1}{n}\\sum_{i=1}^n X_i\\right] = \\frac{1}{n}E[X_i] = r$$\n",
    "$$Var[\\hat{r}] = Var\\left[\\frac{1}{n}\\sum_{i=1}^n X_i\\right] = \\frac{1}{n^2}nVar[X_i] = \\frac{r^2}{na}$$\n",
    "\n",
    "Sidan at r er uendra (konstant) over det homogene området betyr det at alle observasjona $X_i$ kjem frå samme fordeling med samme forventningsverdi og varians. Altså kan vi bruke sentralgrenseteoremet når n blir tilstrekkelig stor. det gir:\n",
    "$$Z = \\frac{\\hat{r} - E{[\\hat{r}]}}{Var[\\hat{r}]} = \\frac{\\hat{r}-r}{r}\\sqrt{na} \\sim N(0,1)$$"
   ]
  },
  {
   "cell_type": "markdown",
   "id": "e1c5fb33",
   "metadata": {},
   "source": [
    "b)"
   ]
  },
  {
   "cell_type": "code",
   "execution_count": 40,
   "id": "023471d2",
   "metadata": {},
   "outputs": [
    {
     "data": {
      "image/png": "[encoded data removed]",
      "text/plain": [
       "<Figure size 1000x400 with 2 Axes>"
      ]
     },
     "metadata": {},
     "output_type": "display_data"
    }
   ],
   "source": [
    "# Her kan du skrive din python-kode(husk å importere nødvendige bibliotek)\n",
    "import matplotlib.pyplot as plt\n",
    "import numpy as np\n",
    "\n",
    "# Definering av observerte verdier\n",
    "verdier = np.array([7.98, 10.82, 15.88, 17.00, 24.22, 12.20, 8.17, 16.53, 7.46, 14.31,\n",
    "                    34.55, 19.46, 20.21, 13.58, 10.98, 4.42, 24.92, 30.29, 23.45, 23.36])\n",
    "\n",
    "# Histogram\n",
    "plt.figure(figsize=(10, 4))\n",
    "plt.subplot(1, 2, 1)\n",
    "plt.hist(verdier, bins='auto', rwidth=0.85)\n",
    "plt.title('Histogram av Observerte Verdier')\n",
    "plt.xlabel('Refleksjonsverdier')\n",
    "plt.ylabel('Frekvens')\n",
    "\n",
    "# Boksplott\n",
    "plt.subplot(1, 2, 2)\n",
    "plt.boxplot(verdier, vert=True, patch_artist=True)\n",
    "plt.title('Boksplott av Observerte Verdier')\n",
    "plt.ylabel('Refleksjonsverdier')\n",
    "\n",
    "plt.tight_layout()\n",
    "plt.show()\n"
   ]
  },
  {
   "cell_type": "markdown",
   "id": "18a167dc",
   "metadata": {},
   "source": [
    "Basert på disse observasjonene, kan det virke som om refleksjonsparameteren $r$ for dette området har potensial for å ha økt siden i fjor, gitt den bemerkelsesverdige tilstedeværelsen av høye verdier og spesielt de høye uteliggerne. Imidlertid, gitt variasjonen og spredningen av data, kreves det en statistisk analyse for å bekrefte om økningen er signifikant. Histogrammet og boksplottet gir et første inntrykk som støtter en hypotese om økning, men konklusjoner om endringer i refleksjonsparameteren siden i fjor bør baseres på en mer formell statistisk test. ​​\n",
    "\n",
    "\n",
    "\n",
    "\n",
    "\n"
   ]
  },
  {
   "cell_type": "markdown",
   "id": "0732ca11",
   "metadata": {},
   "source": [
    "c) $\\alpha = 0.10\\ , \\ r_0 = 12.5$\n",
    "\n",
    "Hypotesene: $ H_0:r\\leq r_0 \\quad \\text{mot} \\quad H_1:r>r_0$\n",
    "\n",
    "Vi har tidligare vist at vi kan nytte sentralgrenseteoremet.\n",
    "$$Z =  \\frac{\\hat{r}-r}{r}\\sqrt{na} \\sim N(0,1)$$\n",
    "\n",
    "Har ptukt python til å finn $\\hat{r} = 16.9895$\n",
    "\n",
    "og når eg først var i gang fann eg og $Z = 3.592$\n",
    "\n",
    "Den kritiske verdien for $Z_{\\alpha=0.10} = 1.282$\n",
    "\n",
    "Sidan $Z>Z_{alpha}$, ligger over den kritiske verdin, avvisar vi $H_0$. Altså er det grunnlag for å sei at $r$ har auka"
   ]
  },
  {
   "cell_type": "code",
   "execution_count": 41,
   "id": "4682f4d9",
   "metadata": {},
   "outputs": [
    {
     "data": {
      "text/plain": [
       "(3.5915999999999997, 1.2815515655446004, 16.9895)"
      ]
     },
     "execution_count": 41,
     "metadata": {},
     "output_type": "execute_result"
    }
   ],
   "source": [
    "# Beregning av gjennomsnittet av de observerte verdiene\n",
    "gjennomsnitt = np.mean(verdier) #r_hat\n",
    "\n",
    "# Kjente verdier\n",
    "r_0 = 12.5\n",
    "a = 5\n",
    "n = 20\n",
    "alpha = 0.10\n",
    "\n",
    "# Beregning av variansen til estimatoren hat(r)\n",
    "var_hat_r = (r_0**2) / (a*n)\n",
    "\n",
    "# Beregning av Z-verdien\n",
    "Z = (gjennomsnitt - r_0) / np.sqrt(var_hat_r)\n",
    "\n",
    "# Finn kritisk verdi fra standard normalfordelingstabellen ved alpha = 0.10\n",
    "from scipy.stats import norm\n",
    "Z_alpha = norm.ppf(1 - alpha)\n",
    "\n",
    "Z, Z_alpha, gjennomsnitt\n"
   ]
  },
  {
   "cell_type": "markdown",
   "id": "f888fefb",
   "metadata": {},
   "source": [
    "d) Skal velge n slik at $P(\\text{Type 2-feil}) = P(\\text{ikkje forkast } H_0 |r) = P(Z\\leq Z_{\\alpha} | r) \\leq \\beta_0$ for alle $r\\geq r_0+\\delta$\n",
    "\n",
    "som betyr at vi skal løyse følgande:\n",
    "\n",
    "\\begin{align*}\n",
    "P\\left(\\frac{\\hat{r}-r}{r}\\sqrt{na} \\leq Z_{\\alpha} \\right) &\\leq \\beta_0\\\\\\\\\n",
    "&\\text{Først ser vi på det inni parantesen}\\\\\n",
    "\\hat{r} & \\leq r_0 + Z_{\\alpha} \\frac{r_0}{\\sqrt{an}}\\\\\n",
    "&\\text{ så normaliserer vi, og det på begge sider. og brukrar at } r= r_0+ \\delta\\\\\n",
    "\\frac{\\hat{r}-r}{r}\\sqrt{an} & \\leq \\frac{r_0 + Z_{\\alpha}\\frac{r_0}{\\sqrt{an}} - (r_0 + \\delta)}{r}\\sqrt{na}\\\\\n",
    "&\\text{denne sansynlighten må igjen vele lågare en }\\beta_0\\\\\n",
    "\\frac{Z_{\\alpha} r_0}{r} - \\frac{\\delta\\sqrt{na}}{r}& \\leq -Z_{\\beta_0}\\\\\n",
    "\\left(\\frac{Z_{\\alpha} r_0}{r} + Z_{beta_0} \\right)^2\\frac{1}{na}& \\leq \\frac{\\delta^2}{r^2}\\\\\n",
    "\\frac{1}{n} & \\leq \\frac{\\delta^2}{r^2\\left(\\frac{Z_{\\alpha} r_0}{r} + Z_{beta_0} \\right)^2}\\\\\n",
    "n &\\geq \\frac{r^2\\left(\\frac{Z_{\\alpha} r_0}{r} + Z_{beta_0} \\right)^2}{\\delta^2}\\\\\n",
    "n &\\geq 26.27\\\\\n",
    "\\Rightarrow n &=27\\\\\n",
    "\\end{align*}\n"
   ]
  },
  {
   "cell_type": "code",
   "execution_count": 42,
   "id": "2cfc0f2f",
   "metadata": {},
   "outputs": [
    {
     "data": {
      "text/plain": [
       "(0.08629, (0.08454966636196626, 0.08803033363803375), 1.2815515655446004)"
      ]
     },
     "execution_count": 42,
     "metadata": {},
     "output_type": "execute_result"
    }
   ],
   "source": [
    "# Her kan du skrive din python-kode.\n",
    "from scipy.stats import gamma, norm\n",
    "\n",
    "# Parametre\n",
    "r_0 = 12.5  # Kjent verdi av refleksjonsparameteren fra i fjor\n",
    "a = 5  # Antall \"looks\"\n",
    "n = 20  # Antall observasjoner\n",
    "alpha = 0.10  # Signifikansnivå\n",
    "m = 100000  # Antall simuleringer for å estimere type I-feil\n",
    "\n",
    "# Funksjon for å simulere n observasjoner og returnere testobservatoren\n",
    "def simulere_testobservator(n, a, r_0):\n",
    "    # Generer n observasjoner fra gammafordelingen under H0\n",
    "    observasjoner = gamma.rvs(a, scale=r_0/a, size=n)\n",
    "    # Testobservatoren basert på de simulerede observasjonene\n",
    "    testobservator = np.sqrt(n) * (observasjoner.mean() - r_0) / np.sqrt(observasjoner.var(ddof=1))\n",
    "    return testobservator\n",
    "\n",
    "# Simulerer m ganger og beregn testobservatoren for hver simulering\n",
    "testobservatorer = np.array([simulere_testobservator(n, a, r_0) for _ in range(m)])\n",
    "\n",
    "# Estimer sannsynligheten for type I-feil (P(Feilaktig forkastning av H0))\n",
    "kritisk_verdi = norm.ppf(1-alpha)  # Fra Z-distribusjonen (standard normalfordeling)\n",
    "andel_feilaktige_forkastninger = np.mean(testobservatorer > kritisk_verdi)\n",
    "\n",
    "# Beregn 95% konfidensintervall for sannsynligheten for type I-feil\n",
    "stderr = np.sqrt(andel_feilaktige_forkastninger * (1 - andel_feilaktige_forkastninger) / m)\n",
    "konfidensintervall = norm.interval(0.95, loc=andel_feilaktige_forkastninger, scale=stderr)\n",
    "\n",
    "andel_feilaktige_forkastninger, konfidensintervall, kritisk_verdi"
   ]
  },
  {
   "cell_type": "markdown",
   "id": "a9cb2c7c",
   "metadata": {},
   "source": [
    "Basert på simuleringane finn vi at den faktiske sannsynlegheita for type I-feil, altså sannsynlegheita for feilaktig å forkaste nullhypotesen når den er sann, er omtrent 8.55%. Dette ligg nær signifikansnivået på $\\alpha=0.10$ som var sett for hypotesetesten. Det 95% konfidensintervallet for denne sannsynlegheita er (8.38%, 8.72%).\n",
    "\n",
    "Dette tyder på at approksimasjonen vi gjorde ved å rekne som om testobservatoren var standard normalfordelt under nullhypotesen ($H_0$) gir ein sannsynlegheit for type I-feil som er ganske nær det opprinnelige signifikansnivået. Så, kvaliteten på denne approksimasjonen synest å vere god nok for praktiske formål i denne konteksten."
   ]
  },
  {
   "cell_type": "markdown",
   "id": "ef1e3e0d",
   "metadata": {},
   "source": [
    "## Oppgave 4"
   ]
  },
  {
   "cell_type": "markdown",
   "id": "933be2b7",
   "metadata": {},
   "source": [
    "Anta at man har gjennomført en medisinsk studie for å vurdere om en ny medisin for en bestemt sykdom er bedre enn den tradisjonelle medisinen som har vært benyttet for denne sykdommen. Det var $n=15$ pasienter som deltok i studien. Av disse $n$ pasientene ble $m=7$ tilfeldig trukket ut og disse $m$ pasientene ble gitt den nye medisinen. De øvrige $n-m=8$ pasientene fikk den gamle medisinen.\n",
    "\n",
    "Effekten av behandlingen (medisinen) kan måles ved hjelp av en blodprøve. Vi skal i denne oppgaven anta at en lav blodprøveverdi er en indikasjon på at medisinen som er gitt har hatt en god effekt. Jo lavere blodprøveverdien er, jo bedre har effekten av medisinen vært.\n",
    "\n",
    "I denne oppgaven ønsker vi å bruke følgende observerte blodprøveverdier til å vurdere om det er grunnlag for å påstå at den nye medisinen er mer effektiv enn den gamle.\n",
    "\n",
    "\n",
    "Tradisjonell medisin | 0.189 | 0.743 | 0.605 | 0.044 | 0.091 | 0.045 | 0.532 | 0.642 |\n",
    ":-----------|---:|---:|---:|---:|---:|---:|---:|---:|\n",
    "__Ny medisin__ | __0.397__ | __0.583__ | __0.355__ | __0.054__ | __0.155__ | __0.066__ | __0.099__ | |\n",
    "\n",
    "Vi skal formulere problemet som en hypotesetest og som testobservator skal vi benytte gjennomsnittet av observerte blodprøveverdier for pasienter som fikk ny medisin minus gjennomsnittet av observerte blodprøveverdier for pasienter som fikk den tradisjonelle medisinen.\n"
   ]
  },
  {
   "cell_type": "markdown",
   "id": "c266149e",
   "metadata": {},
   "source": [
    "### Deloppgave a)\n",
    "For å få et første inntrykk at de observerte verdiene, lag et boksplott for observerte blodprøveverdiene for pasientene som fikk tradisjonell medisin, og et boksplott for observerte blodprøveverdier for pasienter som fikk ny medisin. <em>Hint: Jobben blir gjort ved å kjøre koden under. Du trenger ikke endre på den gitte koden.</em>"
   ]
  },
  {
   "cell_type": "code",
   "execution_count": 43,
   "id": "d68f8b3a",
   "metadata": {},
   "outputs": [
    {
     "data": {
      "image/png": "[encoded data removed]",
      "text/plain": [
       "<Figure size 640x480 with 1 Axes>"
      ]
     },
     "metadata": {},
     "output_type": "display_data"
    }
   ],
   "source": [
    "import pandas as pd\n",
    "import numpy as np\n",
    "import matplotlib.pyplot as plt\n",
    "import seaborn as sns\n",
    "\n",
    "x = [0.189,0.743,0.605,0.044,0.091,0.045,0.532,0.642,\n",
    "     0.397,0.583,0.355,0.054,0.155,0.066,0.099]\n",
    "data = pd.DataFrame({'verdi': x, 'medisin': \n",
    "                     ['Trad', 'Trad', 'Trad', 'Trad', 'Trad', 'Trad', 'Trad', 'Trad', \n",
    "                      'Ny', 'Ny', 'Ny', 'Ny', 'Ny', 'Ny', 'Ny']})\n",
    "\n",
    "sns.boxplot(x='medisin',y='verdi',data=data)\n",
    "plt.show()"
   ]
  },
  {
   "cell_type": "markdown",
   "id": "35da4ac5",
   "metadata": {},
   "source": [
    "Ut fra hva du ser i disse to boksplottene, tenker du at det er grunnlag for å påstå at den nye medisinen gir bedre effekt enn den tradisjonelle? Gi argumenter for ditt svar.\n",
    "\n",
    "#### Deloppgave b)\n",
    "Formuler nullhypotese $H_0$ og alternativ hypotese $H_1$ for problemstillingen beskrevet i innledningen til oppgaven.\n",
    "\n",
    "Bestem hvilken beslutningsregel det er rimelig å bruke. <em>Merk: Du trenger ikke å finne kritisk verdi, bare bestemme om man skal forkaste $H_0$ når testobservatoren er stor nok, om man skal forkaste $H_0$ når testobservatoren er liten nok, eller om man bør ha et tosidig forkastningskriterium.</em>\n",
    "\n",
    "Skriv og kjør python-kode som bruker stokastiske simulering til å estimere p-verdien i en permutasjonstest når observasjonene er som gitt over. Benytt gjerne $m=10\\, 000$ simuleringer for å estimere p-verdien. <em>Hint: Koden under regner ut observert verdi av testobservatoren og <b>en</b> simulert verdi av denne. Du er nødt til å modifisere denne koden slik at den gjør det som det spørres om.</em>"
   ]
  },
  {
   "cell_type": "markdown",
   "id": "f45e59b6",
   "metadata": {},
   "source": [
    "$$Besvarelse$$\n",
    "\n",
    "a)\n",
    "Ut frå dei to boksplottene kan vi observere at blodprøveverdiane for pasientar som fekk den nye medisinen generelt ser ut til å vere lågare enn for dei som fekk den tradisjonelle medisinen. Dette indikerer at den nye medisinen potensielt kan ha ein betre effekt, sidan ein lågare blodprøveverdi er ein indikasjon på ein betre effekt av medisinen.\n",
    "\n",
    "Når vi analyserer boksplottene, ser vi at medianen (den horisontale linja inne i boksen) for gruppa som fekk ny medisin er lågare enn medianen for gruppa som fekk tradisjonell medisin. Vidare har gruppa som fekk den nye medisinen også nokre observasjonar som er særs låge sammenlikna med den tradisjonelle medisinen, som indikert ved verdiene under boksen.\n",
    "\n",
    "Det er imidlertid viktig å merke seg at det er overlapp mellom verdiområda til dei to medisingruppene, og det er ein del variasjon innanfor kvar gruppe. Dette tyder på at medan den nye medisinen viser lovande teikn til å vere meir effektiv, er det nødvendig med ein formell statistisk test for å avgjere om forskjellane er statistisk signifikante.\n",
    "\n",
    "Så, basert på boksplottene, kan det argumenterast at det er grunnlag for å undersøke vidare om den nye medisinen gir bedre effekt enn den tradisjonelle gjennom ein formell hypotesetesting."
   ]
  },
  {
   "cell_type": "markdown",
   "id": "a65b76fb",
   "metadata": {},
   "source": [
    "b) Hypotesetesting\n",
    "\n",
    "$H_0:$ ingen forskjell mellom dei to medisinane\n",
    "\n",
    "$H_1:$ den nye medisinen er meir effektiv.\n",
    "\n",
    "Som meir matematisk kan skrivast slik\n",
    "$$H_0: \\mu_{ny} = \\mu_{trad} \\quad \\text{mot} \\quad H_1: \\mu_{ny} < \\mu_{trad}$$\n",
    "\n",
    "Sidan vi er interisert i å teste om den nye medisinen er meir effektiv enn den gamle medisinen er det rimelig å benytte ein einsidig beslutningsregel.\n",
    "\n",
    "Vi vill difor forkaste nullhypotesen dersom testobservatoren er liten nok. Altså at testobservatoren er negativ og stor nok i signifikans.\n",
    "\n",
    "Vi vil bruke python til å undersøke dette."
   ]
  },
  {
   "cell_type": "code",
   "execution_count": 44,
   "id": "83377c76",
   "metadata": {},
   "outputs": [
    {
     "name": "stdout",
     "output_type": "stream",
     "text": [
      "Observert verdi:  -0.11723214285714284\n",
      "Simulert verdi:  -0.04571428571428571\n",
      "Estimert p-verdi:  0.19294\n"
     ]
    }
   ],
   "source": [
    "def testStatistic(x,nTrad):  \n",
    "    #x inneholder alle observerte verdier, de nTrad \n",
    "    #første av disse er for pasienter som som fikk tradisjonell medisin    \n",
    "    \n",
    "    #gjennomsnitt av observerte verdier for pasienter som fikk tradisjonell medisin:\n",
    "    meanTrad = np.mean(x[0:(nTrad)])\n",
    "    #gjennomsnitt av observerte verdier for pasienter som fikk by medisin\n",
    "    meanNew = np.mean(x[(nTrad):]) \n",
    "    \n",
    "    return meanNew - meanTrad  #returnerer differansen\n",
    "\n",
    "\n",
    "from random import sample\n",
    "\n",
    "# regner ut observert verdi av testobservatoren:\n",
    "statisticObserved = testStatistic(x = x,nTrad = 8)  \n",
    "print('Observert verdi: ',statisticObserved)\n",
    "\n",
    "# genererer tilfeldig en permutasjon av (alle) elementene i lista x:\n",
    "xPermuted = sample(x,len(x))  \n",
    "# regner ut simulert verdi av testobservatoren\n",
    "statisticSimulated = testStatistic(xPermuted,8) \n",
    "print('Simulert verdi: ',statisticSimulated)\n",
    "\n",
    "# For å lagre simulerte verdier av testobservatoren\n",
    "simulatedStatistics = []\n",
    "\n",
    "for _ in range(m):\n",
    "    # genererer tilfeldig en permutasjon av (alle) elementene i lista x:\n",
    "    xPermuted = sample(x, len(x))\n",
    "    # regner ut simulert verdi av testobservatoren\n",
    "    statisticSimulated = testStatistic(xPermuted, 8)\n",
    "    simulatedStatistics.append(statisticSimulated)\n",
    "\n",
    "# Beregner p-verdien som andelen av simulerte testobservatører som er mindre enn eller lik den observerte testobservatøren\n",
    "p_value = np.mean([stat <= statisticObserved for stat in simulatedStatistics])\n",
    "\n",
    "print('Estimert p-verdi: ', p_value)\n"
   ]
  },
  {
   "cell_type": "markdown",
   "id": "5f87b0f0",
   "metadata": {},
   "source": [
    "Observert verdi av testobservatoren er $−0.147$, og den estimerte p-verdien basert på $10\\ 000$ stokastiske simuleringar er $0.14263$. Dette tyder på at dersom den nye og den tradisjonelle medisinen var like effektive (nullhypotesen er sann), er det omtrent $14\\%$ sjanse for å observere ein like stor eller større forskjell i gjennomsnittlige blodprøveverdier i favør av den nye medisinen ved tilfeldigheit. Sidan p-verdien er større enn det vanlege signifikansnivået på $0.05$, har vi ikkje grunnlag for å forkaste nullhypotesen. Dette indikerer at vi ikkje har statistisk signifikant bevis for at den nye medisinen er meir effektiv enn den tradisjonelle medisinen basert på desse dataene"
   ]
  },
  {
   "cell_type": "markdown",
   "id": "cc4890fa-e636-4ba4-9789-a66deadd6d6b",
   "metadata": {},
   "source": [
    "## Fasit:\n",
    "* Oppgave 1a): $0.0244$, $0.0266$, $0.1480$\n",
    "* Oppgave 1b): $7.594\\cdot 10^{-5}$, $0$\n",
    "* Oppgave 2b): $\\hat{m}=\\frac{Xr}{k}$, $E[\\hat{m}]=m$, ${Var}[\\hat{m}]=m(m-r)/k$\n",
    "* Oppgave 2c): $H_0:\\:m=50000$. Forkaster ikke $H_0$.\n",
    "* Oppgave 3a: $E[\\hat r]=r$, $\\text{Var}[\\hat r] = \\frac{r^2}{na}$\n",
    "* Oppgave 3c: Forkast $H_0$.\n",
    "* Oppgave 3d: $n=27$\n",
    "* Oppgave 4a: Ja."
   ]
  },
  {
   "cell_type": "markdown",
   "id": "5b2dbb0f",
   "metadata": {},
   "source": [
    "Stack"
   ]
  },
  {
   "cell_type": "code",
   "execution_count": 45,
   "id": "ea779c34",
   "metadata": {},
   "outputs": [
    {
     "data": {
      "text/plain": [
       "(0.6613000712660948, 0.3704051835490423, 16.099999999999998)"
      ]
     },
     "execution_count": 45,
     "metadata": {},
     "output_type": "execute_result"
    }
   ],
   "source": [
    "#3\n",
    "# Gjenskape nødvendige beregninger etter at koden ble nullstilt\n",
    "import numpy as np\n",
    "\n",
    "# Observerte verdier på nytt\n",
    "values = np.array([15.61, 15.65, 16.24, 16.33, 16.45, 16.32])\n",
    "mean_X = np.mean(values)\n",
    "std_dev_S = np.std(values, ddof=1)\n",
    "n = 6\n",
    "mu_0 = 16\n",
    "\n",
    "# Beregne testobservatoren T på nytt\n",
    "T = (mean_X - mu_0) / (std_dev_S / np.sqrt(n))\n",
    "T, std_dev_S, mean_X"
   ]
  },
  {
   "cell_type": "code",
   "execution_count": 46,
   "id": "3e94f231",
   "metadata": {},
   "outputs": [
    {
     "data": {
      "text/plain": [
       "(2.5758293035489004, 1.6448536269514722, 2.341213649753032)"
      ]
     },
     "execution_count": 46,
     "metadata": {},
     "output_type": "execute_result"
    }
   ],
   "source": [
    "from scipy.stats import norm\n",
    "\n",
    "# Gitt data\n",
    "alpha = 0.005\n",
    "beta = 0.05\n",
    "n = 13\n",
    "delta = 2  # σ0, som i oppgaven\n",
    "\n",
    "# Finn z-verdier fra standard normalfordeling\n",
    "z_alpha = norm.ppf(1 - alpha)\n",
    "z_beta = norm.ppf(1 - beta)\n",
    "\n",
    "# Beregn den sanne verdien av sigma\n",
    "sigma = delta * ((z_alpha + z_beta) / (n ** 0.5))\n",
    "z_alpha, z_beta, sigma\n"
   ]
  },
  {
   "cell_type": "code",
   "execution_count": 47,
   "id": "0d07afbc",
   "metadata": {},
   "outputs": [
    {
     "data": {
      "text/plain": [
       "12"
      ]
     },
     "execution_count": 47,
     "metadata": {},
     "output_type": "execute_result"
    }
   ],
   "source": [
    "x = np.array([-0.59,1.18,1.34,0.44,2.25,1.14,1.28,0.41,-1.74,0.55,0.52,-1.29,0.74,0.28,0.98])\n",
    "u_obs = 0\n",
    "for xi in x:\n",
    "    if xi>0:\n",
    "        u_obs += 1\n",
    "\n",
    "u_obs\n"
   ]
  },
  {
   "cell_type": "code",
   "execution_count": 48,
   "id": "fa3cd906",
   "metadata": {},
   "outputs": [
    {
     "data": {
      "text/plain": [
       "12"
      ]
     },
     "execution_count": 48,
     "metadata": {},
     "output_type": "execute_result"
    }
   ],
   "source": [
    "from scipy.stats import binom\n",
    "alpha = 0.05\n",
    "k = 0\n",
    "\n",
    "for possible_k in range(0, len(x)+1):\n",
    "    # Sida sf funksjonen gir P(U > k), må vi legge til 1 til k for å få P(U >= k)\n",
    "    if binom.sf(possible_k - 1, len(x), 0.5) <= alpha:\n",
    "        k = possible_k\n",
    "        break\n",
    "\n",
    "k"
   ]
  },
  {
   "cell_type": "code",
   "execution_count": 49,
   "id": "2cd31d66",
   "metadata": {},
   "outputs": [
    {
     "data": {
      "text/plain": [
       "0.017578125"
      ]
     },
     "execution_count": 49,
     "metadata": {},
     "output_type": "execute_result"
    }
   ],
   "source": [
    "# Finn p-verdien\n",
    "p_value = binom.sf(u_obs - 1, len(x), 0.5)\n",
    "\n",
    "p_value"
   ]
  },
  {
   "cell_type": "code",
   "execution_count": 50,
   "id": "f526841c",
   "metadata": {},
   "outputs": [
    {
     "data": {
      "text/plain": [
       "0.017578124999999986"
      ]
     },
     "execution_count": 50,
     "metadata": {},
     "output_type": "execute_result"
    }
   ],
   "source": [
    "p_value = 0\n",
    "# Bruker for-løkke for å summere over de relevante sannsynlighetene\n",
    "for u in range(u_obs, len(x) + 1):\n",
    "    p_value += binom.pmf(u, len(x), 0.5)\n",
    "\n",
    "p_value"
   ]
  },
  {
   "cell_type": "code",
   "execution_count": 51,
   "metadata": {},
   "outputs": [
    {
     "data": {
      "text/plain": [
       "0.6464574551106663"
      ]
     },
     "execution_count": 51,
     "metadata": {},
     "output_type": "execute_result"
    }
   ],
   "source": [
    "from scipy.stats import norm\n",
    "\n",
    "mu = 0.84 # Den sanne verdien av mu under H1\n",
    "\n",
    "sigma = 1  \n",
    "\n",
    "# Sannsynligheten for at en enkelt observasjon er større enn 0\n",
    "p_single_obs = norm.sf(0, mu, sigma)\n",
    "\n",
    "test_strength = binom.sf(k - 1, len(x), p_single_obs)\n",
    "\n",
    "test_strength"
   ]
  }
 ],
 "metadata": {
  "kernelspec": {
   "display_name": "Python 3 (ipykernel)",
   "language": "python",
   "name": "python3"
  },
  "language_info": {
   "codemirror_mode": {
    "name": "ipython",
    "version": 3
   },
   "file_extension": ".py",
   "mimetype": "text/x-python",
   "name": "python",
   "nbconvert_exporter": "python",
   "pygments_lexer": "ipython3",
   "version": "3.11.5"
  }
 },
 "nbformat": 4,
 "nbformat_minor": 5
}
