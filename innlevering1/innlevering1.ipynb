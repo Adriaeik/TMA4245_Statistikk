{
 "cells": [
  {
   "cell_type": "code",
   "execution_count": 73,
   "id": "bc95e7f4",
   "metadata": {},
   "outputs": [
    {
     "data": {
      "text/html": [
       "\n",
       "<style>\n",
       "body {\n",
       "    font-family: 'STIXGeneral', sans-serif; \n",
       "}\n",
       "</style>\n"
      ],
      "text/plain": [
       "<IPython.core.display.HTML object>"
      ]
     },
     "execution_count": 73,
     "metadata": {},
     "output_type": "execute_result"
    }
   ],
   "source": [
    "from IPython.core.display import HTML\n",
    "\n",
    "style = \"\"\"\n",
    "<style>\n",
    "body {\n",
    "    font-family: 'STIXGeneral', sans-serif; \n",
    "}\n",
    "</style>\n",
    "\"\"\"\n",
    "\n",
    "HTML(style)\n"
   ]
  },
  {
   "cell_type": "markdown",
   "id": "d45235cc-9600-4091-9259-0a42122e1c69",
   "metadata": {},
   "source": [
    "# Skriftlig innlevering 1, Oppgave 1-8"
   ]
  },
  {
   "cell_type": "markdown",
   "id": "63a74b7b-f03c-4c04-99a0-caf7109a2992",
   "metadata": {},
   "source": [
    "\n",
    "\n",
    "## Oppgave 1 *"
   ]
  },
  {
   "cell_type": "markdown",
   "id": "4238ebd0-eb7c-4e57-8316-b2a6803aca47",
   "metadata": {},
   "source": [
    "For å bestemme matematiske uttrykk for sannsynligheter av hendelser er det ofte enklest å visualisere sannsynligheten for hendelsen som et areal i et venndiagram. Start med å overbevise deg selv om at $P(A^\\prime)=1-P(A)$ og at $P(A\\cup B)= P(A) + P(B) -P(A\\cap B)$ for hendelser $A$ og $B$ i et utfallsrom $S$ ved hjelp av venndiagram.\n",
    "Vis deretter at følgende sannsynligheter er like"
   ]
  },
  {
   "cell_type": "markdown",
   "id": "0831b147-323e-48eb-85df-cff4f039a7e4",
   "metadata": {},
   "source": [
    "\\begin{align*}\n",
    "        P((A\\cup B)^\\prime) &= P(A^\\prime \\cap B^\\prime),\\\\\n",
    "        P((A\\cap B)^\\prime) &= P(A^\\prime \\cup B^\\prime).\\\\\n",
    "\\end{align*}"
   ]
  },
  {
   "cell_type": "markdown",
   "id": "2d8e1547",
   "metadata": {},
   "source": [
    "Tips: tegn og skravér i ett venndiagram for hver side av likhetstegnet."
   ]
  },
  {
   "cell_type": "markdown",
   "id": "8745b48e",
   "metadata": {},
   "source": [
    "Tekstoppgaver kommer nederst i PDFen"
   ]
  },
  {
   "cell_type": "markdown",
   "id": "64798b83",
   "metadata": {},
   "source": [
    "$$\n",
    "Besvarelse\n",
    "$$"
   ]
  },
  {
   "cell_type": "code",
   "execution_count": 74,
   "id": "3ce2ca76",
   "metadata": {},
   "outputs": [
    {
     "data": {
      "image/png": "[encoded data removed]",
      "text/plain": [
       "<Figure size 640x480 with 1 Axes>"
      ]
     },
     "metadata": {},
     "output_type": "display_data"
    },
    {
     "data": {
      "image/png": "[encoded data removed]",
      "text/plain": [
       "<Figure size 640x480 with 1 Axes>"
      ]
     },
     "metadata": {},
     "output_type": "display_data"
    }
   ],
   "source": [
    "import matplotlib.pyplot as plt\n",
    "from matplotlib_venn import venn2\n",
    "\n",
    "set1 = set(['A','C'])\n",
    "set2 = set(['B','C'])\n",
    "\n",
    "\n",
    "venn2([set1, set()], ('A', ''))\n",
    "plt.show()\n",
    "venn2([set1, set2], ('A', 'B'))\n",
    "plt.show()"
   ]
  },
  {
   "cell_type": "markdown",
   "id": "048c4a16",
   "metadata": {},
   "source": [
    "Visst $S=1$, så blir $P(A')=P(S)-P(A)=1-P(A)$.\n",
    "Og vi ser av venn diagrammet at $A\\cap A'=Ø$  \n",
    "\n",
    "For å bevise dei to identitetane, bruker vi egenskapene til komplementære sett og uniona og snitt av sett. dei identitetane er kjent som De Morgans lover:\n",
    "\n",
    "1. **Bevis for $ P((A \\cup B)^\\prime) = P(A^\\prime \\cap B^\\prime) $**\n",
    "\n",
    "   - $ (A \\cup B)^\\prime $ er komplementa til unionen av setta $ A $ og $ B $. Som betyr at det inneheldei  alle elementer som ikkje er i $ A $ eller $ B $.\n",
    "   - $ A^\\prime \\cap B^\\prime $ er snittet av komplementa til $ A $ og $ B $. ditta betyr at det innehelde alle elementer som ikkje er i $ A $ og ikkje i $ B $.\n",
    "   - Sia begge dissa settene innehelde nøyaktig dei samme elementene (dei som ikkje er i $ A $ eller $ B $), er dei like, og derfor er deira sannsynligheta like.\n",
    "\n",
    "2. **Bevis for $ P((A \\cap B)^\\prime) = P(A^\\prime \\cup B^\\prime) $**\n",
    "\n",
    "   - $ (A \\cap B)^\\prime $ er komplementa til snittet av setta $ A $ og $ B $. ditta betyr at det innehelde alle elementer som ikkje er i både $ A $ og $ B $.\n",
    "   - $ A^\\prime \\cup B^\\prime $ er unionen av komplementene til $ A $ og $ B $. ditta betyr at det innehelde alle elementer som ikkje er i $ A $, eller ikkje i $ B $, eller begge deler.\n",
    "   - Igjen, siden begge dissa settene innehelde nøyaktig de samme elementene (de som ikkje er i både $ A $ og $ B $), er dei like, og derfor er deiras sannsynligheta like.\n"
   ]
  },
  {
   "cell_type": "markdown",
   "id": "e8dd23fe-f458-4652-b11b-e348c4ac910b",
   "metadata": {
    "tags": []
   },
   "source": [
    "## Oppgave 2 *\n",
    "\n"
   ]
  },
  {
   "cell_type": "markdown",
   "id": "6a373f2b-c667-45f4-bd11-7be3cec4c566",
   "metadata": {},
   "source": [
    "Anta at vi har en urne med $34$ kuler. Av disse $34$ kulene er sju kuler røde og resten blå. Anta at vi\n",
    "  tilfeldig trekker ut sju av de $34$ kulene, uten tilbakelegging.\n",
    "\n",
    "  * Hva er sannsynligheten for at alle de sju kulene vi trekker ut er røde?\n",
    "  * Hva er sannsynligheten for at nøyaktig fire av de sju kulene vi trekker ut er røde?\n",
    "  \n",
    "Anta så at vi etter å ha trukket ut sju kuler fra urna, trekker ut enda ei kule tilfeldig blant de $27$\n",
    "kulene som er igjen i urna. Denne siste kula kaller vi ekstrakule.\n",
    "\n",
    "  * Hva er sannsynligheten for at nøyaktig seks av de sju kulene vi først trakk ut er røde og at også\n",
    "    ekstrakula er rød?\n"
   ]
  },
  {
   "cell_type": "markdown",
   "id": "5bbba934",
   "metadata": {},
   "source": [
    "$$\n",
    "Besvarelse\n",
    "$$"
   ]
  },
  {
   "cell_type": "markdown",
   "id": "d5ec5b22",
   "metadata": {},
   "source": [
    "a)\n",
    "vi har ein mulighet for å trekke 7 raude kuler på 7 trekk, det er med å trekke 7 raude og 0 blå\n",
    "$$\\Rightarrow P = \\frac{\\binom{7}{7}\\binom{27}{0}}{\\binom{34}{7}} = \\frac{7!\\times27!}{34!} \\approx 1,859\\times10^{-7}$$"
   ]
  },
  {
   "cell_type": "markdown",
   "id": "118cb15f",
   "metadata": {},
   "source": [
    "b) vi kan trekke nøyaktig 4 av 7  raude kula på 1 måte, 4 raude og 3 blå\n",
    "$$\\Rightarrow P = \\frac{\\binom{7}{4}\\binom{27}{3}}{\\binom{34}{7}} = \\frac{7!\\times7!\\times27!\\times27!}{34!\\times4!\\times3!\\times3!\\times24!} \\approx 0,0190$$"
   ]
  },
  {
   "cell_type": "markdown",
   "id": "24683f0f",
   "metadata": {},
   "source": [
    "c)vi kan trekke først 6 av 7 raude og så 1 av 1 raude kuler etterpå på ein måte.\n",
    "$$\\Rightarrow P = \\frac{\\binom{7}{6}\\binom{27}{1}}{\\binom{34}{7}} \\times \\frac{\\binom{1}{1}\\binom{26}{0}}{\\binom{27}{1}}  = \\frac{7!\\times7!\\times27!}{6!\\times34!} \\approx 1,301\\times10^{-6}$$"
   ]
  },
  {
   "cell_type": "markdown",
   "id": "ec044b65",
   "metadata": {},
   "source": [
    "## Oppgave 3 *"
   ]
  },
  {
   "cell_type": "markdown",
   "id": "17426713",
   "metadata": {},
   "source": [
    "I et lotteri er det $300$ lodd. Tre av loddene gir en gevinst av type $A$ og tre andre lodd gir en gevinst av type $B$. De ørige 294 loddene gir ingen gevinst. Ola kjøper fem lodd som han trekker tilfeldig blant de $300$ loddene.\n",
    "\n",
    "  * Hva er sannsynligheten for at Ola vinner nøyaktig en gevinst av type A?\n",
    "  * Hva er sannsynligheten for at Ola vinner minst en gevinst av type A?\n",
    "  * Hva er sannsynligheten for at Ola vinner (minst en gevinst)? \n",
    "\n",
    "&nbsp;\n",
    "&nbsp;\n"
   ]
  },
  {
   "cell_type": "markdown",
   "id": "4e843d19",
   "metadata": {},
   "source": [
    "$$\n",
    "Besvarelse\n",
    "$$"
   ]
  },
  {
   "cell_type": "markdown",
   "id": "3b80b29d",
   "metadata": {},
   "source": [
    "Antall måter å få nøyaktig ein gevinst A på er å trekke eit A lodd og resten som noko anna\n",
    "$$\\Rightarrow P = \\frac{\\binom{3}{1}\\binom{297}{4}}{\\binom{300}{5}} = \\frac{3!\\times 297!\\times 5!\\times 295!}{2!\\times 4!\\times 293!\\times 300!} \\approx 0,0487$$"
   ]
  },
  {
   "cell_type": "markdown",
   "id": "0b4b7dd0",
   "metadata": {},
   "source": [
    "For å finne ut sansynligheta for å vinne minst 1 gevinst A kan vi finne sansynligheta for å ikkje vinne gevinst A og trekke det fra utfalsrommet.\n",
    "$$\\Rightarrow P = P(S)- P(A') = 1 - \\frac{\\binom{297}{5}}{\\binom{300}{5}} = 1-\\frac{297!\\times 5!\\times 295!}{5!\\times 292!\\times 300!} \\approx 0,0493$$"
   ]
  },
  {
   "cell_type": "markdown",
   "id": "c7c6778d",
   "metadata": {},
   "source": [
    "På samme måte kan vi finne sannsynet for å vinne enten A eller B\n",
    "$$ P = P(S)- P((A\\cup B)') $$\n",
    "og sida A og B er uavhengige har vi at\n",
    "$$ P = 1 - \\frac{\\binom{294}{5}}{\\binom{300}{5}} =1 - \\frac{294!\\times 5!\\times 295!}{5!\\times 289!\\times 300!} \\approx 0,0967$$"
   ]
  },
  {
   "cell_type": "markdown",
   "id": "6b2a31e0-531d-4c03-abe7-b5ec07dee9d4",
   "metadata": {},
   "source": [
    "## Oppgave 4"
   ]
  },
  {
   "cell_type": "markdown",
   "id": "fcda9b74-e9d6-446b-b0e0-75252a6e11ae",
   "metadata": {},
   "source": [
    "La $A$, $B$ og $C$ være hendelser i et utfallsrom $S$, med $P(A)=0.4$, $P(B)=0.3$, $P(C)=0.3$, $P(A\\cup B)=0.6$, $P(A\\cup C) = 0.5$, $P(B\\cup C) = 0.6$ og $P(A\\cup B\\cup C) = 0.7$.\n",
    "\n",
    "  * Finn sannsynlighetene $P(A\\cap B)$, $P(A\\cap B\\cap C)$ og $P(A|B)$.\n",
    "  * Er hendelsene A og B uavhengige? \n",
    "  * Er hendelsene A og B disjunkte?"
   ]
  },
  {
   "cell_type": "markdown",
   "id": "a24140b8",
   "metadata": {},
   "source": [
    "$$\n",
    "Besvarelse\n",
    "$$"
   ]
  },
  {
   "cell_type": "code",
   "execution_count": 75,
   "id": "24bd6a36",
   "metadata": {},
   "outputs": [
    {
     "data": {
      "image/png": "[encoded data removed]",
      "text/plain": [
       "<Figure size 640x480 with 1 Axes>"
      ]
     },
     "metadata": {},
     "output_type": "display_data"
    }
   ],
   "source": [
    "import matplotlib.pyplot as plt\n",
    "from matplotlib_venn import venn2\n",
    "\n",
    "setA = set(['a1','a2','a3','a4'])\n",
    "setB = set(['a1','a5','a6'])\n",
    "setC = set(['a2','a3','a7'])\n",
    "setS = set(['a1','a2','a3','a4','a5','a6','a7','a8','a9','a10'])\n",
    "\n",
    "\n",
    "venn3([setA, setB, setC], ('A', 'B','C'))\n",
    "plt.show()"
   ]
  },
  {
   "cell_type": "markdown",
   "id": "eb94d47e",
   "metadata": {},
   "source": [
    "a)\n",
    "$$P(A\\cup B) = P(A)+P(B)-P(A\\cap B)$$\n",
    "$$P(A\\cap B) = P(A)+P(B)-P(A\\cup B) = 0,4+0,3-0,6 = 0,1$$\n",
    "\n"
   ]
  },
  {
   "cell_type": "markdown",
   "id": "71c97e21",
   "metadata": {},
   "source": [
    "b)\n",
    "$$P(A\\cup B\\cup C) = P(A)+P(B)+P(C)-P(A\\cap B)-P(A\\cap C)-P(B\\cap C)-P(A\\cap B\\cap C)$$\n",
    "$$P(A\\cap B\\cap C) = P(A\\cup B\\cup C)- P(A)-P(B)-P(C)+P(A\\cap B)+P(A\\cap C)+P(B\\cap C)$$\n",
    "må løyse for $P(A\\cap C)$ og $P(B\\cap C)$\n",
    "$$P(A\\cap C) = P(A)+P(C) -P(A\\cup C) = 0,2$$\n",
    "$$P(B\\cap C) = P(B)+P(C) -P(B\\cup C) = 0$$\n",
    "Siden $P(B\\cap C)=Ø$ veit vi at også $P(A\\cup B\\cup C)$ må vere $Ø$, vi kan og sjå grafisk at det ikkje er noko felles snitt"
   ]
  },
  {
   "cell_type": "markdown",
   "id": "ddd80c49",
   "metadata": {},
   "source": [
    "c)\n",
    "$$P(A|B) = \\frac{P(A\\cap B)}{P(B)} = \\frac{0,1}{0,3}= \\frac{1}{3}\n",
    "$$"
   ]
  },
  {
   "cell_type": "markdown",
   "id": "b0886644",
   "metadata": {},
   "source": [
    "d)\n",
    "Siden $P(A\\cap B)\\neq Ø$ er dei avhengige, og derav er dei disjunkte"
   ]
  },
  {
   "cell_type": "markdown",
   "id": "984c04c5-b706-4ebb-bfde-f5ce5118e690",
   "metadata": {},
   "source": [
    "## Oppgave 5"
   ]
  },
  {
   "cell_type": "markdown",
   "id": "4f808b1d-85df-4616-9c1f-cbe633409a89",
   "metadata": {},
   "source": [
    "I en befolkning er $8\\%$ av mennene og $0.3\\%$ av kvinnene fargeblinde. I en gruppe\n",
    "  personer fra denne befolkningen er det dobbelt så mange kvinner som menn. En person som trekkes\n",
    "  tilfeldig fra denne gruppen viser seg å være fargeblind.\n",
    "\n",
    "  * Hva er sannsynligheten for at denne personen er ei kvinne?\n"
   ]
  },
  {
   "cell_type": "markdown",
   "id": "13662e16",
   "metadata": {},
   "source": [
    "$P(F|M)=0,08$ (Fargeblinde menn) og $P(F|K)=0,003$ (fargeblinfe kvinner).\n",
    "antalla av befolkningen som er menn eller kvinner er gitt ved at $P(M)=\\frac{1}{3}$ og $P(K)=\\frac{2}{3}$\n",
    "Vi er ute etter sannsynligheita for at dersom person vi trakk ut av folkemengden (F), viser seg å vere fargebling også viser seeg å vere kvinne (K)\n",
    "ved å ta i bruk Bayes'teorem har vi at\n",
    "$$P(K|F) = \\frac{P(F|K)P(K)}{P(F)}$$\n",
    "Her beskriver P(F) mengden av F som er Fargeblind \n",
    "for å finne P(F) med hensyn på den fargeblinde befolkninga har vi\n",
    "$$P(F) = P(F|M)P(M)+P(F|K)P(K)$$\n",
    "$$P(F) = 0,08\\times\\frac{1}{3}+ 0,003\\times\\frac{2}{3}$$ \n",
    "$$P(F) = 0,028607$$\n",
    "\n",
    "setter vi sammen får vi at\n",
    "$$P(K|F) = \\frac{P(F|K)P(K)}{P(F)} = 0,0698$$"
   ]
  },
  {
   "cell_type": "markdown",
   "id": "6f021be7-f2e9-470a-a4ed-f6955e8a73db",
   "metadata": {},
   "source": [
    "## Oppgave 6"
   ]
  },
  {
   "cell_type": "markdown",
   "id": "058344ad-88ee-40f0-a042-a8504e003256",
   "metadata": {},
   "source": [
    "La $X$ være en diskret fordelt stokastisk variabel med punktsannsynlighet $f(x)=P(X=x)$ som angitt\n",
    "i følgende tabell.\n",
    "\n",
    "\n",
    "| $x$ |  | $f(x)$ |\n",
    "|:---:|-|:-------:|\n",
    "| $0$ |  | $0.05$ |\n",
    "| $1$ |  | $0.10$ |\n",
    "| $2$ |  | $0.25$ |\n",
    "| $3$ |  | $0.40$ |\n",
    "| $4$ |  | $0.15$ |\n",
    "| $5$ |  | $0.05$ |\n",
    "  \n",
    "   * Kjør python-koden under for å generere et stolpediagram for $f(x)$. <em>Merk: Studer hvilke funksjoner som benyttes slik at du kan skrive lignende kode selv senere.</em>\n"
   ]
  },
  {
   "cell_type": "code",
   "execution_count": 76,
   "id": "09f245e4-7557-42b0-8b5d-1600842b58a0",
   "metadata": {},
   "outputs": [
    {
     "data": {
      "image/png": "[encoded data removed]",
      "text/plain": [
       "<Figure size 640x480 with 1 Axes>"
      ]
     },
     "metadata": {},
     "output_type": "display_data"
    }
   ],
   "source": [
    "#UTLEVERT KODE (ingenting her skal endres) \n",
    "\n",
    "import numpy as np\n",
    "import matplotlib.pyplot as plt\n",
    "\n",
    "#utfallsrom\n",
    "x=np.arange(6)\n",
    "#punktsannsynlighet\n",
    "f_x = np.array([0.05,0.10,0.25,0.40,0.15,0.05])\n",
    "#stolpediagram\n",
    "plt.bar(x, f_x)\n",
    "plt.xlabel(\"x\")\n",
    "plt.ylabel(\"f(x)\")  \n",
    "plt.title(\"Stolpediagram for f(x)\") \n",
    "plt.show()"
   ]
  },
  {
   "cell_type": "markdown",
   "id": "1210102a-f611-4262-9609-4729058582cb",
   "metadata": {},
   "source": [
    "   * Bestem sannsynlighetene $P(X\\leq 2)$, $P(X\\leq 2|X<4)$ og $P(X\\leq 2|X\\geq 1)$.\n",
    "   * Finn kumulativ fordelingsfunksjon for $X$, $F(x)=P(X\\leq x)$. (Husk at $F(x)$ er definert for alle $x\\in\\mathbb{R}$.)\n",
    "   * Kjør python-koden under for å generere et plott av $F(x)$. <em>Merk: Studer hvilke funksjoner som benyttes slik at du kan skrive lignende kode selv senere.</em>"
   ]
  },
  {
   "cell_type": "markdown",
   "id": "693621f8",
   "metadata": {},
   "source": [
    "$$\n",
    "Besvarelse\n",
    "$$"
   ]
  },
  {
   "cell_type": "markdown",
   "id": "600d43f8",
   "metadata": {},
   "source": [
    "1. $$ P(X \\leq 2) = P(0) + P(1) + P(2) = 0.05 + 0.10 + 0.25 = 0.4 $$\n",
    "\n",
    "2. $$ P(X \\leq 2 | X < 4) = \\frac{P(X \\leq 2)}{P(X < 4)} = \\frac{0.4}{0.8} = 0.5 $$\n",
    "\n",
    "3. $$ P(X \\leq 2 | X \\geq 1) = \\frac{0.10 + 0.25}{0.10 + 0.25 + 0.4 + 0.15 + 0.05} = \\frac{7}{19} \\approx 0.368 $$\n"
   ]
  },
  {
   "cell_type": "markdown",
   "id": "b1703be7",
   "metadata": {},
   "source": [
    "$$\n",
    "F(x) = \n",
    "\\begin{cases} \n",
    "0 & \\text{for } x < 0 \\\\\n",
    "0.05 & \\text{for } 0 \\leq x < 1 \\\\\n",
    "0.15 & \\text{for } 1 \\leq x < 2 \\\\\n",
    "0.40 & \\text{for } 2 \\leq x < 3 \\\\\n",
    "0.80 & \\text{for } 3 \\leq x < 4 \\\\\n",
    "0.95 & \\text{for } 4 \\leq x < 5 \\\\\n",
    "1 & \\text{for } x \\geq 5\n",
    "\\end{cases}\n",
    "$$\n"
   ]
  },
  {
   "cell_type": "code",
   "execution_count": 77,
   "id": "f845ebc2-d9cd-4dfc-ae4a-a81359bb54fd",
   "metadata": {},
   "outputs": [
    {
     "ename": "TypeError",
     "evalue": "bad operand type for unary -: 'list'",
     "output_type": "error",
     "traceback": [
      "\u001b[1;31m---------------------------------------------------------------------------\u001b[0m",
      "\u001b[1;31mTypeError\u001b[0m                                 Traceback (most recent call last)",
      "Cell \u001b[1;32mIn[77], line 8\u001b[0m\n\u001b[0;32m      6\u001b[0m \u001b[38;5;66;03m# sett x-verdier og beregn tilhørende F(x)\u001b[39;00m\n\u001b[0;32m      7\u001b[0m x \u001b[38;5;241m=\u001b[39m [\u001b[38;5;241m-\u001b[39m\u001b[38;5;241m1\u001b[39m,\u001b[38;5;241m0\u001b[39m]\n\u001b[1;32m----> 8\u001b[0m F_x \u001b[38;5;241m=\u001b[39m \u001b[38;5;241;43m-\u001b[39;49m\u001b[43m[\u001b[49m\u001b[38;5;241;43m0\u001b[39;49m\u001b[43m,\u001b[49m\u001b[38;5;241;43m0\u001b[39;49m\u001b[43m]\u001b[49m \u001b[38;5;66;03m# start- og sluttverdi for x på intervallet [-1,0]\u001b[39;00m\n\u001b[0;32m     10\u001b[0m \u001b[38;5;28;01mfor\u001b[39;00m i \u001b[38;5;129;01min\u001b[39;00m \u001b[38;5;28mrange\u001b[39m(\u001b[38;5;241m5\u001b[39m\u001b[38;5;241m+\u001b[39m\u001b[38;5;241m1\u001b[39m):    \u001b[38;5;66;03m# for-løkke over verdiene 0,1,2,3,4,5\u001b[39;00m\n\u001b[0;32m     11\u001b[0m     x \u001b[38;5;241m=\u001b[39m x \u001b[38;5;241m+\u001b[39m [i,i\u001b[38;5;241m+\u001b[39m\u001b[38;5;241m1\u001b[39m]    \u001b[38;5;66;03m#\"+\" legger her listene sammen til en lengre liste\u001b[39;00m\n",
      "\u001b[1;31mTypeError\u001b[0m: bad operand type for unary -: 'list'"
     ]
    }
   ],
   "source": [
    "#UTLEVERT KODE (ingenting her skal endres) \n",
    "\n",
    "import numpy as np\n",
    "import matplotlib.pyplot as plt\n",
    "\n",
    "# sett x-verdier og beregn tilhørende F(x)\n",
    "x = [-1,0]\n",
    "F_x = -[0,0] # start- og sluttverdi for x på intervallet [-1,0]\n",
    "\n",
    "for i in range(5+1):    # for-løkke over verdiene 0,1,2,3,4,5\n",
    "    x = x + [i,i+1]    #\"+\" legger her listene sammen til en lengre liste\n",
    "    FF = np.sum(f_x[np.arange(i+1)])   # verdien til F(i)\n",
    "    F_x = F_x + [FF,FF]\n",
    "\n",
    "# lag plott av F(x)\n",
    "plt.plot(x, F_x, color=\"red\") \n",
    "plt.xlabel(\"x\")\n",
    "plt.ylabel(\"F(x)\")\n",
    "plt.show()"
   ]
  },
  {
   "cell_type": "code",
   "execution_count": null,
   "id": "4f62f42f",
   "metadata": {},
   "outputs": [
    {
     "data": {
      "image/png": "[encoded data removed]",
      "text/plain": [
       "<Figure size 640x480 with 1 Axes>"
      ]
     },
     "metadata": {},
     "output_type": "display_data"
    }
   ],
   "source": [
    "import numpy as np\n",
    "import matplotlib.pyplot as plt\n",
    "\n",
    "# Initialiser x-verdier og F_x\n",
    "x = [-1, 0]\n",
    "F_x = [0, 0]  # F(x) er 0 for x < 0\n",
    "\n",
    "# Sannsynligheter gitt i oppgaven\n",
    "probabilities = [0.05, 0.10, 0.25, 0.40, 0.15, 0.05]\n",
    "\n",
    "# Oppdater x og F_x basert på sannsynlighetene\n",
    "for i, p in enumerate(probabilities):\n",
    "    x += [i, i + 1]\n",
    "    F_x += [F_x[-1] + p, F_x[-1] + p]\n",
    "\n",
    "# Lag plott av F(x)\n",
    "plt.plot(x, F_x, color=\"red\")\n",
    "plt.xlabel(\"x\")\n",
    "plt.ylabel(\"F(x)\")\n",
    "plt.show()\n"
   ]
  },
  {
   "cell_type": "markdown",
   "id": "9d681d3b",
   "metadata": {},
   "source": [
    "## Oppgave 7"
   ]
  },
  {
   "cell_type": "markdown",
   "id": "6e363d6c",
   "metadata": {},
   "source": [
    "La $X$ være en stokastisk variabel som beskriver hvor lang tid en komponent har fungert i det den svikter.\n",
    "Vi kaller da $X$ for <em>levetiden</em> for komponenten."
   ]
  },
  {
   "cell_type": "markdown",
   "id": "99f2ba91",
   "metadata": {},
   "source": [
    "Levetiden $X$ (målt i antall år) til en bestemt type mekaniske komponenter har vist seg å følge en fordeling med kumulativ fordelingsfunksjon gitt ved\n",
    "\\begin{align*}\n",
    "    F_X(x) = 1 - \\exp\\left\\{ -\\frac{x^2}{\\alpha}\\right\\}; x\\geq 0,\n",
    "\\end{align*}\n",
    "der $\\alpha$ er en parameter som beskriver kvaliteten til komponentene."
   ]
  },
  {
   "cell_type": "code",
   "execution_count": null,
   "id": "62870cb8",
   "metadata": {},
   "outputs": [],
   "source": []
  },
  {
   "cell_type": "markdown",
   "id": "3c92b5fb",
   "metadata": {},
   "source": [
    "### Deloppgave a)\n",
    "\n",
    "Kjør python-koden under for å generere et plott av $F_X(x)$ når $\\alpha=1$. \n",
    "<em>Merk: Studer koden slik at du kan skrive lignende kode selv senere. </em>"
   ]
  },
  {
   "cell_type": "code",
   "execution_count": null,
   "id": "331b96f2",
   "metadata": {},
   "outputs": [
    {
     "data": {
      "image/png": "[encoded data removed]",
      "text/plain": [
       "<Figure size 640x480 with 1 Axes>"
      ]
     },
     "metadata": {},
     "output_type": "display_data"
    }
   ],
   "source": [
    "#UTLEVERT KODE (ingenting her skal endres) \n",
    "\n",
    "import numpy as np\n",
    "import matplotlib.pyplot as plt\n",
    "\n",
    "# Sett hvilke x-verdier du vil plotte for\n",
    "x = np.linspace(0,5,100)\n",
    "\n",
    "# Sett verdien for parameteren alpha\n",
    "alpha = 1\n",
    "\n",
    "# Beregn kumulativ fordelingsfunksjon\n",
    "def F_X(x, alpha): \n",
    "    return 1- np.exp(-x**2/alpha) \n",
    "\n",
    "plt.plot(x, F_X(x, alpha), color=\"red\") \n",
    "plt.xlabel(\"x\")\n",
    "plt.ylabel(\"F(x)\") \n",
    "plt.show()"
   ]
  },
  {
   "cell_type": "markdown",
   "id": "6138e300",
   "metadata": {},
   "source": [
    "* Finn en formel for sannsynlighetstettheten $f_X(x)$ til $X$.\n",
    "* Skriv python-kode som genererer et plott av $f_X(x)$ for $x\\in (0,5)$. Skriv koden slik at du enkelt kan lage plott for ulike verdier av parameteren $\\alpha$, tilsvarende som er gjort i koden over for å plotte $F_X(x)$."
   ]
  },
  {
   "cell_type": "markdown",
   "id": "c0431e53",
   "metadata": {},
   "source": [
    "$$\n",
    "Besvarelse\n",
    "$$"
   ]
  },
  {
   "cell_type": "markdown",
   "id": "6961aa0d",
   "metadata": {},
   "source": [
    "Gitt den kumulative fordelingsfunksjonen $F_X(x)$ for ein stokastisk variabel $X$, kan vi finne sannsynlighetstetthetsfunksjonen $f_X(x)$ ved å derivere $F_X(x)$ med hensyn til $x$.\n",
    "\n",
    "Den kumulative fordelingsfunksjonen er gitt ved:\n",
    "\n",
    "$$\n",
    "F_X(x) = 1 - \\exp\\left( -\\frac{x^2}{\\alpha} \\right); \\quad x \\geq 0\n",
    "$$\n",
    "\n",
    "For å finne PDF $f_X(x)$, tar vi den deriverte av $F_X(x)$ med hensyn til $x$:\n",
    "\n",
    "$$\n",
    "f_X(x) = -\\exp\\left( -\\frac{x^2}{\\alpha} \\right) \\cdot \\left( -\\frac{2x}{\\alpha} \\right) = \\frac{2x}{\\alpha} \\exp\\left( -\\frac{x^2}{\\alpha} \\right)\n",
    "$$\n",
    "\n",
    "Så, sannsynlighetstetthetsfunksjonen $f_X(x)$ for  $X$ er:\n",
    "\n",
    "$$\n",
    "f_X(x) = \\frac{2x}{\\alpha} \\exp\\left( -\\frac{x^2}{\\alpha} \\right); \\quad x \\geq 0\n",
    "$$\n",
    "\n",
    "Dinna funksjonen beskrive sannsynlighetstettheta til levetiden $X$ for de mekaniske komponentane, gitt parametere $\\alpha$ som beskrive kvaliteten på komponentane.\n"
   ]
  },
  {
   "cell_type": "code",
   "execution_count": 1,
   "id": "cd1819b8",
   "metadata": {},
   "outputs": [
    {
     "data": {
      "image/png": "[encoded data removed]",
      "image/svg+xml": [
       "<?xml version=\"1.0\" encoding=\"utf-8\" standalone=\"no\"?>\n",
       "<!DOCTYPE svg PUBLIC \"-//W3C//DTD SVG 1.1//EN\"\n",
       "  \"http://www.w3.org/Graphics/SVG/1.1/DTD/svg11.dtd\">\n",
       "<svg xmlns:xlink=\"http://www.w3.org/1999/xlink\" width=\"261.828906pt\" height=\"143.668656pt\" viewBox=\"0 0 261.828906 143.668656\" xmlns=\"http://www.w3.org/2000/svg\" version=\"1.1\">\n",
       " <metadata>\n",
       "  <rdf:RDF xmlns:dc=\"http://purl.org/dc/elements/1.1/\" xmlns:cc=\"http://creativecommons.org/ns#\" xmlns:rdf=\"http://www.w3.org/1999/02/22-rdf-syntax-ns#\">\n",
       "   <cc:Work>\n",
       "    <dc:type rdf:resource=\"http://purl.org/dc/dcmitype/StillImage\"/>\n",
       "    <dc:date>2024-01-28T16:24:05.235634</dc:date>\n",
       "    <dc:format>image/svg+xml</dc:format>\n",
       "    <dc:creator>\n",
       "     <cc:Agent>\n",
       "      <dc:title>Matplotlib v3.8.0, https://matplotlib.org/</dc:title>\n",
       "     </cc:Agent>\n",
       "    </dc:creator>\n",
       "   </cc:Work>\n",
       "  </rdf:RDF>\n",
       " </metadata>\n",
       " <defs>\n",
       "  <style type=\"text/css\">*{stroke-linejoin: round; stroke-linecap: butt}</style>\n",
       " </defs>\n",
       " <g id=\"figure_1\">\n",
       "  <g id=\"patch_1\">\n",
       "   <path d=\"M 0 143.668656 \n",
       "L 261.828906 143.668656 \n",
       "L 261.828906 0 \n",
       "L 0 0 \n",
       "z\n",
       "\" style=\"fill: #ffffff\"/>\n",
       "  </g>\n",
       "  <g id=\"axes_1\">\n",
       "   <g id=\"patch_2\">\n",
       "    <path d=\"M 41.703906 95.617656 \n",
       "C 46.477562 95.617656 51.056344 93.721063 54.431828 90.345578 \n",
       "C 57.807313 86.970094 59.703906 82.391312 59.703906 77.617656 \n",
       "C 59.703906 72.844 57.807313 68.265219 54.431828 64.889734 \n",
       "C 51.056344 61.51425 46.477562 59.617656 41.703906 59.617656 \n",
       "C 36.93025 59.617656 32.351469 61.51425 28.975984 64.889734 \n",
       "C 25.6005 68.265219 23.703906 72.844 23.703906 77.617656 \n",
       "C 23.703906 82.391312 25.6005 86.970094 28.975984 90.345578 \n",
       "C 32.351469 93.721063 36.93025 95.617656 41.703906 95.617656 \n",
       "L 41.703906 95.617656 \n",
       "z\n",
       "\" clip-path=\"url(#p7153dc1496)\" style=\"fill: none; stroke: #000000; stroke-width: 2; stroke-linejoin: miter\"/>\n",
       "   </g>\n",
       "   <g id=\"patch_3\">\n",
       "    <path d=\"M 138.679997 35.559202 \n",
       "C 136.005741 35.349627 133.297615 35.678167 130.905542 36.502372 \n",
       "C 128.513469 37.326577 126.545114 38.609349 125.254811 40.184938 \n",
       "\" clip-path=\"url(#p7153dc1496)\" style=\"fill: none; stroke: #000000; stroke-width: 2; stroke-linejoin: miter\"/>\n",
       "   </g>\n",
       "   <g id=\"patch_4\">\n",
       "    <path d=\"M 147.97599 36.651958 \n",
       "L 138.722317 38.282767 \n",
       "L 139.035434 35.619108 \n",
       "L 138.677896 35.577078 \n",
       "L 138.682098 35.541325 \n",
       "L 139.039637 35.583354 \n",
       "L 139.352753 32.919694 \n",
       "z\n",
       "\" clip-path=\"url(#p7153dc1496)\" style=\"stroke: #000000; stroke-linejoin: miter\"/>\n",
       "   </g>\n",
       "   <g id=\"line2d_1\">\n",
       "    <path d=\"M 41.703906 131.617656 \n",
       "L 41.703906 95.617656 \n",
       "L 41.703906 95.617656 \n",
       "M 41.703906 59.617656 \n",
       "L 41.703906 59.617656 \n",
       "L 41.703906 23.617656 \n",
       "\" clip-path=\"url(#p7153dc1496)\" style=\"fill: none; stroke: #000000; stroke-width: 2; stroke-linecap: round\"/>\n",
       "   </g>\n",
       "   <g id=\"line2d_2\">\n",
       "    <path d=\"M 45.303906 86.617656 \n",
       "L 38.103906 86.617656 \n",
       "\" clip-path=\"url(#p7153dc1496)\" style=\"fill: none; stroke: #000000; stroke-width: 2; stroke-linecap: round\"/>\n",
       "   </g>\n",
       "   <g id=\"line2d_3\">\n",
       "    <path d=\"M 41.703906 72.217656 \n",
       "L 41.703906 65.017656 \n",
       "\" clip-path=\"url(#p7153dc1496)\" style=\"fill: none; stroke: #000000; stroke-width: 2; stroke-linecap: round\"/>\n",
       "   </g>\n",
       "   <g id=\"line2d_4\">\n",
       "    <path d=\"M 45.303906 68.617656 \n",
       "L 38.103906 68.617656 \n",
       "\" clip-path=\"url(#p7153dc1496)\" style=\"fill: none; stroke: #000000; stroke-width: 2; stroke-linecap: round\"/>\n",
       "   </g>\n",
       "   <g id=\"line2d_5\">\n",
       "    <path d=\"M 41.703906 23.617656 \n",
       "L 82.203906 23.617656 \n",
       "L 122.703906 23.617656 \n",
       "\" clip-path=\"url(#p7153dc1496)\" style=\"fill: none; stroke: #000000; stroke-width: 2; stroke-linecap: round\"/>\n",
       "   </g>\n",
       "   <g id=\"line2d_6\">\n",
       "    <path d=\"M 137.103906 55.297656 \n",
       "M 133.503906 46.657656 \n",
       "L 128.103906 30.097656 \n",
       "M 122.703906 19.297656 \n",
       "\" clip-path=\"url(#p7153dc1496)\" style=\"fill: none; stroke: #000000; stroke-width: 2; stroke-linecap: round\"/>\n",
       "   </g>\n",
       "   <g id=\"line2d_7\">\n",
       "    <path d=\"M 151.503906 23.617656 \n",
       "L 192.003906 23.617656 \n",
       "L 232.503906 23.617656 \n",
       "\" clip-path=\"url(#p7153dc1496)\" style=\"fill: none; stroke: #000000; stroke-width: 2; stroke-linecap: round\"/>\n",
       "   </g>\n",
       "   <g id=\"line2d_8\">\n",
       "    <path d=\"M 232.503906 23.617656 \n",
       "L 232.503906 59.617656 \n",
       "L 241.503906 62.617656 \n",
       "L 223.503906 68.617656 \n",
       "L 241.503906 74.617656 \n",
       "L 223.503906 80.617656 \n",
       "L 241.503906 86.617656 \n",
       "L 223.503906 92.617656 \n",
       "L 232.503906 95.617656 \n",
       "L 232.503906 131.617656 \n",
       "\" clip-path=\"url(#p7153dc1496)\" style=\"fill: none; stroke: #000000; stroke-width: 2; stroke-linecap: round\"/>\n",
       "   </g>\n",
       "   <g id=\"line2d_9\">\n",
       "    <path d=\"M 232.503906 131.617656 \n",
       "L 137.103906 131.617656 \n",
       "L 41.703906 131.617656 \n",
       "\" clip-path=\"url(#p7153dc1496)\" style=\"fill: none; stroke: #000000; stroke-width: 2; stroke-linecap: round\"/>\n",
       "   </g>\n",
       "   <g id=\"line2d_10\">\n",
       "    <path d=\"M 137.103906 50.977656 \n",
       "L 137.103906 88.057656 \n",
       "M 146.103906 88.057656 \n",
       "L 128.103906 88.057656 \n",
       "M 146.103906 94.537656 \n",
       "L 128.103906 94.537656 \n",
       "M 137.103906 94.537656 \n",
       "L 137.103906 131.617656 \n",
       "\" clip-path=\"url(#p7153dc1496)\" style=\"fill: none; stroke: #000000; stroke-width: 2; stroke-linecap: round\"/>\n",
       "   </g>\n",
       "   <g id=\"text_1\">\n",
       "    <!-- 5V -->\n",
       "    <g transform=\"translate(3.6 81.066875) scale(0.125 -0.125)\">\n",
       "     <defs>\n",
       "      <path id=\"DejaVuSans-35\" d=\"M 691 4666 \n",
       "L 3169 4666 \n",
       "L 3169 4134 \n",
       "L 1269 4134 \n",
       "L 1269 2991 \n",
       "Q 1406 3038 1543 3061 \n",
       "Q 1681 3084 1819 3084 \n",
       "Q 2600 3084 3056 2656 \n",
       "Q 3513 2228 3513 1497 \n",
       "Q 3513 744 3044 326 \n",
       "Q 2575 -91 1722 -91 \n",
       "Q 1428 -91 1123 -41 \n",
       "Q 819 9 494 109 \n",
       "L 494 744 \n",
       "Q 775 591 1075 516 \n",
       "Q 1375 441 1709 441 \n",
       "Q 2250 441 2565 725 \n",
       "Q 2881 1009 2881 1497 \n",
       "Q 2881 1984 2565 2268 \n",
       "Q 2250 2553 1709 2553 \n",
       "Q 1456 2553 1204 2497 \n",
       "Q 953 2441 691 2322 \n",
       "L 691 4666 \n",
       "z\n",
       "\" transform=\"scale(0.015625)\"/>\n",
       "      <path id=\"DejaVuSans-56\" d=\"M 1831 0 \n",
       "L 50 4666 \n",
       "L 709 4666 \n",
       "L 2188 738 \n",
       "L 3669 4666 \n",
       "L 4325 4666 \n",
       "L 2547 0 \n",
       "L 1831 0 \n",
       "z\n",
       "\" transform=\"scale(0.015625)\"/>\n",
       "     </defs>\n",
       "     <use xlink:href=\"#DejaVuSans-35\"/>\n",
       "     <use xlink:href=\"#DejaVuSans-56\" x=\"63.623047\"/>\n",
       "    </g>\n",
       "   </g>\n",
       "   <g id=\"patch_5\">\n",
       "    <path d=\"M 137.103906 55.297656 \n",
       "C 138.249584 55.297656 139.348491 54.842474 140.158608 54.032358 \n",
       "C 140.968724 53.222241 141.423906 52.123334 141.423906 50.977656 \n",
       "C 141.423906 49.831979 140.968724 48.733071 140.158608 47.922955 \n",
       "C 139.348491 47.112839 138.249584 46.657656 137.103906 46.657656 \n",
       "C 135.958229 46.657656 134.859321 47.112839 134.049205 47.922955 \n",
       "C 133.239089 48.733071 132.783906 49.831979 132.783906 50.977656 \n",
       "C 132.783906 52.123334 133.239089 53.222241 134.049205 54.032358 \n",
       "C 134.859321 54.842474 135.958229 55.297656 137.103906 55.297656 \n",
       "z\n",
       "\" clip-path=\"url(#p7153dc1496)\" style=\"fill: #ffffff; stroke: #000000; stroke-width: 2; stroke-linejoin: miter\"/>\n",
       "   </g>\n",
       "   <g id=\"patch_6\">\n",
       "    <path d=\"M 151.503906 27.937656 \n",
       "C 152.649584 27.937656 153.748491 27.482474 154.558608 26.672358 \n",
       "C 155.368724 25.862241 155.823906 24.763334 155.823906 23.617656 \n",
       "C 155.823906 22.471979 155.368724 21.373071 154.558608 20.562955 \n",
       "C 153.748491 19.752839 152.649584 19.297656 151.503906 19.297656 \n",
       "C 150.358229 19.297656 149.259321 19.752839 148.449205 20.562955 \n",
       "C 147.639089 21.373071 147.183906 22.471979 147.183906 23.617656 \n",
       "C 147.183906 24.763334 147.639089 25.862241 148.449205 26.672358 \n",
       "C 149.259321 27.482474 150.358229 27.937656 151.503906 27.937656 \n",
       "z\n",
       "\" clip-path=\"url(#p7153dc1496)\" style=\"fill: #ffffff; stroke: #000000; stroke-width: 2; stroke-linejoin: miter\"/>\n",
       "   </g>\n",
       "   <g id=\"patch_7\">\n",
       "    <path d=\"M 122.703906 27.937656 \n",
       "C 123.849584 27.937656 124.948491 27.482474 125.758608 26.672358 \n",
       "C 126.568724 25.862241 127.023906 24.763334 127.023906 23.617656 \n",
       "C 127.023906 22.471979 126.568724 21.373071 125.758608 20.562955 \n",
       "C 124.948491 19.752839 123.849584 19.297656 122.703906 19.297656 \n",
       "C 121.558229 19.297656 120.459321 19.752839 119.649205 20.562955 \n",
       "C 118.839089 21.373071 118.383906 22.471979 118.383906 23.617656 \n",
       "C 118.383906 24.763334 118.839089 25.862241 119.649205 26.672358 \n",
       "C 120.459321 27.482474 121.558229 27.937656 122.703906 27.937656 \n",
       "z\n",
       "\" clip-path=\"url(#p7153dc1496)\" style=\"fill: #ffffff; stroke: #000000; stroke-width: 2; stroke-linejoin: miter\"/>\n",
       "   </g>\n",
       "   <g id=\"text_2\">\n",
       "    <!-- $t=0$ -->\n",
       "    <g transform=\"translate(122.978906 13.098047) scale(0.125 -0.125)\">\n",
       "     <defs>\n",
       "      <path id=\"DejaVuSans-Oblique-74\" d=\"M 2706 3500 \n",
       "L 2619 3053 \n",
       "L 1472 3053 \n",
       "L 1100 1153 \n",
       "Q 1081 1047 1072 975 \n",
       "Q 1063 903 1063 863 \n",
       "Q 1063 663 1183 572 \n",
       "Q 1303 481 1569 481 \n",
       "L 2150 481 \n",
       "L 2053 0 \n",
       "L 1503 0 \n",
       "Q 991 0 739 200 \n",
       "Q 488 400 488 806 \n",
       "Q 488 878 497 964 \n",
       "Q 506 1050 525 1153 \n",
       "L 897 3053 \n",
       "L 409 3053 \n",
       "L 500 3500 \n",
       "L 978 3500 \n",
       "L 1172 4494 \n",
       "L 1747 4494 \n",
       "L 1556 3500 \n",
       "L 2706 3500 \n",
       "z\n",
       "\" transform=\"scale(0.015625)\"/>\n",
       "      <path id=\"DejaVuSans-3d\" d=\"M 678 2906 \n",
       "L 4684 2906 \n",
       "L 4684 2381 \n",
       "L 678 2381 \n",
       "L 678 2906 \n",
       "z\n",
       "M 678 1631 \n",
       "L 4684 1631 \n",
       "L 4684 1100 \n",
       "L 678 1100 \n",
       "L 678 1631 \n",
       "z\n",
       "\" transform=\"scale(0.015625)\"/>\n",
       "      <path id=\"DejaVuSans-30\" d=\"M 2034 4250 \n",
       "Q 1547 4250 1301 3770 \n",
       "Q 1056 3291 1056 2328 \n",
       "Q 1056 1369 1301 889 \n",
       "Q 1547 409 2034 409 \n",
       "Q 2525 409 2770 889 \n",
       "Q 3016 1369 3016 2328 \n",
       "Q 3016 3291 2770 3770 \n",
       "Q 2525 4250 2034 4250 \n",
       "z\n",
       "M 2034 4750 \n",
       "Q 2819 4750 3233 4129 \n",
       "Q 3647 3509 3647 2328 \n",
       "Q 3647 1150 3233 529 \n",
       "Q 2819 -91 2034 -91 \n",
       "Q 1250 -91 836 529 \n",
       "Q 422 1150 422 2328 \n",
       "Q 422 3509 836 4129 \n",
       "Q 1250 4750 2034 4750 \n",
       "z\n",
       "\" transform=\"scale(0.015625)\"/>\n",
       "     </defs>\n",
       "     <use xlink:href=\"#DejaVuSans-Oblique-74\" transform=\"translate(0 0.78125)\"/>\n",
       "     <use xlink:href=\"#DejaVuSans-3d\" transform=\"translate(58.691406 0.78125)\"/>\n",
       "     <use xlink:href=\"#DejaVuSans-30\" transform=\"translate(161.962891 0.78125)\"/>\n",
       "    </g>\n",
       "   </g>\n",
       "   <g id=\"text_3\">\n",
       "    <!-- $100\\Omega$ -->\n",
       "    <g transform=\"translate(186.403906 81.066875) scale(0.125 -0.125)\">\n",
       "     <defs>\n",
       "      <path id=\"DejaVuSans-31\" d=\"M 794 531 \n",
       "L 1825 531 \n",
       "L 1825 4091 \n",
       "L 703 3866 \n",
       "L 703 4441 \n",
       "L 1819 4666 \n",
       "L 2450 4666 \n",
       "L 2450 531 \n",
       "L 3481 531 \n",
       "L 3481 0 \n",
       "L 794 0 \n",
       "L 794 531 \n",
       "z\n",
       "\" transform=\"scale(0.015625)\"/>\n",
       "      <path id=\"DejaVuSans-3a9\" d=\"M 4647 556 \n",
       "L 4647 0 \n",
       "L 2772 0 \n",
       "L 2772 556 \n",
       "Q 3325 859 3634 1378 \n",
       "Q 3944 1897 3944 2528 \n",
       "Q 3944 3278 3531 3731 \n",
       "Q 3119 4184 2444 4184 \n",
       "Q 1769 4184 1355 3729 \n",
       "Q 941 3275 941 2528 \n",
       "Q 941 1897 1250 1378 \n",
       "Q 1563 859 2119 556 \n",
       "L 2119 0 \n",
       "L 244 0 \n",
       "L 244 556 \n",
       "L 1241 556 \n",
       "Q 747 991 519 1456 \n",
       "Q 294 1922 294 2497 \n",
       "Q 294 3491 894 4106 \n",
       "Q 1491 4722 2444 4722 \n",
       "Q 3391 4722 3994 4106 \n",
       "Q 4594 3494 4594 2528 \n",
       "Q 4594 1922 4372 1459 \n",
       "Q 4150 997 3647 556 \n",
       "L 4647 556 \n",
       "z\n",
       "\" transform=\"scale(0.015625)\"/>\n",
       "     </defs>\n",
       "     <use xlink:href=\"#DejaVuSans-31\" transform=\"translate(0 0.78125)\"/>\n",
       "     <use xlink:href=\"#DejaVuSans-30\" transform=\"translate(63.623047 0.78125)\"/>\n",
       "     <use xlink:href=\"#DejaVuSans-30\" transform=\"translate(127.246094 0.78125)\"/>\n",
       "     <use xlink:href=\"#DejaVuSans-3a9\" transform=\"translate(190.869141 0.78125)\"/>\n",
       "    </g>\n",
       "   </g>\n",
       "   <g id=\"text_4\">\n",
       "    <!-- + -->\n",
       "    <g transform=\"translate(245.103906 54.066875) scale(0.125 -0.125)\">\n",
       "     <defs>\n",
       "      <path id=\"DejaVuSans-2b\" d=\"M 2944 4013 \n",
       "L 2944 2272 \n",
       "L 4684 2272 \n",
       "L 4684 1741 \n",
       "L 2944 1741 \n",
       "L 2944 0 \n",
       "L 2419 0 \n",
       "L 2419 1741 \n",
       "L 678 1741 \n",
       "L 678 2272 \n",
       "L 2419 2272 \n",
       "L 2419 4013 \n",
       "L 2944 4013 \n",
       "z\n",
       "\" transform=\"scale(0.015625)\"/>\n",
       "     </defs>\n",
       "     <use xlink:href=\"#DejaVuSans-2b\"/>\n",
       "    </g>\n",
       "   </g>\n",
       "   <g id=\"text_5\">\n",
       "    <!-- $v_o$ -->\n",
       "    <g transform=\"translate(245.103906 81.066875) scale(0.125 -0.125)\">\n",
       "     <defs>\n",
       "      <path id=\"DejaVuSans-Oblique-76\" d=\"M 459 3500 \n",
       "L 1069 3500 \n",
       "L 1581 525 \n",
       "L 3256 3500 \n",
       "L 3866 3500 \n",
       "L 1875 0 \n",
       "L 1100 0 \n",
       "L 459 3500 \n",
       "z\n",
       "\" transform=\"scale(0.015625)\"/>\n",
       "      <path id=\"DejaVuSans-Oblique-6f\" d=\"M 1625 -91 \n",
       "Q 1009 -91 651 289 \n",
       "Q 294 669 294 1325 \n",
       "Q 294 1706 417 2101 \n",
       "Q 541 2497 738 2766 \n",
       "Q 1047 3184 1428 3384 \n",
       "Q 1809 3584 2291 3584 \n",
       "Q 2888 3584 3255 3212 \n",
       "Q 3622 2841 3622 2241 \n",
       "Q 3622 1825 3500 1412 \n",
       "Q 3378 1000 3181 728 \n",
       "Q 2875 309 2494 109 \n",
       "Q 2113 -91 1625 -91 \n",
       "z\n",
       "M 891 1344 \n",
       "Q 891 869 1089 633 \n",
       "Q 1288 397 1691 397 \n",
       "Q 2269 397 2648 901 \n",
       "Q 3028 1406 3028 2181 \n",
       "Q 3028 2634 2825 2865 \n",
       "Q 2622 3097 2228 3097 \n",
       "Q 1903 3097 1650 2945 \n",
       "Q 1397 2794 1197 2484 \n",
       "Q 1050 2253 970 1956 \n",
       "Q 891 1659 891 1344 \n",
       "z\n",
       "\" transform=\"scale(0.015625)\"/>\n",
       "     </defs>\n",
       "     <use xlink:href=\"#DejaVuSans-Oblique-76\" transform=\"translate(0 0.3125)\"/>\n",
       "     <use xlink:href=\"#DejaVuSans-Oblique-6f\" transform=\"translate(59.179688 -16.09375) scale(0.7)\"/>\n",
       "    </g>\n",
       "   </g>\n",
       "   <g id=\"text_6\">\n",
       "    <!-- - -->\n",
       "    <g transform=\"translate(245.103906 108.066875) scale(0.125 -0.125)\">\n",
       "     <defs>\n",
       "      <path id=\"DejaVuSans-2d\" d=\"M 313 2009 \n",
       "L 1997 2009 \n",
       "L 1997 1497 \n",
       "L 313 1497 \n",
       "L 313 2009 \n",
       "z\n",
       "\" transform=\"scale(0.015625)\"/>\n",
       "     </defs>\n",
       "     <use xlink:href=\"#DejaVuSans-2d\"/>\n",
       "    </g>\n",
       "   </g>\n",
       "   <g id=\"patch_8\">\n",
       "    <path d=\"M 137.103906 134.317656 \n",
       "C 137.819955 134.317656 138.506772 134.033167 139.013095 133.526845 \n",
       "C 139.519417 133.020522 139.803906 132.333705 139.803906 131.617656 \n",
       "C 139.803906 130.901608 139.519417 130.214791 139.013095 129.708468 \n",
       "C 138.506772 129.202145 137.819955 128.917656 137.103906 128.917656 \n",
       "C 136.387858 128.917656 135.701041 129.202145 135.194718 129.708468 \n",
       "C 134.688395 130.214791 134.403906 130.901608 134.403906 131.617656 \n",
       "C 134.403906 132.333705 134.688395 133.020522 135.194718 133.526845 \n",
       "C 135.701041 134.033167 136.387858 134.317656 137.103906 134.317656 \n",
       "z\n",
       "\" clip-path=\"url(#p7153dc1496)\" style=\"stroke: #000000; stroke-width: 2; stroke-linejoin: miter\"/>\n",
       "   </g>\n",
       "   <g id=\"text_7\">\n",
       "    <!-- 1$\\mu$F -->\n",
       "    <g transform=\"translate(101.378906 96.071484) scale(0.125 -0.125)\">\n",
       "     <defs>\n",
       "      <path id=\"DejaVuSans-Oblique-3bc\" d=\"M -84 -1331 \n",
       "L 856 3500 \n",
       "L 1434 3500 \n",
       "L 1009 1322 \n",
       "Q 997 1256 987 1175 \n",
       "Q 978 1094 978 1013 \n",
       "Q 978 722 1161 565 \n",
       "Q 1344 409 1684 409 \n",
       "Q 2147 409 2431 671 \n",
       "Q 2716 934 2816 1459 \n",
       "L 3213 3500 \n",
       "L 3788 3500 \n",
       "L 3266 809 \n",
       "Q 3253 750 3248 706 \n",
       "Q 3244 663 3244 628 \n",
       "Q 3244 531 3283 486 \n",
       "Q 3322 441 3406 441 \n",
       "Q 3438 441 3492 456 \n",
       "Q 3547 472 3647 513 \n",
       "L 3559 50 \n",
       "Q 3422 -19 3297 -55 \n",
       "Q 3172 -91 3053 -91 \n",
       "Q 2847 -91 2730 40 \n",
       "Q 2613 172 2613 403 \n",
       "Q 2438 153 2195 31 \n",
       "Q 1953 -91 1625 -91 \n",
       "Q 1334 -91 1117 43 \n",
       "Q 900 178 831 397 \n",
       "L 494 -1331 \n",
       "L -84 -1331 \n",
       "z\n",
       "\" transform=\"scale(0.015625)\"/>\n",
       "      <path id=\"DejaVuSans-46\" d=\"M 628 4666 \n",
       "L 3309 4666 \n",
       "L 3309 4134 \n",
       "L 1259 4134 \n",
       "L 1259 2759 \n",
       "L 3109 2759 \n",
       "L 3109 2228 \n",
       "L 1259 2228 \n",
       "L 1259 0 \n",
       "L 628 0 \n",
       "L 628 4666 \n",
       "z\n",
       "\" transform=\"scale(0.015625)\"/>\n",
       "     </defs>\n",
       "     <use xlink:href=\"#DejaVuSans-31\" transform=\"translate(0 0.09375)\"/>\n",
       "     <use xlink:href=\"#DejaVuSans-Oblique-3bc\" transform=\"translate(63.623047 0.09375)\"/>\n",
       "     <use xlink:href=\"#DejaVuSans-46\" transform=\"translate(127.246094 0.09375)\"/>\n",
       "    </g>\n",
       "   </g>\n",
       "  </g>\n",
       " </g>\n",
       " <defs>\n",
       "  <clipPath id=\"p7153dc1496\">\n",
       "   <rect x=\"12.813906\" y=\"13.546656\" width=\"239.58\" height=\"126.522\"/>\n",
       "  </clipPath>\n",
       " </defs>\n",
       "</svg>\n"
      ],
      "text/plain": [
       "<schemdraw.backends.mpl.Figure object at 0x0000027DE12C1ED0>"
      ]
     },
     "execution_count": 1,
     "metadata": {},
     "output_type": "execute_result"
    }
   ],
   "source": [
    "import schemdraw\n",
    "import schemdraw.elements as elm\n",
    "\n",
    "d = schemdraw.Drawing()\n",
    "V1 = d.add(elm.SourceV().label('5V'))\n",
    "d.add(elm.Line().right(d.unit*.75))\n",
    "S1 = d.add(elm.SwitchSpdt2(action='close').up().anchor('b').label('$t=0$', loc='rgt'))\n",
    "d.add(elm.Line().right(d.unit*.75).at(S1.c))\n",
    "d.add(elm.Resistor().down().label('$100\\Omega$').label(['+','$v_o$','-'], loc='bot'))\n",
    "d.add(elm.Line().to(V1.start))\n",
    "d.add(elm.Capacitor().at(S1.a).toy(V1.start).label('1$\\mu$F').dot())\n",
    "d.draw()\n"
   ]
  },
  {
   "cell_type": "code",
   "execution_count": null,
   "id": "95beec08",
   "metadata": {},
   "outputs": [
    {
     "data": {
      "image/png": "[encoded data removed]",
      "text/plain": [
       "<Figure size 640x480 with 1 Axes>"
      ]
     },
     "metadata": {},
     "output_type": "display_data"
    }
   ],
   "source": [
    "import numpy as np\n",
    "import matplotlib.pyplot as plt\n",
    "\n",
    "x = np.linspace(0,5,100)\n",
    "\n",
    "alpha = 1\n",
    "\n",
    "def f_X(x, alpha): \n",
    "    return (2*x)/alpha*np.exp(-x**2/alpha)\n",
    "def f_Z(z, alpha):\n",
    "    return 4*z/alpha*(1- np.exp(-z**2/alpha))*np.exp(-z**2/alpha)\n",
    "\n",
    "plt.plot(x, f_X(x, alpha), color=\"red\") \n",
    "plt.plot(x, f_Z(x, alpha), color=\"blue\") \n",
    "plt.xlabel(\"t\")\n",
    "plt.ylabel(\"F(t)\") \n",
    "plt.show()"
   ]
  },
  {
   "cell_type": "markdown",
   "id": "20c98f3c",
   "metadata": {},
   "source": [
    "#### Her er deloppgave a slutt.\n",
    "\n",
    "Et instrument inneholder to komponenter av denne typen, begge med samme kvalitetsparameter $\\alpha$. \n",
    "De to komponentene svikter uavhengig av hverandre, og instrumentet fungerer så lenge minst en av de to komponentene fungerer. La $Z$ betegne levetiden til instrumentet.\n",
    "\n"
   ]
  },
  {
   "cell_type": "markdown",
   "id": "f1184b15",
   "metadata": {},
   "source": [
    "### Deloppgave b)\n",
    "\n",
    "* Finn en formel for sannsynligheten for at instrumentet fremdeles fungerer etter en tid $z$, dvs. $1-F_Z(z)=P(Z > z)$.\n",
    "* Bestem sannsynlighetstettheten for $Z$, $f_Z(z)$.\n",
    "* Der hvor du over skrev python-kode for å plotte $f_X(x)$, legg til python-kode for også å generere et plott av $f_Z(z)$. Inkluder plottet av $f_Z(z)$ i samme plott som $f_X(x)$, slik at du enkelt kan sammenligne de to sannsynlighetstetthetene. Kan du intuitivt forstå/forklare den kvalitative forskjellen mellom de to sannsynlighetstetthetene?"
   ]
  },
  {
   "cell_type": "markdown",
   "id": "f0199245",
   "metadata": {},
   "source": [
    "$$\n",
    "Besvarelse\n",
    "$$"
   ]
  },
  {
   "cell_type": "markdown",
   "id": "9f04fa18",
   "metadata": {},
   "source": [
    "vi ser at med 2 komponenta som sliter uavhenging vil vi få ein større buffer for kor lenge systemet er holdbart, som stemmer med intusjonen. vi ser og at det blir meir normalfordelt\n"
   ]
  },
  {
   "cell_type": "markdown",
   "id": "d84d8186",
   "metadata": {},
   "source": [
    "vi har at $X_1$ og $X_2$ er uavhengige, og $Z$ = $max(X_1,X_2)$. \n",
    "Vidare har vi då at\n",
    "$$\n",
    "P(Z>z) = P(max(X_1,X_2)>z)\n",
    "$$\n",
    "\n",
    "$$\n",
    "P(Z>z) = 1 - P(X_1 \\leq z)*P(X_2 \\leq z)\n",
    "$$\n",
    "Vi har eigenskapen at $P(X_1 \\leq z)$ = $P(X_2 \\leq z)$ = $F_x(z)$\n",
    "$$\n",
    "\\Rightarrow P(Z>z) = 1 - [F_x(z)]^2\n",
    "$$\n",
    "omskriver at $1-F_Z(z)=P(Z > z)$\n",
    "\n",
    "$$\n",
    "F_Z(z) = 1 - (1 - [F_x(z)]^2) = [F_x(z)]^2\n",
    "$$\n",
    "\n",
    "finner $f_Z(z)$ ved å derivere $F_Z$\n",
    "\n",
    "$$\n",
    "f_Z(z) = \\frac{d}{dz}  [F_x(z)]^2 = 2F_x(z)*f_x(z)\n",
    "$$\n",
    "som vi allereie har løyst\n",
    "$$\n",
    "f_Z(z) = 2(1-exp(-\\frac{z^2}{\\alpha}))\\frac{2z}{\\alpha}exp(-\\frac{z^2}{\\alpha})\n",
    "$$\n",
    "som kan forenklast til, og gir\n",
    "$$\n",
    "f_Z(z) = \\frac{4z}{\\alpha}(1-exp(\\frac{-z^2}{\\alpha}))exp(\\frac{-z^2}{\\alpha}); \\quad z\\geq 0\n",
    "$$\n"
   ]
  },
  {
   "cell_type": "markdown",
   "id": "fb94f9f1",
   "metadata": {},
   "source": [
    "## Oppgave 8"
   ]
  },
  {
   "cell_type": "markdown",
   "id": "b6ccb31b",
   "metadata": {},
   "source": [
    "I et lotteri er det $300$ lodd. Tre av loddene gir en gevinst av type $A$ og tre andre lodd gir en gevinst av type $B$. De øvrige 294 loddene gir ingen gevinst. Ola kjøper fem lodd som han trekker tilfeldig blant de $300$ loddene. La $X$ betegne antall gevinster av type A som Ola vinner, og la $Y$ betegne antall gevinster han vinner av type B."
   ]
  },
  {
   "cell_type": "markdown",
   "id": "f77cb369",
   "metadata": {},
   "source": [
    "La $f_X(x)=P(X=x)$ betegne punktsannsynligheten for $X$, og la tilsvarende $f_Y(y)=P(Y=y)$ betegne punktsannsynligheten for $Y$. Simultan punktsannsynlighet for $X$ og $Y$ betegner vi med $f_{XY}(x,y)=P(X=x,Y=y)$.\n",
    "\n",
    "  * Benytt kombinatorikk-regler til å finne en formel for $f_X(x)$ som funksjon av $x=0,1,2,3$.\n",
    "  * Finn også en formel som gjelder for $f_{XY}(x,y)$ når $x,y\\in\\{0,1,2,3\\}$, $x+y\\leq 5$.\n"
   ]
  },
  {
   "cell_type": "markdown",
   "id": "98296552",
   "metadata": {},
   "source": [
    "$$\n",
    "Besvarelse\n",
    "$$"
   ]
  },
  {
   "cell_type": "markdown",
   "id": "fae46f8d",
   "metadata": {},
   "source": [
    "Vi har $300$ lodd der det er $3$ lodd av type $A$ og $3$ av tupe $B$.\n",
    "vi har at $f_X(x)=P(X=x)$ og antall måter å velge $A$ på er $3Cx$ resterande valg er då $297C(5-x)$\n",
    "og måter å trekke 5 lodd er då $300C5$\n",
    "$$\n",
    "\\Rightarrow f_X(x) = P(X=x) = \\frac{\\binom{3}{x} \\binom{297}{5-x}}{\\binom{300}{5}}"
   ]
  },
  {
   "cell_type": "markdown",
   "id": "cebe29c7",
   "metadata": {},
   "source": [
    "en formel som gjelder for $f_{XY}(x,y)$ når $x,y\\in\\{0,1,2,3\\}$, $x+y\\leq 5$.\n",
    "vi kan velge $A$ på $3Cx$ måter, $B$ på $3Cy$ måter og resten er då $294C(5-x-y)$\n",
    "$$\n",
    "\\Rightarrow f_{XY}(x,y) = \\frac{\\binom{3}{x}\\binom{3}{y}\\binom{294}{5-x-y}}{\\binom{300}{5}}"
   ]
  },
  {
   "cell_type": "markdown",
   "id": "ccb60be2",
   "metadata": {},
   "source": [
    "For å besvare neste spørsmål kan du benytte at vi generelt har sammenhengen\n",
    "\\begin{align*}\n",
    "    f_X(x) = \\sum_y f_{XY}(x,y),\n",
    "\\end{align*}\n",
    "der summen er over alle mulige verdier for $y$.\n",
    "\n"
   ]
  },
  {
   "cell_type": "markdown",
   "id": "656bed55",
   "metadata": {},
   "source": [
    "  * Utled fra $f_{XY}(x,y)$ en formel for marginalfordelingen for $f_X(x)$ og observer at denne\n",
    "    er identisk med formelen du fant over. <em> Hint: Du vil her få bruk for Vandermondes identitet, som sier at for alle ikke-negative heltall $r$, $m$ og $n$ har man at </em>\n",
    "\n",
    "\\begin{align*}\n",
    "    \\sum_{k=0}^r \\binom{m}{k}\\binom{n}{r-k} = \\binom{m+n}{r}.\n",
    "\\end{align*}\n",
    "    \n"
   ]
  },
  {
   "cell_type": "markdown",
   "id": "0f1f4aa3",
   "metadata": {},
   "source": [
    "$$\n",
    "Besvarelse\n",
    "$$"
   ]
  },
  {
   "cell_type": "markdown",
   "id": "ebe43bc3",
   "metadata": {},
   "source": [
    "$$f_X(x) = \\sum_y f_{XY}(x,y)$$\n",
    "$y$ kan vere heiltall fra $0$ til $5-x$\n",
    "$$\\Rightarrow f(x) = \\sum_{y=0}^{5-x}\\frac{\\binom{3}{x}\\binom{3}{y}\\binom{294}{5-x-y}}{\\binom{300}{5}}$$\n",
    "Så kan vi trekke ut det som ikkje påvirkast av summen\n",
    "$$f(x) = \\frac{\\binom{3}{x}\\binom{3}{y}\\binom{294}{5-x-y}}{\\binom{300}{5}}\\sum_{y=0}^{5-x}\\binom{3}{y}\\binom{294}{5-x-y}$$\n",
    "Ved å ta i bruk Vandermondes teorem\n",
    "$$\\sum_{k=0}^r \\binom{m}{k}\\binom{n}{r-k} = \\binom{m+n}{r}.$$\n",
    "der $m =3,n=294,k=y,r=(5-x)$ har vi at\n",
    "$$f(x) =  \\frac{\\binom{3}{x} \\binom{297}{5-x}}{\\binom{300}{5}}$$"
   ]
  },
  {
   "cell_type": "markdown",
   "id": "e0f23805-e1b6-43f7-ae2a-4d4875ab8088",
   "metadata": {},
   "source": [
    "## Fasit:\n",
    "* Oppgave 2: $0.0190, 1.30\\cdot 10^{-6}$\n",
    "* Oppgave 3: $0.0487, 0.0493, 0.0967$\n",
    "* Oppgave 4: $0.1, 0, 1/3$\n",
    "* Oppgave 5: $0.0698$\n",
    "* Oppgave 6: $0.40, 0.5, 0.368$"
   ]
  }
 ],
 "metadata": {
  "kernelspec": {
   "display_name": "Python 3 (ipykernel)",
   "language": "python",
   "name": "python3"
  },
  "language_info": {
   "codemirror_mode": {
    "name": "ipython",
    "version": 3
   },
   "file_extension": ".py",
   "mimetype": "text/x-python",
   "name": "python",
   "nbconvert_exporter": "python",
   "pygments_lexer": "ipython3",
   "version": "3.11.5"
  }
 },
 "nbformat": 4,
 "nbformat_minor": 5
}
