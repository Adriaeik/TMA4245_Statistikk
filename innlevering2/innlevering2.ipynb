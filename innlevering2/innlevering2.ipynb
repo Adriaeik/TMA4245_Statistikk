{
 "cells": [
  {
   "cell_type": "markdown",
   "id": "db4f51c2-0e88-4652-8e88-7ee58260ad20",
   "metadata": {},
   "source": [
    "# Innlevering 2, Oppgave 1-6\n",
    "## Oppgave 1 *"
   ]
  },
  {
   "cell_type": "markdown",
   "id": "e8cf136d-89a3-42c3-b3fd-812809527f46",
   "metadata": {},
   "source": [
    "La $X$ være en diskret fordelt stokastisk variabel med punktsannsynlighet $f(x)=P(X=x)$ som angitt i følgende tabell.\n",
    "\n",
    "| $x$ |  | $f(x)$ |\n",
    "|:---:|----|:------:|\n",
    "| $0$ |  | $0.05$ |\n",
    "| $1$ |  | $0.10$ |\n",
    "| $2$ |  | $0.25$ |\n",
    "| $3$ |  | $0.40$ |\n",
    "| $4$ |  | $0.15$ |\n",
    "| $5$ |  | $0.05$ |\n",
    "\n",
    "  * Finn $P(X \\leq 2)$\n",
    "  \n",
    "Python-koden under definerer en funksjon <em>simX</em> som genererer $n$ realisasjoner av $X$. Denne funksjonen kan du benytte til å besvare neste spørsmål. <em>Merk: Studer koden slik at du senere selv kan skrive pythonfunksjoner.</em>"
   ]
  },
  {
   "cell_type": "markdown",
   "id": "892524d3",
   "metadata": {},
   "source": [
    "$$\n",
    "Besvarelse\n",
    "$$"
   ]
  },
  {
   "cell_type": "markdown",
   "id": "604e03fa",
   "metadata": {},
   "source": [
    "for å finne  $P(X \\leq 2)$ trenger vi å sumere alle mulighetane.\n",
    "$$\n",
    "P(X \\leq 2) = 0.05 + 0.10 + 0.25 = 0.40\n",
    "$$"
   ]
  },
  {
   "cell_type": "code",
   "execution_count": 60,
   "id": "00f1e3de",
   "metadata": {},
   "outputs": [],
   "source": [
    "# Importer nødvendige biblioteker, denne cellen må kjøres før annen kode.\n",
    "import numpy as np\n",
    "import matplotlib.pyplot as plt"
   ]
  },
  {
   "cell_type": "code",
   "execution_count": 61,
   "id": "9fa84347-b3b2-426c-aafd-238550981c7f",
   "metadata": {},
   "outputs": [],
   "source": [
    "# UTLEVERT KODE (ingenting her skal endres)\n",
    "# punktsannsynlighet\n",
    "f_x = np.array([0.05,0.10,0.25,0.40,0.15,0.05])\n",
    "\n",
    "# kumulativ fordelingsfunksjon\n",
    "F_x = [np.sum(f_x[:i]) for i in range(1,7)]\n",
    "\n",
    "def simX(n):\n",
    "    # verdimengde\n",
    "    x = np.arange(6) \n",
    "    # for lagring av realisasjoner\n",
    "    x_sim = np.zeros(n) \n",
    "    for i in range(n): # vi simulerer hver og en x for seg\n",
    "        u = np.random.uniform() # en realisasjon fra U(0,1)\n",
    "        if(u < F_x[0]): # hvis u er mindre enn den laveste \n",
    "                        # verdien i F_x vil \n",
    "                         # vi at realisasjonen skal være 0\n",
    "            x_sim[i] = x[0]\n",
    "        elif(u <= F_x[1]): # hvis u er mindre enn den nest \n",
    "                           # laveste verdien (men større enn laveste) \n",
    "                           # vil vi at x skal bli 1\n",
    "            x_sim[i] = x[1]\n",
    "        elif(u <= F_x[2]):\n",
    "            x_sim[i] = x[2]\n",
    "        elif(u <= F_x[3]):\n",
    "            x_sim[i] = x[3]\n",
    "        elif(u <= F_x[4]):\n",
    "            x_sim[i] = x[4]\n",
    "        elif(u > F_x[4]): \n",
    "            x_sim[i] = x[5]\n",
    "    return x_sim\n"
   ]
  },
  {
   "cell_type": "markdown",
   "id": "b3df12bd-27d5-4e36-8547-9232ece0db95",
   "metadata": {},
   "source": [
    "   * Skriv python-kode som benytter stokastisk simulering, og spesielt <em>simX</em>-funksjonen definert over,\n",
    "    til å finne tilnærmet verdi for $P(X\\leq 2)$. Benytt for eksempel $n=1000$ og kjør gjerne \n",
    "    koden din flere ganger slik at du får en følelse av\n",
    "    nøyaktigheten av tilnærmelsene. Sammenlign verdiene du finner her med den\n",
    "    eksakte verdiene du fant over (og i Skriftlig innlevering 1)."
   ]
  },
  {
   "cell_type": "code",
   "execution_count": 110,
   "id": "5ef64416-f6e7-484e-a2c0-d267b49c429c",
   "metadata": {},
   "outputs": [
    {
     "name": "stdout",
     "output_type": "stream",
     "text": [
      "Approksimert sannsynlighet:  0.4005\n"
     ]
    }
   ],
   "source": [
    "# Antall realisasjoner man skal bruke\n",
    "n = 100000\n",
    "\n",
    "# Simuler realisasjoner av X ved å kalle på simX-funksjonen i cellen over\n",
    "simulerte_X = simX(n)\n",
    "\n",
    "# Approksimer sannsynligheten\n",
    "P_X_le_2 = np.sum(simulerte_X <= 2) / n\n",
    "\n",
    "\n",
    "# Skriv ut resultatet\n",
    "print(\"Approksimert sannsynlighet: \",P_X_le_2)\n"
   ]
  },
  {
   "cell_type": "markdown",
   "id": "2d1c939f",
   "metadata": {},
   "source": [
    "## Oppgave 2 *\n",
    "\n",
    "Vi skal igjen studere den diskrete sannsynlighetsfordelingen fra oppgave 1. \n",
    "\n",
    "* Regn ut forventningsverdien til $X$, $E[X]$\n",
    "* Regn ut variansen, $\\text{Var}(X)$, og standardavviket, $\\text{SD}[X]$.\n",
    "* Bruk <em>simX</em>-funksjonen definert over til å finne tilnærmede verdier for $E[X]$ og $\\text{SD}[X]$. Sammenlign tilnærmingene med de eksakte verdiene du regnet ut over. Kjør gjerne simuleringen (f.eks med $n = 1000$ flere ganger). "
   ]
  },
  {
   "cell_type": "markdown",
   "id": "6fee597d",
   "metadata": {},
   "source": [
    "$$\n",
    "Besvarelse\n",
    "$$"
   ]
  },
  {
   "cell_type": "markdown",
   "id": "6cd89fca",
   "metadata": {},
   "source": [
    "Forventningsverdi\n",
    "\\begin{align*}\n",
    "E[X] = \\sum_ix_if(x_i)\\\\\n",
    "\\end{align*}\n",
    "\n",
    "\\begin{align*}\n",
    "E[X] = \\sum_{i=0}^5 x_if(x_i)= 0\\times0.05 + 1\\times 0,10 +2\\times 0.25 + 3\\times 0.40 + 4\\times 0.15 + 5\\times 0.05 = 2.65\n",
    "\\end{align*}\n",
    "\n",
    "Varians\n",
    "\\begin{align*}\n",
    "Var(x) = E[x^2]-(E[X])^2\\\\\n",
    "\\end{align*}\n",
    "\n",
    "må løyse for E[x^2]\n",
    "\\begin{align*}\n",
    "E[X^2] = \\sum_ix^2_if(x_i)\\\\\n",
    "\\end{align*}\n",
    "\n",
    "\\begin{align*}\n",
    "E[X^2] = \\sum_{i=0}^5 x^2_if(x_i)= 0^2\\times0.05 + 1^2\\times 0,10 +2^2\\times 0.25 + 3^2\\times 0.40 + 4^2\\times 0.15 + 5^2\\times 0.05 = 8.35\\\\\n",
    "\\end{align*}\n",
    "setter inn for $Var(x)$\n",
    "\\begin{align*}\n",
    "Var(x) = E[x^2]-(E[X])^2 = 8.35 - 2.65^2 = 1.3275\\\\\n",
    "\\end{align*}\n",
    "\n",
    "Standaravvik\n",
    "\\begin{align*}\n",
    "SD[X] = \\sqrt{Var(x)} = \\sqrt{1.3275} = 1.152\n",
    "\\end{align*}\n",
    "\n",
    "$E[X]$ i python:"
   ]
  },
  {
   "cell_type": "code",
   "execution_count": 63,
   "id": "ab912e2c",
   "metadata": {},
   "outputs": [
    {
     "name": "stdout",
     "output_type": "stream",
     "text": [
      "E(x)= 2.65\n"
     ]
    }
   ],
   "source": [
    "E_x= sum(i*f_x[i] for i in range(len(f_x)))\n",
    "print(\"E(x)=\",round(E_x,4) )"
   ]
  },
  {
   "cell_type": "markdown",
   "id": "a086d05b-867e-4f8b-bd74-fe6f29c00a91",
   "metadata": {},
   "source": [
    "## Oppgave 3 *\n",
    "\n",
    "La $X$ være en stokastisk variabel som beskriver hvor lang tid en komponent har fungert i det den svikter.\n",
    "  Vi kaller da $X$ for <em>levetiden</em> for komponenten.\n",
    "\n",
    "  Levetiden $X$ (målt i antall år) til en bestemt type mekaniske komponenter har vist seg å\n",
    "  følge en fordeling med kumulativ fordelingsfunksjon gitt ved\n",
    "\\begin{align*}\n",
    "F_X(x) = 1 - \\exp\\left( -\\frac{x^2}{\\alpha} \\right) \\quad \\text{for } x \\geq 0,\n",
    "\\end{align*}\n",
    "\n",
    "  der $\\alpha$ er en parameter som beskriver kvaliteten til komponentene.\n",
    "\n",
    "### Deloppgave a)\n",
    "\n",
    "* Finn sannsynlighetstettheten til $X$, $f_X(x)$. Eventuelt hent denne fra din besvarelse av \n",
    "Skriftlig innlevering 1.\n",
    "\n",
    "\n"
   ]
  },
  {
   "cell_type": "markdown",
   "id": "0c1a62cc",
   "metadata": {},
   "source": [
    "$$\n",
    "Besvarelse\n",
    "$$"
   ]
  },
  {
   "cell_type": "markdown",
   "id": "79b0e964",
   "metadata": {},
   "source": [
    "Gitt den kumulative fordelingsfunksjonen $F_X(x)$ for ein stokastisk variabel $X$, kan vi finne sannsynlighetstetthetsfunksjonen $f_X(x)$ ved å derivere $F_X(x)$ med hensyn til $x$.\n",
    "\n",
    "Den kumulative fordelingsfunksjonen er gitt ved:\n",
    "\n",
    "$$\n",
    "F_X(x) = 1 - \\exp\\left( -\\frac{x^2}{\\alpha} \\right); \\quad x \\geq 0\n",
    "$$\n",
    "\n",
    "For å finne PDF $f_X(x)$, tar vi den deriverte av $F_X(x)$ med hensyn til $x$:\n",
    "\n",
    "$$\n",
    "f_X(x) = -\\exp\\left( -\\frac{x^2}{\\alpha} \\right) \\cdot \\left( -\\frac{2x}{\\alpha} \\right) = \\frac{2x}{\\alpha} \\exp\\left( -\\frac{x^2}{\\alpha} \\right)\n",
    "$$\n",
    "\n",
    "Så, sannsynlighetstetthetsfunksjonen $f_X(x)$ for  $X$ er:\n",
    "\n",
    "$$\n",
    "f_X(x) = \\frac{2x}{\\alpha} \\exp\\left( -\\frac{x^2}{\\alpha} \\right); \\quad x \\geq 0\n",
    "$$\n",
    "\n",
    "Dinna funksjonen beskrive sannsynlighetstettheta til levetiden $X$ for de mekaniske komponentane, gitt parametere $\\alpha$ som beskrive kvaliteten på komponentane."
   ]
  },
  {
   "cell_type": "markdown",
   "id": "09c12d89",
   "metadata": {},
   "source": [
    "### Deloppgave b)\n",
    "\n",
    "La $U\\sim \\text{Unif}[0,1]$.\n",
    "\n",
    "   * Finn en formel for hvordan man fra $U$ kan definere $X$ slik at kumulativ fordeling for $X$\n",
    "      blir som angitt over.\n",
    "   * Skriv en python-funksjon som genererer $n$ realisasjoner av $X$. La funksjonen ha to \n",
    "    input-parametre, antall realisasjoner $n$ og verdien til kvalitetsparameteren $\\alpha$. \n",
    "    Benytt funksjonen til å generere (for eksempel) $n=10\\ 000\\ 000$ realisasjoner av $X$ med \n",
    "    (for eksempel) $\\alpha=1$, og lag et sannsynlighetshistogram for de genererte verdiene. Spesifiser at histogrammet skal ha 100 intervaller, se kode under.\n",
    "    Plott også sannsynlighetstettheten $f_X(x)$ i samme plott som\n",
    "    sannsynlighetshistogrammet. Ser det ut til at du har generert \n",
    "    realisasjoner av $X$ på korrekt måte?\n"
   ]
  },
  {
   "cell_type": "markdown",
   "id": "c516ac87",
   "metadata": {},
   "source": [
    "$$\n",
    "Besvarelse\n",
    "$$"
   ]
  },
  {
   "cell_type": "markdown",
   "id": "2ba5dba5",
   "metadata": {},
   "source": [
    "For å uttrykke den stokastiske variabelen $X$ ved $U$ slik at den blir definert på intervallet $[0,1]$ så må vi finne den inverse til den kumaletive fordelingsfunksjone $F_X(x)$ og løyse den med hensyn på $U$.\n",
    "\n",
    "\\begin{align}\n",
    "F_X(x) = u\\\\\n",
    "exp(-\\frac{x^2}{ \\alpha }) = 1-u\\\\\n",
    "x = \\sqrt{-\\alpha\\ ln(1-u)}\n",
    "\\end{align}\n",
    "Sia $x\\geq0$, så ser vi kun på den positive rota, og vi ser at funksjonen er kun reel så lenge u er innafor intervallet $[0,1]$ som vi ønska.\\\n",
    "Av ditta har vi at \n",
    "\\begin{align*}\n",
    "X = F_x(u)^{-1} = \\sqrt{-\\alpha\\ ln(1-u)}\n",
    "\\end{align*}\n"
   ]
  },
  {
   "cell_type": "code",
   "execution_count": 64,
   "id": "2d7240a9",
   "metadata": {},
   "outputs": [
    {
     "data": {
      "image/png": "[encoded data removed]",
      "text/plain": [
       "<Figure size 432x288 with 1 Axes>"
      ]
     },
     "metadata": {
      "needs_background": "light"
     },
     "output_type": "display_data"
    }
   ],
   "source": [
    "def generateX(n, alpha):\n",
    "    u = np.random.uniform(size=n)   #array med n elementer.\n",
    "    x = np.sqrt(-alpha * np.log(1 - u))  # fyll inn formelen du fant for x\n",
    "    return x\n",
    "\n",
    "# Sett antall realisasjoner og verdien til alpha\n",
    "n = 10000000\n",
    "alpha = 1\n",
    "\n",
    "# Simuler realisasjoner av X\n",
    "simulerte_X = generateX(n, alpha)\n",
    "\n",
    "# Lag sannsynlighetshistogram for de simulerte verdiene\n",
    "plt.hist(simulerte_X, density=True, bins=100, alpha=0.6, label='Simulerte verdier')\n",
    "\n",
    "# Angi navn på aksene\n",
    "plt.xlabel('x')\n",
    "plt.ylabel('Sannsynlighetstetthet')\n",
    "\n",
    "# Regn ut og plott sannsynlighetstettheten til X på samme plott\n",
    "x_values = np.linspace(0, np.max(simulerte_X), 1000)\n",
    "pdf_values = (2 * x_values / alpha) * np.exp(-x_values**2 / alpha)\n",
    "plt.plot(x_values, pdf_values, 'r', label='Sannsynlighetstetthet $f_X(x)$')\n",
    "plt.title('Sannsynlighetshistogram og tetthetsfunksjon for $X$')\n",
    "plt.legend()\n",
    "\n",
    "# Avslutt med å generere alle elementene du har plottet\n",
    "plt.show()"
   ]
  },
  {
   "cell_type": "markdown",
   "id": "3ca2df47-eefd-41a1-9d20-a27b1b8ea420",
   "metadata": {},
   "source": [
    "#### Her er deloppgave b) slutt."
   ]
  },
  {
   "cell_type": "markdown",
   "id": "7ff64247-d100-43c0-9625-13c8744c2d8a",
   "metadata": {},
   "source": [
    "### Deloppgave c)\n",
    "\n",
    "Et instrument inneholder fem komponenter av denne typen, to av disse komponentene har kvalitetsparameter $\\alpha = 1$ og de andre tre komponentene har $\\alpha=1.2$. De fem komponentene svikter uavhengig av hverandre og instrumentet fungerer så lenge minst tre av de fem komponentene fungerer. La $Y$ betegne levetiden til instrumentet.\n",
    "\n",
    "* Skriv en python-funksjon som genererer $n$ realisasjoner av $Y$. Funksjonen skal ha en input-parameter, nemlig antall realisasjoner $n$. Benytt funksjonen til å genererere (for eksempel) $n=10\\ 000$ realisasjoner av $Y$, og lag et sannsynlighetsistogram for de genererte verdiene.\n",
    "* Benytt python-funksjonen til å finne tilnærmede verdier for $P(Y\\geq 1)$ og $P(Y\\geq 1|Y\\geq 0.75)$."
   ]
  },
  {
   "cell_type": "code",
   "execution_count": 122,
   "id": "01b1e9af-482c-4cda-955b-7bc6c4dc5398",
   "metadata": {},
   "outputs": [
    {
     "data": {
      "image/png": "[encoded data removed]",
      "text/plain": [
       "<Figure size 432x288 with 1 Axes>"
      ]
     },
     "metadata": {
      "needs_background": "light"
     },
     "output_type": "display_data"
    },
    {
     "name": "stdout",
     "output_type": "stream",
     "text": [
      "P(Y >= 1): 0.330357\n",
      "P(Y >= 1 | Y >= 0.75): 0.48027057988881394\n"
     ]
    }
   ],
   "source": [
    "def generateY(n):\n",
    "    alpha1 = 1\n",
    "    alpha2 = 1.2\n",
    "    levetider = np.zeros(n)\n",
    "    for i in range(n):\n",
    "        komponenter1 = generateX(2, alpha1)  # 2 stk med alpha = 1\n",
    "        komponenter2 = generateX(3, alpha2)  # 3 stk med alpha = 1.2\n",
    "        alle_komponenter = np.concatenate([komponenter1, komponenter2])\n",
    "        #print(np.sort(alle_komponenter))\n",
    "        \n",
    "        levetider[i] = np.sort(alle_komponenter)[-3]  # Tredje lengste levetid\n",
    "    return levetider\n",
    "\n",
    "# Generer realisasjoner av Y\n",
    "n = 1000000\n",
    "simulerte_Y = generateY(n)\n",
    "\n",
    "# Lag sannsynlighetshistogram\n",
    "plt.hist(simulerte_Y, bins=1000, density=True)\n",
    "plt.xlabel('Levetid Y')\n",
    "plt.ylabel('Sannsynlighet')\n",
    "plt.title('Sannsynlighetshistogram for levetiden Y')\n",
    "plt.show()\n",
    "\n",
    "# Beregn P(Y >= 1) og P(Y >= 1 | Y >= 0.75)\n",
    "p_Y_ge_1 = np.mean(simulerte_Y >= 1)\n",
    "p_Y_ge_1_given_Y_ge_075 = np.mean(simulerte_Y >= 1) / np.mean(simulerte_Y >= 0.75)\n",
    "\n",
    "print(f\"P(Y >= 1): {p_Y_ge_1}\")\n",
    "print(f\"P(Y >= 1 | Y >= 0.75): {p_Y_ge_1_given_Y_ge_075}\")"
   ]
  },
  {
   "cell_type": "markdown",
   "id": "d9486729-c75b-4424-9cff-1d8800588e95",
   "metadata": {},
   "source": [
    "## Oppgave 4 *\n",
    "\n",
    "Vi skal igjen studere levetidsfordelingen fra Oppgave 3. \n",
    "\n",
    "* Finn en formel for $E[X]$ (som funksjon av $\\alpha$). Du kan her uten bevis benytte at \n",
    "  $$\n",
    "  \\int_{-\\infty}^\\infty e^{-x^2}dx = \\sqrt{\\pi}.\n",
    "  $$ \n",
    "  Du kan verifisere om resultatet virker rimelig ved å sammenlikne med histogrammet fra oppgave 3.\n",
    "* Benytt python-funksjonen du har implementert i oppgave 3 c til å finne tilnærmede verdier for $E[Y]$ og $\\text{SD}[Y]$."
   ]
  },
  {
   "cell_type": "markdown",
   "id": "4bef273c",
   "metadata": {},
   "source": [
    "Gitt $$f_X(x) = \\frac{2x}{\\alpha} \\exp\\left( -\\frac{x^2}{\\alpha} \\right); \\quad x \\geq 0$$\n",
    "er $E[X]$ definert som\n",
    "\\begin{align*}\n",
    "E[X] = \\int_{0}^\\infty x\\times\\frac{2x}{\\alpha} exp(\\frac{-x^2}{\\alpha})dx\\\\\n",
    "\\end{align*}\n",
    "Ved å bruke $u=\\frac{x^2}{\\alpha}$ så får vi at $du=\\frac{2x}{\\alpha}dx$\\\n",
    "og vi kan skrive $x$ som $\\sqrt{\\alpha u} \\quad$, sida $x^2=\\alpha u$ \\\n",
    "det lar os skrive om integrale og benytte gammafunskjonen\n",
    "\\begin{align*}\n",
    "E[X] = \\sqrt{\\alpha}\\int_{0}^\\infty\\sqrt{u}\\ exp(-u)du\n",
    "\\end{align*}\n",
    "Det er eit gamma integral av typen $\\int u^{n}\\ e^{-u}du$, for $n=\\frac{1}{2}$ \n",
    "\n",
    "Ditta er kjent, og løysinga er då gitt av \n",
    "$$\\Gamma(\\frac{3}{2}) = \\frac{\\sqrt{\\pi}}{2}$$\n",
    "Setter det sammen, og får at \n",
    "\\begin{align*}\n",
    "E[X] = \\sqrt{\\alpha}\\times\\frac{\\sqrt{\\pi}}{2}\n",
    "\\end{align*}\n",
    "Og som vi ser ei python snutten under er ditta rimelig :))"
   ]
  },
  {
   "cell_type": "code",
   "execution_count": 124,
   "id": "864e9d1d",
   "metadata": {},
   "outputs": [
    {
     "name": "stdout",
     "output_type": "stream",
     "text": [
      "Tilnærmet SD[Y]:      0.26810643619232966\n",
      "Tilnærmet E[Y]:       0.8948491925147971\n",
      "analytisk løst E[Y]:  0.8862269254527579\n"
     ]
    }
   ],
   "source": [
    "E_Y = np.mean(simulerte_Y)\n",
    "SD_Y = np.std(simulerte_Y)\n",
    "\n",
    "print(f\"Tilnærmet SD[Y]:      {SD_Y}\")\n",
    "print(f\"Tilnærmet E[Y]:       {E_Y}\")\n",
    "print(\"analytisk løst E[Y]: \",np.sqrt(alpha*np.pi)/2)"
   ]
  },
  {
   "cell_type": "markdown",
   "id": "363084a4-92f2-4658-9006-9843bb223803",
   "metadata": {},
   "source": [
    "## Oppgave 5 \n",
    "Simultanfordelingen $f_{XY}(x,y)$ til to diskret fordelte stokastiske \n",
    "variabler $X$ og $Y$ er gitt ved følgende tabell.\n",
    "\n",
    "  |       | $y=0$ | $y=1$ | $y=2$ | $y=3$ |\n",
    "  |:-----:|:-----:|:-----:|:-----:|:-----:|\n",
    "  | $x=0$ | $\\frac{1}{18}$ | $\\frac{1}{6}$ | $\\frac{1}{18}$ | $\\frac{1}{18}$ |\n",
    "  | $x=1$ | $\\frac{1}{18}$ | $\\frac{1}{18}$ | $\\frac{1}{6}$ | $\\frac{1}{18}$ |\n",
    "  | $x=2$ | $\\frac{1}{18}$ | $\\frac{1}{18}$ | $\\frac{1}{18}$ | $\\frac{1}{6}$ |\n",
    "  \n",
    "\n",
    "  * Finn marginalfordelingen for $X$, dvs $f_X(x)$, og den betingede \n",
    "    fordelingen for $Y$ gitt $X$, dvs\n",
    "    $f_{Y|X}(y|x)$.\n",
    "  * Finn forventningsverdien for $X$, $E[X]$, og forventningsverdien \n",
    "    til $Y$, $E[Y]$.\n",
    "  * Er $X$ og $Y$ uavhengige stokastiske variabler? Begrunn svaret.\n",
    "  * Finn $\\text{Cov}[X,Y]$.\n"
   ]
  },
  {
   "cell_type": "markdown",
   "id": "3c96fe08",
   "metadata": {},
   "source": [
    "$$\n",
    "Besvarelse\n",
    "$$"
   ]
  },
  {
   "cell_type": "markdown",
   "id": "61d0d6aa",
   "metadata": {},
   "source": [
    "* For å finne marginalfordelinga for $X$ må vi summere sannsynligheta i tabellen over alle verdia av y for kvar verdi av x. \n",
    "\\begin{align}\n",
    "f_X(0) = \\frac{1}{18}+\\frac{1}{6}+\\frac{1}{18}+\\frac{1}{18} = \\frac{1}{3}\\\\\n",
    "f_X(1) = \\frac{1}{18}+\\frac{1}{18}+\\frac{1}{6}+\\frac{1}{18} = \\frac{1}{3}\\\\\n",
    "f_X(2) = \\frac{1}{18}+\\frac{1}{18}+\\frac{1}{18}+\\frac{1}{6} = \\frac{1}{3}\\\\\n",
    "\\end{align}\n",
    "Den betinga fordelinga for $Y$ gitt $X$ finner ein ved å dele sannsynligheta for hvert par av $(x,y)$ med marginalfordelingen for $X$ ved den gitte verdien av x.\\\n",
    "altså:\n",
    "\\begin{align*}\n",
    "f_{Y|X}(y|x) = \\frac{f_{XY}(x,y)}{f_X(x)}\n",
    "\\end{align*}\n",
    "Gidder ikkje å skrive utrekning for alle, men eksempelvis om vi er gitt $x=0$, og vil finne sansynligheten for at $y = 2$ har vi\n",
    "\\begin{align*}\n",
    "f_{Y|X}(2|0) = \\frac{f_{XY}(0,2)}{f_X(0)} = \\frac{\\frac{1}{18}}{\\frac{1}{3}} = \\frac{1}{6}\n",
    "\\end{align*}\n",
    "\n",
    "* Forventningsverdien $E[X]$ er definert som $E[X] = \\sum_ix_if(x_i)$, vi har funne $f_X(x)$, men for å finne forventningsverdien for $Y$ må vi først løyse for $f_Y(y)$\n",
    "\\begin{align}\n",
    "f_Y(0) = \\frac{1}{18}+\\frac{1}{18}+\\frac{1}{18} = \\frac{1}{6}\\\\\n",
    "f_Y(1) = \\frac{1}{6}+\\frac{1}{18}+\\frac{1}{18} = \\frac{5}{18}\\\\\n",
    "f_Y(2) = \\frac{1}{18}+\\frac{1}{6}+\\frac{1}{18} = \\frac{5}{18}\\\\\n",
    "f_Y(3) = \\frac{1}{18}+\\frac{1}{18}+\\frac{1}{6} = \\frac{5}{18}\\\\\n",
    "\\end{align}\n",
    "No som vi har marginalfordelinga for både $X$ og $Y$ kan vi løyse for Forventningsverdien\n",
    "\\begin{align}\n",
    "E[X] = \\sum_{x=0}^2 x\\ f(x)= 0\\times\\frac{1}{3} + 1\\times\\frac{1}{3} +2\\times\\frac{1}{3}+ 3\\times\\frac{1}{3}= 1\\\\\n",
    "E[Y] = \\sum_{y=0}^3 y\\ f(y)= 0\\times\\frac{1}{6} + 1\\times\\frac{5}{18} +2\\times\\frac{5}{18}+ 3\\frac{5}{18}= \\frac{5}{3}\n",
    "\\end{align}\n",
    "\n",
    "* For å kunne avgjere om $X$ og $Y$ er uavhengige stokatiske variabla må vi sjekke om produktet av deira marginalfordeling er lik deira felles fordeling for alle kombinasjoner av $X$ og $Y$. Alttså, $X$ og $Y$ er uavhengige visst og kun visst\n",
    "\\begin{align*}\n",
    "f_{XY}(x,y) = f_X(x)\\times f_Y(y)\n",
    "\\end{align*}\n",
    "Så vi trenger kun å finne ein kombinasjon som bryter med dinna regelen. Vi kan sjølv gå igjenom og sjå at \n",
    "\\begin{align*}\n",
    "f_{XY}(0,1) \\neq f_X(0)\\times f_Y(1)\n",
    "\\end{align*}\n",
    "Eller vi kan lage eit python program som gjer det for oss."
   ]
  },
  {
   "cell_type": "code",
   "execution_count": 71,
   "id": "bb629a7c",
   "metadata": {},
   "outputs": [
    {
     "name": "stdout",
     "output_type": "stream",
     "text": [
      "X og Y er ikkje uavhengige.\n"
     ]
    }
   ],
   "source": [
    "def er_uavhengige(felles_fordeling):\n",
    "    f_X = np.sum(felles_fordeling, axis=1)\n",
    "    f_Y = np.sum(felles_fordeling, axis=0)\n",
    "    produkt = np.outer(f_X, f_Y)\n",
    "    return np.allclose(produkt, felles_fordeling)\n",
    "\n",
    "felles_fordeling = np.array([\n",
    "    [1/18, 1/6, 1/18, 1/18],\n",
    "    [1/18, 1/18, 1/6, 1/18],\n",
    "    [1/18, 1/18, 1/18, 1/6]\n",
    "])\n",
    "\n",
    "print(\"X og Y er uavhengige.\" if er_uavhengige(felles_fordeling) else \"X og Y er ikkje uavhengige.\")"
   ]
  },
  {
   "cell_type": "markdown",
   "id": "55167466",
   "metadata": {},
   "source": [
    "* For å finne kovariansen mellom to stokastiske variabler $X$ og $Y$, $Cov[X,Y]$, bruker vi formelen:\n",
    "\\begin{align*}\n",
    "\\text{Cov}[X,Y] = E[XY]−E[X]E[Y]\\\\\n",
    "E[XY] = \\sum_{x,y} x\\ y\\ f(x,y)\n",
    "\\end{align*}\n",
    "Ditta er masse summing, og egna mat for python"
   ]
  },
  {
   "cell_type": "code",
   "execution_count": 76,
   "id": "a967b39a",
   "metadata": {},
   "outputs": [
    {
     "name": "stdout",
     "output_type": "stream",
     "text": [
      "E[X] = 1.0\n",
      "E[Y] = 1.6666666666666667\n",
      "E[XY] = 1.8888888888888888\n",
      "Cov[X, Y] = 0.2222222222222221, også kjent som 2/9\n"
     ]
    }
   ],
   "source": [
    "E_X = np.sum([x * np.sum(felles_fordeling[x, :]) for x in range(felles_fordeling.shape[0])])\n",
    "E_Y = np.sum([y * np.sum(felles_fordeling[:, y]) for y in range(felles_fordeling.shape[1])])\n",
    "E_XY = np.sum([x * y * felles_fordeling[x, y] for x in range(felles_fordeling.shape[0]) for y in range(felles_fordeling.shape[1])])\n",
    "\n",
    "Cov_XY = E_XY - E_X * E_Y\n",
    "\n",
    "print(f\"E[X] = {E_X}\")\n",
    "print(f\"E[Y] = {E_Y}\")\n",
    "print(f\"E[XY] = {E_XY}\")\n",
    "print(f\"Cov[X, Y] = {Cov_XY}, også kjent som 2/9\")\n"
   ]
  },
  {
   "cell_type": "markdown",
   "id": "255fa809-94f3-427b-b77c-2b5b3a93034e",
   "metadata": {},
   "source": [
    "## Oppgave 6\n",
    "\n",
    "En maskin produserer aluminiumsplater som ifølge produktspesifikasjonen skal veie 100 gram.\n",
    "Det blir akseptert et lite avvik fra denne vekten, men dersom vekten avviker mer enn ±1 gram fra\n",
    "denne verdien, blir aluminiumsplaten vurdert til å være defekt.\n",
    "\n",
    "Anta at vekten på aluminiumsplatene som produseres har forventning 100 gram\n",
    "og standardavvik 0.8 gram.\n",
    "\n",
    "### Deloppgave a)\n",
    "\n",
    "Ti plater pakkes i en pappeske. Pappesken veier 50 gram. Platenes vekt er uavhengige.\n",
    "\n",
    "* Hva er forventet vekt av pappesken med ti tilfeldig valgte plater?\n",
    "* Hva er standarddavviket?\n",
    "\n",
    "### Deloppgave b)\n",
    "\n",
    "Sannsynligheten for at en aluminiumsplate ikke følger spesifikasjonen er $0.21$. Vi ser som før på en eske med ti tilfeldig valgte plater.\n",
    "* Hva er forventet antall defekte plater i esken?\n",
    "* Hva er sannsynligheten for at minst en plate er defekt?"
   ]
  },
  {
   "cell_type": "markdown",
   "id": "edafce24",
   "metadata": {},
   "source": [
    "$$\n",
    "Besvarelse\n",
    "$$"
   ]
  },
  {
   "cell_type": "markdown",
   "id": "fed08e8a",
   "metadata": {},
   "source": [
    "* **a)** For å finne den forventa vekta av $10$ øsje med tilfeldig valgte plater bruker vi at for kvar plate er $E[\\text{platevekt}_i]=100g$ og $E[\\text{øsjevekt}_i]=50g$. La platevekt vere $X$ og øsjevekt vere $Y$ og vi kan då finne $E[\\text{pappøsje med plate}] = E[Z]$ slik\n",
    "\\begin{align*}\n",
    "E[Z] = \\sum_{i=1}^{10} E[Z_i] = \\sum_{i=1}^{10} E[X_i] + E[Y_i] = 1000 + 50 = 1050\n",
    "\\end{align*}\n",
    "\n",
    "Standardavviket til summen av vekta til ti uavhengige plater er roten av summen av variansene til kvar plate. Sida standardavviket til vekta av kvar plate er gitt som 0.8 gram, er variansen $\\sigma ^2 = 0.8^2g$\\\n",
    "For uavhengige stokastiske variabla $X_i$ er variansen til summen $\\text{Var}[X_i]$ standardavviket til summen er da kvadratroten av dette\n",
    "\\begin{align*}\n",
    "\\text{Var}[X_i] = \\text{Var}[X_1+X_2+...+X_{10}] = 10 \\times 0.8^2\\\\\n",
    "\\sigma_{\\text{total vekt av plata}} = \\sqrt{10 \\times 0.8^2} \\approx 2.53 g\n",
    "\\end{align*}\n"
   ]
  },
  {
   "cell_type": "markdown",
   "id": "549f902c",
   "metadata": {},
   "source": [
    "**b)** for å finne forventa antall defekte plater i pappøsja bruker vi at $ E[X_i]$ er oppgit til å vere 0.21, så med 10 plater har vi då\n",
    "\\begin{align*}\n",
    "E[x] = \\sum_{i=1}^{10} E[X_i] = 10\\times 0.21 = 2.1\n",
    "\\end{align*}\n",
    "\n",
    "Sansynligheten for at minst ein plate er defekt er komplimentet til at ingen er deffekt. Det kan finnes ved\n",
    "\n",
    "\\begin{align*}\n",
    "P(minst\\ ein\\ defekt) = 1 - P(ingen\\ defekt) = 1 - (1-0.21)^{10} = 1-0.79^{10}=0.905 \n",
    "\\end{align*}\n"
   ]
  },
  {
   "cell_type": "markdown",
   "id": "36737e01-0ad7-4b08-9a7c-62264194879c",
   "metadata": {},
   "source": [
    "## Fasit:\n",
    "* Oppgave 1: $0.40$\n",
    "* Oppgave 2: $E[X]=2.65, \\text{Var}[X]=1.3275$\n",
    "* Oppgave 5: $E[X]=1, E[Y]=5/3, \\text{Cov}[X,Y]=2/9$\n",
    "* Oppgave 6a): $1050, 2.53$\n",
    "* Oppgave 6b): $2.1, 0.905$"
   ]
  }
 ],
 "metadata": {
  "kernelspec": {
   "display_name": "Python 3 (ipykernel)",
   "language": "python",
   "name": "python3"
  },
  "language_info": {
   "codemirror_mode": {
    "name": "ipython",
    "version": 3
   },
   "file_extension": ".py",
   "mimetype": "text/x-python",
   "name": "python",
   "nbconvert_exporter": "python",
   "pygments_lexer": "ipython3",
   "version": "3.9.12"
  }
 },
 "nbformat": 4,
 "nbformat_minor": 5
}
