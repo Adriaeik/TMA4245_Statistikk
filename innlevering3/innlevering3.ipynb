{
 "cells": [
  {
   "cell_type": "markdown",
   "id": "bbc752a0-3f69-4c23-a817-284bcf2574d4",
   "metadata": {},
   "source": [
    "# Skriftlig innlevering 3"
   ]
  },
  {
   "cell_type": "markdown",
   "id": "dfc9d8cf-eef2-4066-959a-cd6fc2c9684a",
   "metadata": {},
   "source": [
    "## Oppgave 1 **\n",
    "En bedrift har kjøpt inn en ny kraftig datamaskin og vurderer behovet for vedlikeholdsarbeid på denne. De regner med at feilene som vil oppstå er av to typer, feil som de kan utbedre selv (type A-feil) og feil som krever assistanse fra merkeleverandør for å utbedre (type B-feil). De antar at feil av type A kommer ifølge en poissonprosess med intensitet $\\lambda_A$ (per døgn), og at feil av type B kommer ifølge en poissonprosess med intensitet $\\lambda_B$ (per døgn). Dessuten antar de at feil av type A og type B oppstår uavhengig av hverandre. La $X_A$ og $X_B$ våre henholdsvis antall feil som vil oppstå av type A og av type B i løpet av et år (365 døgn)."
   ]
  },
  {
   "cell_type": "markdown",
   "id": "8a807ae3-bec7-4e63-965a-7489e318ffa1",
   "metadata": {},
   "source": [
    "### Deloppgave a) **\n",
    "Dersom $\\lambda_A=\\frac{3}{73}=0.0411$ og $\\lambda_B=\\frac{1}{73}=0.0137$, finn\n",
    "\n",
    "\\begin{align*}\n",
    "    E[X_A],\\ \\ \\ \\ P(X_A\\leq 15),\\ \\ \\ \\ P(X_A\\leq 15,X_B\\leq 10)\\ \\ \\ \\\n",
    "        \\text{og}\\ \\ \\ \\ P(X_A\\leq 15|X_B\\leq 10).\n",
    "\\end{align*}\n",
    "#### Her er deloppgave a) slutt.\n",
    "La $Z=X_A+X_B$ være totalt antall feil som oppstår i løpet av et år. "
   ]
  },
  {
   "cell_type": "markdown",
   "id": "14100c35",
   "metadata": {},
   "source": [
    "### Deloppgave b)\n",
    "I forelesning ble det vist at summen av to uavhengige Poissonfordelte stokastiske variabler (med ulike rater) også er Poissonfordelt. Bruk nå momentgenererende funksjoner til å vise at summen av to uavhengige Poissonfordelte stokastiske variabler er Poissonfordelt. "
   ]
  },
  {
   "cell_type": "markdown",
   "id": "be1975c4-336f-4cb8-b9ea-0228c407c981",
   "metadata": {},
   "source": [
    "### Deloppgave c) **\n",
    "Finn den betingede fordelingen for antall feil av type $A$ i løpet av et år, gitt at totalt antall\n",
    "    feil i løpet av dette året var lik et gitt tall $z$, dvs finn et uttrykk for\n",
    "\\begin{align*}\n",
    "    f_{X_A|Z}(x_A|z) = P(X_A=x_A|Z=z).\n",
    "\\end{align*}\n",
    "\n",
    "Kan du gjenkjenne denne betingede fordelingen som en fordeling vi har diskutert?"
   ]
  },
  {
   "cell_type": "markdown",
   "id": "8ddc08f8",
   "metadata": {},
   "source": [
    "$$Besvarelse$$"
   ]
  },
  {
   "cell_type": "markdown",
   "id": "c8a8dea5",
   "metadata": {},
   "source": [
    "#### a)\n",
    "\n",
    "\\begin{align*}\n",
    "E[X_A] = \\lambda_A \\cdot t = \\frac{3}{73} \\cdot 365_{daga} = \\underline{15} \\\\\n",
    "\\end{align*}\n",
    "\n",
    "For å finne $P(X_A \\leq 15)$, bruker vi den kumulative distribusjonsfunksjonen (CDF) for en Poissonfordeling med parameter $\\lambda_A \\times 365$. Det sjekker vi i tavell for poissonfordeling med $\\mu$ = 15 og X = 15, som gir $0.5681$\n",
    "\n",
    "Siden $X_A$ og $X_B$ er uavhengige, kan vi finne $P(X_A \\leq 15, X_B \\leq 10)$ ved å multiplisere sannsynlighetene for hvert utfall:\n",
    "\n",
    "men først må vi lyse for $P(X_B \\leq 10) $\n",
    "\n",
    "\\begin{align*}\n",
    "\\mu = E[X_B] = \\lambda_B \\cdot t = \\frac{1}{73} \\cdot 365_{daga} = 5\\\\\n",
    "\\end{align*}\n",
    "Sjekker i tabell på samme måte og finner at $P(X_B \\leq 10) = 0.9863$\n",
    "\n",
    "\\begin{align*}\n",
    "P(X_A \\leq 15, X_B \\leq 10) = P(X_A \\leq 15) \\cdot P(X_B \\leq 10) = 0.5681 \\cdot 0.9863 \\approx 0.\\underline{5603}\n",
    "\\end{align*}\n",
    "\n",
    "for å finne $P(X_A\\leq 15|X_B\\leq 10)$ bruker vi at eigneskapen for uavhengige variable gir\n",
    "\\begin{align*}\n",
    "P(X_A\\leq 15|X_B\\leq 10) = P(X_A \\leq 15) = \\underline{0.5681}\n",
    "\\end{align*}\n"
   ]
  },
  {
   "cell_type": "markdown",
   "id": "f8428ec5",
   "metadata": {},
   "source": [
    "#### b)\n",
    "\n",
    "For å vise at summen av to uavhengige Poissonfordelte stokastiske variabler er Poissonfordelt ved hjelp av momentgenererende funksjoner (MGF), starta vi med å definere dei to variablene og deira momentgenererande funksjona. \n",
    "\n",
    "La $X$ og $Y$ vere to uavhengige poissonfordelte variabla med intensitet $\\lambda_X$ og $\\lambda_Y$. Momentgenererande funksjonen for Poissonfordel stokatisk variabel er gitt ved:\n",
    "\\begin{align*}\n",
    "M_X(t) = exp(\\lambda_X(e^t-1))\\\\\n",
    "M_Y(t) = exp(\\lambda_Y(e^t-1))\\\\\n",
    "\\end{align*}\n",
    "\n",
    "når vi ser på summen av $X$ og $Y$, $Z = X + Y$, ynskjer vi å finne momentgenererende funksjonen for $Z$ som er $M_Z(t)$.\n",
    "\n",
    "Sidan $X$ og $Y$ er uavhengige kan vi skrive momentgenererende funksjoner for $Z$  som produkt av momentgenererende funksjonane $X$ og $Y$.\n",
    "\\begin{align*}\n",
    "M_Z(t) = M_X(t) \\cdot M_Y(t)\\\\\n",
    "M_Z(T) = exp(\\lambda_X(e^t-1)) \\cdot exp(\\lambda_Y(e^t-1))\\\\\n",
    "M_Z(T) = exp(\\lambda_X(e^t-1)+\\lambda_Y(e^t-1))\\\\\n",
    "M_Z(T) = exp((\\lambda_X+\\lambda_Y)(e^t-1))\n",
    "\\end{align*}\n",
    "\n",
    "Ditta uttrykket $M_Z(t)$ viser at to uavhengige poissonfordelte variabla er fordelt med intensiteten $\\lambda_X + \\lambda_Y$\n",
    "\n"
   ]
  },
  {
   "cell_type": "markdown",
   "id": "be398b1c",
   "metadata": {},
   "source": [
    "#### c)\n",
    "\n",
    "Vi veit at ved antall feil $Z=z$, kan feil av type $A$ og type $B$ sjåast på som fordelinga av $z$ feil i to kategoria basert på sansynligheta for en gitt feil tillhører en av kategoiane. Det er en binomisk situasjon der kvar $z$ feil kan katogoriserast som type $A$ med sansyn $p$ og type $B$ med sansyn $(1-p)$ der $p$ er sansynligheten for at ein feil som oppstår er av type $A$.\n",
    "\n",
    "Sannsynligheita $p$ kan finnast ved å sjå på dei to intensitetane $\\lambda_A$ og $\\lambda_B$. \n",
    "$$p = \\frac{\\lambda_A}{\\lambda_A + \\lambda_B}$$\n",
    "\n",
    "dermede blir den betinga fordelinga av $X_A$ gitt $Z=z$ ein binomisk fordeling $\\text{Bin}(z,p)$ der $z$ er antall forsøk og $p$ er sansynligheten for suksess i kvart forsøk:\n",
    "\n",
    "$$f_{X_A|Z}(x_A|z) = \\binom{z}{x_A}p^{x_A}(1-p)^{z-x_A}$$\n",
    "Ditta vise at den betinga fordelinga av antall feil av type $A$, gitt det totale antall feil, er en binomisk fordeling, som er en fordeling vi har diskutert tidligere.\n"
   ]
  },
  {
   "cell_type": "markdown",
   "id": "30934338-a723-4160-ac11-86e0a80d7ed0",
   "metadata": {},
   "source": [
    "## Oppgave 2 **\n",
    "La $X$ være fødselsvekt i gram til et tilfeldig barn i Norge. Anta at $X$ er normalfordelt med \n",
    "forventningsverdi $\\mu=E[X]=3500$ og standardavvik $\\sigma = \\text{SD}[X]=570$.\n",
    "\n"
   ]
  },
  {
   "cell_type": "markdown",
   "id": "0fe7864d-4f65-4827-a202-80e7cb0d6a5d",
   "metadata": {},
   "source": [
    "### Deloppgave a)\n",
    "Finn sannsynlighetene\n",
    "    \n",
    "\\begin{align*}\n",
    "    P(X\\geq 3000),\\ &\\ \\ P(3200 \\leq X < 4000), \\\\\n",
    "  P(X\\geq 3500|X\\geq 3000)\n",
    "    \\ \\ \\ &\\text{og}\\ \\ \\ P(X\\leq 4000|X\\geq 3200).\n",
    "\\end{align*}"
   ]
  },
  {
   "cell_type": "markdown",
   "id": "c5b0d915-4149-42ae-beaa-7f02f4d3374f",
   "metadata": {},
   "source": [
    "#### Her er deloppgave a) slutt\n",
    "Et barn blir klassifisert som undervektig dersom fødselsvekta er under $c$ gram, der $c$ velges slik at\n",
    "\n",
    "\\begin{align*}\n",
    "  P(X<c) = 0.01.\n",
    "\\end{align*}\n",
    "\n",
    "La $Y$ være antall av $n=100$ barn i Norge som var undervektige ved fødselen."
   ]
  },
  {
   "cell_type": "markdown",
   "id": "fd6cebbd-611d-4679-bf89-58bd95e69486",
   "metadata": {},
   "source": [
    "### Deloppgave b)\n",
    "* Finn verdien til $c$.\n",
    "* Hvilke antagelser må du gjøre (i tillegg til de som er spesifisert over) for at $Y$ skal være\n",
    "    binomisk fordelt?\n",
    "* Forutsatt at $Y$ er binomisk fordelt, finn $P(Y\\geq 1)$ og $P(Y\\geq 2|Y\\geq 1)$."
   ]
  },
  {
   "cell_type": "markdown",
   "id": "4212b901",
   "metadata": {},
   "source": [
    "$$Besvarelse$$"
   ]
  },
  {
   "cell_type": "markdown",
   "id": "0ef2293f",
   "metadata": {},
   "source": [
    "### Notat\n",
    "\n",
    "Trinn for å lese av Z-tabellen:\n",
    "Finn Z-scoren: Beregn Z-scoren for verdien du er interessert i ved hjelp av formelen \n",
    "$$ Z = \\frac{X-\\mu}{\\sigma} $$ \n",
    "​\n",
    "Rund av Z-scoren til to desimaler.\n",
    "\n",
    "Identifiser raden: Den første delen av Z-scoren (før desimalpunktet og det første sifferet etter desimalpunktet) finner du langs radene i tabellen. For eksempel, hvis Z-scoren er -1.85, ser du på raden som starter med -1.8.\n",
    "\n",
    "Identifiser kolonnen: Det andre sifferet etter desimalpunktet i Z-scoren finner du i kolonnene øverst i tabellen. For Z-scoren -1.85, ser du etter kolonnen merket med .05."
   ]
  },
  {
   "cell_type": "markdown",
   "id": "766b7511",
   "metadata": {},
   "source": [
    "#### a)\n",
    "For å finne $P(X\\geq 3000)$ kan vi bruke $Z$-transformasjon der $Z = \\frac{X-\\mu}{\\sigma}$, og så finne $P(Z\\geq Z_{3000})$\n",
    "$$Z=\\frac{3000-3500}{570} = -\\frac{50}{57} = -0.87719 \\approx -0.88$$\n",
    "Så må vi finne ved hjelp av tabell for standar fordeling med rad = -.8 og kolonne .08\n",
    "$$ P(Z\\geq z) = 1 - 0.1894 = \\underline{0.8106}$$  \n",
    "\n",
    "For $P(3200 \\leq X < 4000)$ beregner vi dei to Z scorane og finner sannsynet mellom dei.\n",
    "\\begin{align*}\n",
    "Z_{3200} = \\frac{3200-3500}{570}\\approx -0.53 \\Rightarrow \\Phi (z) = .2981 \\\\\n",
    "Z_{4000} = \\frac{4000-3500}{570}\\approx 0.88 \\Rightarrow \\Phi (z) = .8106\\\\\\\\\n",
    "P(3200 \\leq X < 4000) = \\Phi (0.88) - \\Phi(-0.53) = .8106-.2981 = \\underline{0.5125}\n",
    "\\end{align*}\n",
    "\n",
    "For $P(X\\geq 3500|X\\geq 3000)$, som er ein betinget sansynlighet. Kan vi bruke at vi allerede har $P(X\\geq 3000)$ og trenger\n",
    "$P(X\\geq 3500)$, som ein kan bruke til å beregne den betingede sannsynligheten.\n",
    "\n",
    "\\begin{align*}\n",
    "Z_{3500} = \\frac{3500-3500}{570}=0 \\Rightarrow \\Phi (z) = .5000 \\\\\n",
    "P(X\\geq 3500|X\\geq 3000) = \\frac{P(X\\geq 3500)}{P(X\\geq 3000)}= \\frac{.5}{.8106} \\approx \\underline{0.6168}\n",
    "\\end{align*}\n",
    "\n",
    "For $P(X\\leq 4000|X\\geq 3200)$ bruker vi definisjonen av betinget sannsynlighet. Den betingede sannsynligheten $P(A∣B)$ er sannsynligheten for hendelsen A gitt at hendelsen B har inntruffet, og den beregnes som:\n",
    "$$P(A|B) = \\frac{P(A\\cap B)}{P(B)}$$\n",
    "I ditta tilfellet blir det då \n",
    "$$ P(X\\leq 4000|X\\geq 3200) = \\frac{P(3200 \\leq X < 4000)}{P(X\\geq 3000)} = \\frac{.5125}{1-.2981} \\approx \\underline{0.7302}$$\n",
    "\n"
   ]
  },
  {
   "cell_type": "markdown",
   "id": "6d95f733-edca-4082-b5b4-2d0de74348f9",
   "metadata": {},
   "source": [
    "## Oppgave 3 *\n",
    "Betrakt en poissonprosess med intensitet $\\lambda$. La $Z_1$ være tidspunkt for den første \n",
    "hendelsen i prosessen, la $Z_2$ være tidspunkt for den andre hendelsen i prosessen, og tilsvarende \n",
    "videre slik at $Z_k$ er tidspunkt for hendelse nummer $k$ i prosessen.\n",
    "\n",
    "La $X_1=Z_1$ og for $k=2,3,\\ldots$ la\n",
    "\n",
    "\\begin{align*}\n",
    "X_k = Z_k - Z_{k-1}.\n",
    "\\end{align*}\n",
    "\n",
    "Dermed har vi altså at $X_1$ er tid til første hendelse i poissonprosessen, og for $k=2,3,\\ldots$ er $X_k$ tid mellom to etterfølgende hendelser i poissonprosessen. Vi vet dermed at $X_1,X_2,\\ldots$ er uavhengige og ekseponensialfordelte, alle med samme parameterverdi $\\lambda$."
   ]
  },
  {
   "cell_type": "markdown",
   "id": "8508b8d3",
   "metadata": {},
   "source": [
    "### Deloppgave a)\n",
    "Finn sannsynlighetene \n",
    "\n",
    "\\begin{align*}\n",
    "P(X_1 \\geq 2),\\ \\ \\ \\ P(X_1 + X_2 \\geq 4)\\ \\ \\ \\ \\text{og}\\ \\ \\ \\ P(X_1+X_2\\geq 4|X_1\\geq 2).\n",
    "\\end{align*}\n",
    "\n",
    "Finn først formler for sannsynlighetene som funksjon av $\\lambda$, og sett deretter inn $\\lambda=0.5$ og regn ut en numerisk verdi.\n",
    "\n",
    "<em>Merk at sannsynlighetene med to stokastiske variabler kan beregnes ved å sette opp dobbeltintegraler over egnet område eller ved å omskrive sannsynligheten til å omhandle en annen stokastisk variabel med en annen sannsynlighetsfordeling.</em>\n",
    "\n",
    "#### Her er deloppgave a) slutt."
   ]
  },
  {
   "cell_type": "markdown",
   "id": "25a508b4",
   "metadata": {},
   "source": [
    "I de to neste deloppgavene skal du bevise ved hjelp av induksjon at $Z_k$ er gammafordelt med parametre $\\alpha=k$ og $\\beta=\\frac{1}{\\lambda}$. Vi starter med å vise at påstanden er korrekt for $k=1$."
   ]
  },
  {
   "cell_type": "markdown",
   "id": "f8b8445d",
   "metadata": {},
   "source": [
    "### Deloppgave b)\n",
    "Sett $\\alpha=1$ og $\\beta=\\frac{1}{\\lambda}$ i sannsynlighetstettheten til en gammafordeling og vis at \n",
    "sannsynlighetstettheten da blir identisk med en eksponensialfordeling med parameter $\\lambda$. <em>Merk: \n",
    "Du har dermed bevist at $Z_1$ er gammafordelt med parametre $\\alpha=1$ og $\\beta=\\frac{1}{\\lambda}$</em>.\n"
   ]
  },
  {
   "cell_type": "markdown",
   "id": "67375fcf",
   "metadata": {},
   "source": [
    "### Deloppgave c)\n",
    "Anta så at påstanden vi ønsker å bevise er korrekt for $k=n-1$, dvs vi antar at $Z_{n-1}$ er gammafordelt \n",
    "med parametre $\\alpha=n-1$ og $\\beta=\\frac{1}{\\lambda}$. Merk dessuten at vi vet at $Z_n = Z_{n-1}+X_n$ \n",
    "og at $Z_{n-1}$ og $X_n$ er uavhengige stokastiske variabler.\n",
    "\n",
    "Benytt setningen om total sannsynlighet (for kontinuerlige stokastiske variabler) til å vise at da blir \n",
    "$Z_n$ gammafordelt med parametre $\\alpha=n$ og $\\beta=\\frac{1}{\\lambda}$.\n",
    "\n",
    "<em>Merk: Ved induksjon har du dermed bevist, for alle $k=1,2,\\ldots$, at $Z_k$ er gammafordelt med \n",
    "parametre $\\alpha=k$ og $\\beta=\\frac{1}{\\lambda}$.</em>\n"
   ]
  },
  {
   "cell_type": "markdown",
   "id": "b810aea6",
   "metadata": {},
   "source": [
    "$$Besvarelse$$\n",
    "\n",
    "a)\n",
    "1. Hendelsane $X_k$ er eksponentialtfordelt, så vi kan integrere sannsynlighetstetthetsfunksjonen for \n",
    "eksponensialfordelingen for en variabel $X$ med rate $\\lambda = \\frac{1}{\\beta}$,  (pdf) $f(x) = \\lambda e^{-\\lambda x}$ for $x \\geq 0$. Sannsynligheten for at $X_1$ er større enn eller lik 2 er gitt ved den kumulative distribusjonsfunksjonen (CDF) komplement, dvs., $P(X_1 \\geq 2) = 1 - F(2)$, hvor $F(x) = \\int f(x)dx$ er CDF for eksponensialfordelingen.\n",
    "\\begin{gather*}\n",
    "P(X_1\\geq 2) = \\int_{2}^{\\infty}  \\lambda e^{-\\lambda t}dt\\\\\n",
    "= [e^{-\\lambda t}]_{2}^{\\infty} = 0 +  e^{-2\\lambda }\\\\\\\\\n",
    "\\text{setter inn for}\\lambda = 0.5\\\\\n",
    "P(X_1\\geq 2) = e^{-1} \\approx 0.3679\n",
    "\\end{gather*}\n",
    "\n",
    "2. Summen av to eksponentialfordelte variabla med samme intensitet $\\lambda$ følger ein gammafordeling med parameter $\\alpha=2$ og $\\beta=\\frac{1}{\\lambda}$. så vi kan finne $ P(X_1 + X_2 \\geq 4)$ ved å integrere sannsynlighetstetthetsfunksjonen for ein gammafordeling mellom $4$ og $\\infty$ med dsse parmaeterane.\n",
    "sannsynlighetstetthetsfunksjonen for ein gammafordeling er $ \\frac{x^{\\alpha -1}e^{-\\frac{x}{\\beta}}}{\\beta^{\\alpha}\\Gamma(\\alpha)}$, og om vi setter inn verdiane for $\\alpha=2$ og $\\beta=\\frac{1}{\\lambda}$ og bruker at $\\Gamma(2)=1$ står vi igjen med at $f(x) = \\lambda^2  x e^{-\\lambda x}$\n",
    "\\begin{gather*}\\\\\n",
    "P(X_1 + X_2 \\geq 4) = \\int_{4}^{\\infty} \\lambda^2 x e^{-\\lambda x}\\\\\\\\\n",
    "\\text{bruker delvis integrasjon}\\\\\n",
    "u = x \\Rightarrow \\dot{u} = 1\\\\\n",
    "\\dot{v} = \\lambda^2 e^{-\\lambda x} \\Rightarrow v = -\\lambda  x e^{-\\lambda x}\\\\\\\\\n",
    "F(x) = [-\\lambda  x e^{-\\lambda x}]_4^{\\infty} - \\int_{4}^{\\infty} -\\lambda x e^{-\\lambda x}\\\\\n",
    "F(x)=0+4\\lambda e^{-4\\lambda}- [-e^{-\\lambda x}]_4^{\\infty}\\\\\n",
    "F(x)= e^{-4\\lambda}(1+4\\lambda)\\\\\\\\\n",
    "\\text{setter inn for} \\lambda = 0.5\\\\\n",
    "P(X_1 + X_2 \\geq 4) = 0.4060\n",
    "\\end{gather*}\n",
    "\n",
    "3. \n",
    "\n",
    "\\begin{gather*}\n",
    "P(X_1+X_2\\geq 4|X_1\\geq 2) = \\frac{P(X_1+X_2\\geq 4 \\ \\cap \\ X_1\\geq 2)}{P(X_1\\geq 2)} \\\\\n",
    "\\end{gather*}\n",
    "$P(X_1+X_2\\geq 4 \\ \\cap \\ X_1\\geq 2)$ er det samme som snitte der $2\\leq X_1\\leq 4$ samtidig som summen av $X_1$ og $X_2$ er 4, pluss snittet av at summen av $X_1$ og $X_2$ er 4 menst $X_1\\geq 4$ som er det samme som sansynligheten for at $X_1\\geq 4$. altså er: \n",
    "\\begin{gather*}\n",
    "P(X_1+X_2\\geq 4 \\ \\cap \\ X_1\\geq 2) = P(X_1+X_2 \\geq 4 \\ \\cap \\  2\\leq X_1\\leq 4) + P(X_1\\geq 4)\\\\\n",
    "\\end{gather*}\n",
    "$P(X_1+X_2 \\geq 4 \\ \\cap \\  2\\leq X_1\\leq 4)$ kan reknast ut med eit dobbelt integral der $f_{X_2}$ integrerast fra $4-X_1$ til $\\infty$ og $f_{X_1}$ integrerast fra $2$ til $\\infty$. Vi har altså følgende likning:\n",
    "\\begin{gather*}\n",
    "P(X_1+X_2\\geq 4|X_1\\geq 2) = \\frac{\\int_{2}^{4}f_{X_1}(x_1)\\int_{4-x_1}^{\\infty}f_{X_2}(x_2)dx_2\\ dx_1 + \\int_{4}^{\\infty}  \\lambda e^{-\\lambda x_1}dx_1}{\\int_{2}^{\\infty}  \\lambda e^{-\\lambda x_1}dx_1} \\\\\n",
    "\\end{gather*}\n",
    "\n",
    "\n",
    "integralet $\\int_{2}^{\\infty}  \\lambda e^{-\\lambda t}dt = e^{-2\\lambda }$ har vi løyst.\n",
    "\n",
    "Og integralet $\\int_{4}^{\\infty}  \\lambda e^{-\\lambda x_1}dx_1$ blir då = $e^{-4\\lambda}$\n",
    "\n",
    "så va det jævelen: $\\int_{2}^{4}f_{X_1}(x_1)\\int_{4-x_1}^{\\infty}f_{X_2}(x_2)dx_2\\ dx_1$. vi løyser først det innerste integralet\n",
    "\n",
    "\\begin{gather*}\n",
    "\\int_{4-x_1}^{\\infty}f_{X_2}(x_2)dx_2 = \\int_{4-x_1}^{\\infty}  \\lambda e^{-\\lambda x_2}dx_2 = e^{\\lambda(x_1-4)}\\\\\\\\\n",
    "\\Rightarrow \\int_{2}^{4}f_{X_1}(x_1)e^{\\lambda(x_1-4)} dx_1 = \\int_{2}^{4}\\lambda e^{-4\\lambda} dx_1 = [x_1\\lambda e^{-4\\lambda}]_2^4 = \\lambda e^{-4\\lambda}(4-2) \n",
    "\\end{gather*}\n",
    "\n",
    "Setter sammen alt ditta har vi at \n",
    "\\begin{gather*}\n",
    "P(X_1+X_2\\geq 4|X_1\\geq 2) = \\frac{2 \\lambda e^{-4\\lambda} + e^{-4\\lambda}}{ e^{-2\\lambda }} = e^{-2\\lambda}(2\\lambda+1)\\\\\\\\\n",
    "\\text{setter inn for} \\lambda = 0.5\\\\\n",
    "P(X_1+X_2\\geq 4|X_1\\geq 2) = \\frac{2}{e} = \\underline{\\underline{0.7357}}\n",
    "\\end{gather*}\n",
    "\n",
    "\n",
    "\n"
   ]
  },
  {
   "cell_type": "markdown",
   "id": "9a7b5c8e",
   "metadata": {},
   "source": [
    "b)\n",
    "or å vise at $Z_1$ er gammafordelt med $(\\alpha , \\beta) = (1, \\frac{1}{\\lambda})$ og at det er identisk med ein eksponentialfordeling med parameter $\\lambda$ starter vi med sansynlighetstettheten for ein gammafordeling.\n",
    "$$f(x;\\alpha , \\beta) = \\frac{x^{\\alpha -1}e^{-\\frac{x}{\\beta}}}{\\beta^{\\alpha}\\Gamma(\\alpha)}, \\quad \\text{for}\\ x>0 $$\n",
    "\n",
    "$\\Gamma(\\alpha)$ for heiltall er $(\\alpha-1)!$\n",
    "\n",
    "steg 1: setter inn for $(\\alpha , \\beta) = (1, \\frac{1}{\\lambda})$\n",
    "\\begin{gather*}\n",
    "f(x;1, \\frac{1}{\\lambda}) = \\frac{x^{0}e^{-\\lambda x}}{\\frac{1}{\\lambda} \\Gamma(1)} = \\lambda e^{-\\lambda x}, \\quad \\text{for}\\ x>0\\\\\n",
    "\\end{gather*}\n",
    "steg 2: samanlikne med sansynlighetstetthetsfunksjonen til eksponentialfordeling:\n",
    "$$f(x;\\lambda)= \\lambda e^{-\\lambda x}, \\quad \\text{for}\\ x>0$$\n",
    "vi kan sjå at dei er identiske $\\ddot{\\smile}$"
   ]
  },
  {
   "cell_type": "markdown",
   "id": "bf712987",
   "metadata": {},
   "source": [
    "c)\n",
    "For å vise at $Z_n$ er gammafordelt med parameter $(\\alpha , \\beta) = (n, \\frac{1}{\\lambda})$ gitt at $Z_{n-1}$ er gammalfordelt med samme $\\beta$ og $\\alpha = n-1$, og er uavhengig til $X_n$ kan vi benytte setningen om totalsansynlighet for kontinuerlig stokatisk variabla. $X_n$ er eksponentialfordelt med parameter $\\lambda$ som er eit spesialtilfelle av gammafordeling med  $(\\alpha , \\beta) = (1, \\frac{1}{\\lambda})$ \n",
    "\n",
    "For dei uavhengige stokatiske variablane $Y$ og $X$, der $Y$ er gammafordelt med parameter $\\alpha$ og $\\beta$, og $X$ er eksponentialfordelt med parameter $\\lambda = \\frac{1}{\\beta}$ er summen $Z=Y+X$ også gammafordelt. \n",
    "\n",
    "Det kan visast ved å berekne sansynlighetstetthetsfunksjonen (pdf) til $Z$ ved hjelp av folding av dei to snsynlighetstetthetsfunksjonane.\n",
    "Så la $f_Y(y)$ vere pdf for $Y$ og da $f_X(x) vere pdf for $X$. pdf for $Z$ vert då\n",
    "\\begin{gather*}\n",
    "f_Z(z) = \\int_{-\\infty}^{\\infty} f_Y(y)f_x(z-y)dy\n",
    "\\end{gather*}\n",
    "\n",
    "Fordi $Y$ og $X$ er uavhengige og ikkje tar negative verdia kan integralet endrast til \n",
    "\\begin{gather*}\n",
    "f_Z(z) = \\int_{0}^{z} f_Y(y)f_x(z-y)dy\n",
    "\\end{gather*}\n",
    "\n",
    "så har vi at $f_Y(y) = \\frac{\\lambda^{n-1}y^{n-2}e^{-\\lambda y}}{(n-2)!}$ og $f_X(x)= \\lambda e^{-\\lambda x}$\n",
    "\n",
    "det gir integralet \n",
    "\\begin{gather*}\n",
    "f_Z(z) = \\int_{0}^{z} \\frac{\\lambda^{n-1}y^{n-2}e^{-\\lambda y}}{(n-2)!}\\lambda e^{-\\lambda (z-x)}dy\n",
    "\\end{gather*}\n",
    "og vi kan trekke ut alt som ikkje har med $y$ å gjere\n",
    "\n",
    "\\begin{gather*}\n",
    "f_Z(z) = \\frac{\\lambda^{n}e^{-\\lambda z}}{(n-2)!} \\int_{0}^{z} y^{n-2} dy\n",
    "\\end{gather*}\n",
    "\n",
    "som integreres til \n",
    "\\begin{gather*}\n",
    "fZ(z) = \\frac{\\lambda^{n}e^{-\\lambda z}z^{n-1}}{(n-1)!}\n",
    "\\end{gather*}\n",
    "\n",
    "som er ein gammafordelt pdf med $(\\alpha , \\beta) = (n-1, \\frac{1}{\\lambda})$ \n"
   ]
  },
  {
   "cell_type": "markdown",
   "id": "c6f923c9-30de-4915-ad45-3f82acdfa9df",
   "metadata": {},
   "source": [
    "## Oppgave 4 *\n",
    "La $X$ være normalfordelt med forventningsverdi $\\mu$ og varians lik $\\sigma^2$, \n",
    "og la $Y=aX+b$ for to konstanter $a$ og $b$."
   ]
  },
  {
   "cell_type": "markdown",
   "id": "22383fa5-1c79-41d4-abfd-71a1620ef9dd",
   "metadata": {},
   "source": [
    "### Deloppgave a)\n",
    "Finn $E[Y]$ og $\\text{Var}[Y]$.\n",
    "\n",
    "Lag en pythonfunksjon som simulerer $n$ realisasjoner av $Y$ ved først å simulere $n$ realisasjoner av $X$ ved hjelp av pythonfunksjonen <em>numpy.random.normal</em>, og deretter regner ut tilsvarende verdier av $Y$. Funksjonen din skal ha fem input-parametre, $n$, $\\mu$, $\\sigma$, $a$ og $b$. \n",
    "\n",
    "For $\\mu=1$, $\\sigma=2$, $a=2$ og $b=0.5$, benytt pythonfunksjonen din til å generere $n=100\\ 000$ realisasjoner av $Y$. Lag et sannsynlighetshistogram av disse $n$ verdiene og spesifiser at sannsynlighetshistogrammet skal ha $100$ intervaller (se eventuelt kode fra skriftlig innlevering 2)."
   ]
  },
  {
   "cell_type": "markdown",
   "id": "01d7365f-1082-4ddd-b5ae-80e9e54ac435",
   "metadata": {},
   "source": [
    "Plott så sannsynlighetstettheten til en normalfordeling med forventningsverdi lik $E[Y]$ og varians lik $\\text\n",
    "{Var}[Y]$ i samme plott som histogrammet. Observer (dersom du har gjort ting rett) at sannsynlighetstettheten sammenfaller meget godt med sannsynlighetshistogrammet, og konkluder dermed med at det kan se ut som om $Y$ er normalfordelt.\n",
    "\n",
    "Gjenta gjerne denne simuleringsprosedyren også for noen andre verdier av $\\mu$, $\\sigma$, $a$ og $b$ og observer at sannsynlighetshistogrammet også da sammenfaller med tilhørende sannsynlighetstetthet."
   ]
  },
  {
   "cell_type": "code",
   "execution_count": 20,
   "id": "728218f5",
   "metadata": {},
   "outputs": [
    {
     "data": {
      "image/png": "[encoded data removed]",
      "text/plain": [
       "<Figure size 640x480 with 1 Axes>"
      ]
     },
     "metadata": {},
     "output_type": "display_data"
    }
   ],
   "source": [
    "import numpy as np\n",
    "import matplotlib.pyplot as plt\n",
    "import scipy.stats as stats\n",
    "\n",
    "def simulate_Y(n, mu, sigma, a, b):\n",
    "    X = np.random.normal(mu, sigma, n)\n",
    "    Y = a * X + b\n",
    "    return Y\n",
    "\n",
    "n = 100000\n",
    "mu = 1\n",
    "sigma = 2\n",
    "a = 2\n",
    "b = 0.5\n",
    "\n",
    "# Simulerer Y\n",
    "Y = simulate_Y(n, mu, sigma, a, b)\n",
    "\n",
    "# Beregner E[Y] og Var[Y] basert på de gitte parametrene\n",
    "E_Y = a * mu + b\n",
    "Var_Y = (a ** 2) * (sigma ** 2)\n",
    "\n",
    "plt.hist(Y, bins=100, density=True, alpha=1, color='g')\n",
    "\n",
    "# Plotter sannsynlighetstettheten for en normalfordeling med E[Y] og Var[Y]\n",
    "x = np.linspace(min(Y), max(Y), 1000)\n",
    "plt.plot(x, stats.norm.pdf(x, E_Y, np.sqrt(Var_Y)), 'r', linewidth=2)\n",
    "\n",
    "plt.title('Sannsynlighetshistogram vs. Normalfordeling')\n",
    "plt.xlabel('Y-verdier')\n",
    "plt.ylabel('Sannsynlighetstetthet')\n",
    "plt.show()\n"
   ]
  },
  {
   "cell_type": "markdown",
   "id": "fa64b8cb-4166-4e7f-bca1-e367f77bd463",
   "metadata": {},
   "source": [
    "### Deloppgave b)\n",
    "Benytt transformasjonsformelen til å utlede sannsynlighetstettheten til $Y$, og vis at denne kan skrives \n",
    "på formen av en normalfordelingstetthet med forventningsverdi og varians lik formelene du fant \n",
    "for henholdsvis $E[Y]$ og $\\text{Var}[Y]$ i punktet over.    \n",
    "\n",
    "<em>Merk: Du har nå vist at enhver <b>lineær</b> funksjon av en normalfordelt variabel er normalfordelt, slik simuleringsstudien du gjorde over antydet.</em>"
   ]
  },
  {
   "cell_type": "markdown",
   "id": "88bf4b3b",
   "metadata": {},
   "source": [
    "\\begin{gather*} \n",
    "Y=aX+b\\Rightarrow X = \\frac{Y-b}{a} = w(y)\\\\\\\\\n",
    "\\frac{dy}{dx} = w'(y) = \\frac{1}{a}\\\\\\\\\n",
    "f_x(x) = f_x(w(y)) \\cdot |w'(y)| = \\frac{\\exp\\left(-\\frac{\\left(\\frac{Y-b}{a}-\\mu\\right) ^2}{2\\sigma^2}\\right)}{\\sqrt{2\\pi}\\sigma a}\\\\\n",
    "\\end{gather*}\n",
    "\n",
    "løyser for $\\left(\\frac{Y-b}{a}-\\mu\\right) ^2$\n",
    "\\begin{gather*} \n",
    "\\left(\\frac{Y}{a}-\\frac{b}{a}-\\mu\\right) \\left(\\frac{Y}{a}-\\frac{b}{a}-\\mu\\right)\\\\\\\\\n",
    "  = \\frac{Y^2-2Yb-2Y\\mu a+b^2+2\\mu ba+a^2\\mu^2}{a^2}\\\\\\\\\n",
    "= \\frac{\\left(Y-\\left(a\\mu+b\\right) \\right)^2}{a^2}\n",
    "\\end{gather*}\n",
    "Så kan vi sette alt sammen\n",
    "\n",
    "\\begin{gather*} \n",
    "f_x(x) = \\frac{\\exp\\left(-\\frac{\\left(Y-\\left(a\\mu+b\\right) \\right)^2}{2\\sigma^2a^2}\\right)}{\\sqrt{2\\pi}\\sigma a}\\\\\n",
    "\\end{gather*}\n",
    "\n",
    "her blir $\\left(a\\mu+b\\right) = E[Y]$ som vi fant, og  $\\sigma^2a^2 = Var[Y]$\n",
    "\n"
   ]
  },
  {
   "cell_type": "markdown",
   "id": "64ec49c6",
   "metadata": {},
   "source": [
    "## Oppgave 5\n",
    "I denne oppgaven skal vi benytte momentgenerende funksjoner til å se på et spesialtilfelle av sentralgrenseteoremet."
   ]
  },
  {
   "cell_type": "markdown",
   "id": "f51089a6",
   "metadata": {},
   "source": [
    "Anta at vi har uavhengige og identisk fordelte stokastiske variabler $X_1,X_2,\\ldots,X_n$, det $X_i\\in\\{-1,1\\}$ og\n",
    "\n",
    "\\begin{align*}\n",
    "P(X_i=-1)=\\frac{1}{2} \\ \\ \\text{og}\\ \\  P(X_i=1)=\\frac{1}{2}.\n",
    "\\end{align*}\n",
    "\n",
    "Som vanlig lar vi \n",
    "\\begin{align*}\n",
    "\\overline{X} = \\frac{1}{n}\\sum_{i=1}^n X_i\n",
    "\\end{align*}\n",
    "være gjennomsnittet av $X_i$'ene. "
   ]
  },
  {
   "cell_type": "markdown",
   "id": "7de8e093",
   "metadata": {},
   "source": [
    "### Deloppgave a)\n",
    "Utled en formel for momentgenererende funksjon for $X_i$, $M_{X_i}(t)$.\n",
    "\n",
    "Benytt $M_{X_i}(t)$ til å finne $E[X_i]$ og $E[X_i^2]$. Bestem også $\\text{Var}[X_i]$.\n",
    "\n",
    "Bruk så regneregler for forventningsverdi og varians til å bestemme $E[\\overline{X}]$ og $\\text{Var}[\\overline{X}]$. \n",
    "\n",
    "#### Her er deloppgave a) slutt."
   ]
  },
  {
   "cell_type": "markdown",
   "id": "3aab5bbe",
   "metadata": {},
   "source": [
    "\n",
    "La $U$ betegne er standardisert versjon av $\\overline{X}$, dvs la\n",
    "\\begin{align*}\n",
    "U = \\frac{\\overline{X}-E[\\overline{X}]}{\\sqrt{\\text{Var}[\\overline{X}]}}.\n",
    "\\end{align*}\n",
    "\n",
    "### Deloppgave b)\n",
    "Benytt regneregler for momentgenererende funksjoner til å finne et uttrykk for $M_{\\overline{X}}(t)$.\n",
    "\n",
    "\n",
    "Benytt så uttrykkene du fant for $E[\\overline{X}]$ og $\\text{Var}[\\overline{X}]$ i deloppgave a), og \n",
    "igjen regneregler for momentgenererende funksjoner, til å finne et uttrykk for $M_U(t)$. Vis spesielt at $\\ln M_U(t)$ kan skrives på formen\n",
    "\n",
    "\\begin{align*}\n",
    "\\ln M_U(t) = n\\ln\\left(\\frac{\\exp\\left\\{\\frac{t}{\\sqrt{n}}\\right\\}+\\exp\\left\\{-\\frac{t}{\\sqrt{n}}\\right\\}}{2}\\right).\n",
    "\\end{align*}\n",
    "\n",
    "#### Her er deloppgave b) slutt.\n"
   ]
  },
  {
   "cell_type": "markdown",
   "id": "70e1c3f0",
   "metadata": {},
   "source": [
    "Sentralgrenseteoremet sier som kjent at fordelingen til $U$ vil konvergere mot en standard normalfordeling når \n",
    "$n\\rightarrow\\infty$. Dette betyr at $M_U(t)$ må konvergere mot den momentgenerende funksjonen til en\n",
    "standard normalfordelt variabel $Z\\sim N(0,1)$, som er gitt ved\n",
    "\n",
    "\\begin{align*}\n",
    "M_Z(t) = \\exp\\left\\{\\frac{t^2}{2}\\right\\}.\n",
    "\\end{align*}"
   ]
  },
  {
   "cell_type": "markdown",
   "id": "dd0fdcec",
   "metadata": {},
   "source": [
    "### Deloppgave c)\n",
    "For å undersøke om det ser ut til å stemme at $M_U(t)$ konvergerer mot $M_Z(t)$ når \n",
    "$n\\rightarrow\\infty$, lag et plott av begge funksjonene $M_U(t)$ og $M_Z(t)$ (for eksempel) i intervallet $t\\in[0,1]$. Lag plottet for ulike verdier av $n$, for eksempel for $n=4$, $n=10$ og $n=100$. Ser det ut til at sentralgrenseteoremet stemmer i dette tilfellet?"
   ]
  },
  {
   "cell_type": "markdown",
   "id": "509e0d80",
   "metadata": {},
   "source": [
    "Bevis så matematisk at $M_U(t)$ konvergerer mot $M_Z(t)$ ved å vise at \n",
    "\n",
    "\\begin{align*}\n",
    "\\lim_{n\\rightarrow\\infty}\\ln M_U(t) = \\frac{t^2}{2}.\n",
    "\\end{align*}\n",
    "\n",
    "<em>Hint: For å bestemme grensen trenger du å benytte L'Hopitals regel. For å komme frem trenger du faktisk å \n",
    "benytte L'Hoptals regel to ganger.</em>"
   ]
  },
  {
   "cell_type": "markdown",
   "id": "b1121e56",
   "metadata": {},
   "source": [
    "$$Besvarelse$$"
   ]
  },
  {
   "cell_type": "markdown",
   "id": "01ed830b",
   "metadata": {},
   "source": [
    "a)\n",
    "den momengenererande funksjonen for $X_i$ er gitt ved\n",
    "$$M_{x_i}(t) = E[e^{tx_i}] = \\sum _{i=0} e^{tx_i}f(x_i).$$\n",
    "dei uavhengige fordelte stokastiske variablane $X_1,X_2,...,X_i$ er identisk fordelt som enten -1 eller 1. og sansynligheten for kvart tilfelle er då $\\frac{1}{2}$\n",
    "som betyr at \n",
    "$$M_{x_i}(t) =  e^{-t}\\frac{1}{2}+e^{t}\\frac{1}{2}.$$\n",
    "\n",
    "\\begin{gather*}\\\\\n",
    "E[X_i] = \\dot{M}_{X_i}(t=0) = \\frac{1}{2}(-e^{-t}+e^{t}) = 0\\\\\\\\\n",
    "E[X_i^2] = \\ddot{M}_{X_i}(0) = \\frac{1}{2}(e^{-t}+e^{t}) = 1\\\\\\\\\n",
    "Var[X_i] = E[X_i^2]-(E[X_i])^2 = 1-0^2 = 1\\\\\\\\\n",
    "E[\\overline{X}] = E[\\frac{1}{n}\\sum_{i=1}^n X_i]\\\\\n",
    "\\text{Fordi alle }X_i\\text{ har lik forventningsverdi (identisk fordelt)}\\\\\n",
    "\\text{kan ein flytte ut summeteiknet og skrive uttrykket slik}\\\\\n",
    "E[\\overline{X}] = \\frac{1}{n}\\sum_{i=1}^n E[X_i] = \\frac{1}{n}\\sum_{i=1}^n 0 = 0\\\\\\\\\n",
    "Var[\\overline{X}] = Var[\\frac{1}{n}\\sum_{i=1}^n X_i] = \\frac{1}{n^2}\\sum_{i=1}^n Var[X_i] = \\frac{1}{n^2}n\\cdot 1 = \\frac{1}{n}\n",
    "\\end{gather*}"
   ]
  },
  {
   "cell_type": "markdown",
   "id": "bb66f234",
   "metadata": {},
   "source": [
    "b)\n",
    "Løser for $U$ utrykt med $X$\n",
    "\\begin{gather*}\n",
    "U = \\frac{\\overline{X}-E[\\overline{X}]}{\\sqrt{\\text{Var}[\\overline{X}]}} = \\frac{\\overline{X}-0}{\\sqrt{\\frac{1}{n}}}\\\\\\\\\n",
    "\\Rightarrow U = X\\sqrt{n}\n",
    "\\end{gather*}\n",
    "\n",
    "\\begin{gather*}\n",
    "M_{\\overline{X}}(t) = M_{(X_1+X_2+...+X_n)\\frac{1}{n}}(t)=M_{(X_1+X_2+...+X_n)}(t\\frac{1}{n})\n",
    "\\end{gather*}\n",
    "Sidan $X_i$ er identisk fordelt kan ditta skrivast som eit produkt fra $1$ til $n$\n",
    "\\begin{gather*}\n",
    "M_{\\overline{X}}(t) = \\prod_{i=1}^n M_{X_i}(t\\frac{1}{n})= ( \\frac{1}{2}(e^{-t\\frac{1}{n}}+e^{t\\frac{1}{n}}))^n\n",
    "\\end{gather*}\n",
    "\n",
    "No bruker vi Sentralgrense teoremet og $U$ utrykt med $X$ til å finne $U$ fodelinga av $n$ $x$-er.\n",
    "\\begin{gather*}\n",
    "M_U(t) = M_{\\overline{X}\\sqrt{n}}(t) = M_{\\overline{X}}(\\sqrt{n}t) = ( \\frac{1}{2}(e^{-t\\frac{1}{\\sqrt{n}}}+e^{t\\frac{1}{\\sqrt{n}}}))^n\n",
    "\\end{gather*}\n",
    "\n",
    "\n",
    "visst vi tar logaritmen av begge sider får vi at \n",
    "\\begin{gather*}\n",
    "\\ln M_U(t) = n\\ln\\left(\\frac{\\exp\\left\\{\\frac{t}{\\sqrt{n}}\\right\\}+\\exp\\left\\{-\\frac{t}{\\sqrt{n}}\\right\\}}{2}\\right)\n",
    "\\end{gather*}\n",
    "\n",
    "\n",
    "\n"
   ]
  },
  {
   "cell_type": "markdown",
   "id": "c8410f80",
   "metadata": {},
   "source": [
    "\\begin{gather*}\n",
    "\\lim_{n\\rightarrow\\infty}\\ln M_U(t) = \\lim_{n\\rightarrow\\infty}\\left(n\\ln\\left(\\frac{\\exp\\left\\{\\frac{t}{\\sqrt{n}}\\right\\}+\\exp\\left\\{-\\frac{t}{\\sqrt{n}}\\right\\}}{2}\\right)\\right)\n",
    "\\end{gather*}\n",
    "Vi kan skrive om funksjonen så den blir enklare å jobbe med. \n",
    "\n",
    "$\\frac{(e^{-x}+e^{x})}{2}$ er den trigonometiske identiteten til $\\cosh(x)$. det lar oss skrive \n",
    "\n",
    "\\begin{gather*}\n",
    "\\lim_{n\\rightarrow\\infty}\\ln M_U(t) = \\lim_{n\\rightarrow\\infty}\\left(n\\ln\\left(\\cosh(\\frac{t}{\\sqrt{n}})\\right)\\right) =  \\lim_{n\\rightarrow\\infty}\\left(\\frac{\\ln\\left(\\cosh(\\frac{t}{\\sqrt{n}})\\right)}{\\frac{1}{n}}\\right)\n",
    "\\end{gather*}\n",
    "\n",
    "vi ser at når $n \\rightarrow \\infty$ får vi $\\frac{0}{0}$. Det lar oss bruke L'Hopitals regel til å bestemme grenseverdien ved å derivere teller og nevner kvar for seg og finne grenseverdien på nytt.\n",
    "\n",
    "1. Derivere nemner:\n",
    "\\begin{gather*}\n",
    "\\left(\\frac{1}{n}\\right)'= -n^{-2}\n",
    "\\end{gather*}\n",
    "\n",
    "2. Derivere teller: \\\n",
    "definerer først $u(v) = \\cosh\\left(v\\right)$  og $v(n) = \\frac{t}{\\sqrt{n}}$\n",
    "\\begin{gather*}\n",
    "(\\ln(u))'= \\frac{1}{u(v)}u'(v)\\cdot v'(n) \\\\\n",
    "=\\frac{-\\frac{1}{2}tn^{-\\frac{3}{2}}\\sinh(v)}{\\cosh(v)}\\\\\n",
    "=-\\frac{1}{2}tn^{-\\frac{3}{2}}\\tanh\\left(\\frac{t}{\\sqrt{n}}\\right)\n",
    "\\end{gather*}\n",
    "\n",
    "det setter vi sammen for den nye grenseverdien.\n",
    "\\begin{gather*}\n",
    "\\lim_{n\\rightarrow\\infty}\\left( \\frac{tn^{-\\frac{3}{2}}\\tanh\\left(\\frac{t}{\\sqrt{n}}\\right)}{2n^{-2}} \\right) = \n",
    "\\lim_{n\\rightarrow\\infty}\\left( \\frac{t\\tanh\\left(\\frac{t}{\\sqrt{n}}\\right)}{\\frac{2}{n^{\\frac{1}{2}}}} \\right) \n",
    "\\end{gather*}\n",
    "\n",
    "Ditta går jo og mot $\\frac{0}{0}\\quad \\c{\\ddot{\\cap}}\\quad$  så vi må bruk L'Hopitals regel ein gong til\n",
    "\n",
    "1. Derivere nemner:\n",
    "\\begin{gather*}\n",
    "\\left(2n^{-\\frac{1}{2}}\\right)' = -n^{-\\frac{3}{2}}\n",
    "\\end{gather*}\n",
    "\n",
    "2. Derivere teller: \n",
    "\\begin{gather*}\n",
    "\\left( t\\tanh\\left(\\frac{t}{\\sqrt{n}}\\right) \\right)' = -\\frac{1}{2}t^2n^{-\\frac{3}{2}}\\left(1-\\tanh^2\\left(\\frac{t}{\\sqrt{n}}\\right)\\right)\n",
    "\\end{gather*}\n",
    "\n",
    "som vi setter sammen for å finne den nye grenseverdien \n",
    "\\begin{gather*}\n",
    "\\lim_{n\\rightarrow\\infty}\\left( \\frac{t^2n^{-\\frac{3}{2}}\\left(1-\\tanh^2\\left(\\frac{t}{\\sqrt{n}}\\right)\\right)}{2n^{-\\frac{3}{2}}} \\right) = \n",
    "\\lim_{n\\rightarrow\\infty}\\left( \\frac{t^2\\left(1-\\tanh^2\\left(\\frac{t}{\\sqrt{n}}\\right)\\right)}{2} \\right)\n",
    "\\end{gather*}\n",
    "\n",
    "vi ser at når $n \\rightarrow \\infty$ får vi\n",
    "\\begin{align*}\n",
    "\\lim_{n\\rightarrow\\infty}\\ln M_U(t) = \\frac{t^2}{2}\n",
    "\\end{align*}\n",
    "\n",
    "som betyr at når $n \\rightarrow \\infty$ vil \n",
    "\\begin{align*}\n",
    "M_U(t) = e^{\\frac{t^2}{2}}\n",
    "\\end{align*}\n",
    "\n",
    "som altså konverterer mot \n",
    "\n",
    "\\begin{align*}\n",
    "M_Z(t) = \\exp\\left\\{\\frac{t^2}{2}\\right\\}.\n",
    "\\end{align*}\n"
   ]
  },
  {
   "cell_type": "code",
   "execution_count": 21,
   "id": "c821ffd3",
   "metadata": {},
   "outputs": [
    {
     "name": "stdout",
     "output_type": "stream",
     "text": [
      "ja, eg ser det konvergerer mot Mz(t)\n"
     ]
    },
    {
     "data": {
      "image/png": "[encoded data removed]",
      "text/plain": [
       "<Figure size 640x480 with 1 Axes>"
      ]
     },
     "metadata": {},
     "output_type": "display_data"
    }
   ],
   "source": [
    "# Her kan du skrive koden for å plotte de to funksjonene.\n",
    "import numpy as np\n",
    "import matplotlib.pyplot as plt\n",
    "\n",
    "def Mz(t=t):\n",
    "    return np.exp(t**2/2)\n",
    "\n",
    "def Mu(n,t=t):\n",
    "    return ((np.exp(-t*n**(-(1/2))) + np.exp(t*n**(-(1/2))))/2)**n\n",
    "\n",
    "t = np.linspace(0,2,100)\n",
    "\n",
    "print(\"ja, eg ser det konvergerer mot Mz(t)\")\n",
    "plt.plot(t,Mu(4), label = \"n=4\")\n",
    "plt.plot(t,Mu(10), label = \"n=10\")\n",
    "plt.plot(t,Mu(100), label = \"n=100\")\n",
    "plt.plot(t,Mz(), label = \"MZ\")\n",
    "plt.legend()\n",
    "plt.show()\n",
    "\n",
    "\n"
   ]
  },
  {
   "cell_type": "markdown",
   "id": "5cc00d5c-48df-4317-8838-959cc83917cc",
   "metadata": {},
   "source": [
    "## Fasit:\n",
    "* Oppgave 1a): $15, 0.5681, 0.5603, 0.5681$\n",
    "* Oppgave 2a): $0.8106, 05125, 0.6168, 0.7302$\n",
    "* Oppgave 2b): $2174.2, 0.6340, 0.4168$\n",
    "* Oppgave 3a): $0.3679, 0.4060, 0.7358$\n",
    "* Oppgave 4a): $E[Y]=a\\mu+b, \\text{Var}[Y]=a^2\\sigma^2$\n",
    "* Oppgave 5a): $E[\\bar X]=0, \\:\\text{Var}[\\bar X]=\\frac 1 n $"
   ]
  }
 ],
 "metadata": {
  "kernelspec": {
   "display_name": "Python 3 (ipykernel)",
   "language": "python",
   "name": "python3"
  },
  "language_info": {
   "codemirror_mode": {
    "name": "ipython",
    "version": 3
   },
   "file_extension": ".py",
   "mimetype": "text/x-python",
   "name": "python",
   "nbconvert_exporter": "python",
   "pygments_lexer": "ipython3",
   "version": "3.11.5"
  }
 },
 "nbformat": 4,
 "nbformat_minor": 5
}
